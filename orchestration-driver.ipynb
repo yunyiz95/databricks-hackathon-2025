{
 "cells": [
  {
   "cell_type": "markdown",
   "metadata": {
    "application/vnd.databricks.v1+cell": {
     "cellMetadata": {},
     "inputWidgets": {},
     "nuid": "67c9cbdc-17d3-4393-86de-afef4cc5ab84",
     "showTitle": false,
     "tableResultSettingsMap": {},
     "title": ""
    }
   },
   "source": [
    "#Tool-calling Agent\n",
    "\n",
    "This is an auto-generated notebook created by an AI Playground export.\n",
    "\n",
    "This notebook uses [Mosaic AI Agent Framework](https://docs.databricks.com/generative-ai/agent-framework/build-genai-apps.html) to recreate your agent from the AI Playground. It  demonstrates how to develop, manually test, evaluate, log, and deploy a tool-calling agent in LangGraph.\n",
    "\n",
    "The agent code implements [MLflow's ChatAgent](https://mlflow.org/docs/latest/python_api/mlflow.pyfunc.html#mlflow.pyfunc.ChatAgent) interface, a Databricks-recommended open-source standard that simplifies authoring multi-turn conversational agents, and is fully compatible with Mosaic AI agent framework functionality.\n",
    "\n",
    " **_NOTE:_**  This notebook uses LangChain, but AI Agent Framework is compatible with any agent authoring framework, including LlamaIndex or pure Python agents written with the OpenAI SDK.\n",
    "\n",
    "## Prerequisites\n",
    "\n",
    "- Address all `TODO`s in this notebook."
   ]
  },
  {
   "cell_type": "code",
   "execution_count": 0,
   "metadata": {
    "application/vnd.databricks.v1+cell": {
     "cellMetadata": {
      "byteLimit": 2048000,
      "rowLimit": 10000
     },
     "inputWidgets": {},
     "nuid": "fe6cdeeb-bcb8-415e-9960-3600c30a1de9",
     "showTitle": false,
     "tableResultSettingsMap": {},
     "title": ""
    }
   },
   "outputs": [
    {
     "output_type": "stream",
     "name": "stdout",
     "output_type": "stream",
     "text": [
      "ERROR: pip's dependency resolver does not currently take into account all the packages that are installed. This behaviour is the source of the following dependency conflicts.\njupyter-server 1.23.4 requires anyio<4,>=3.1.0, but you have anyio 4.9.0 which is incompatible.\n\u001B[43mNote: you may need to restart the kernel using %restart_python or dbutils.library.restartPython() to use updated packages.\u001B[0m\nCollecting langchain-nimble\n  Downloading langchain_nimble-0.1.3-py3-none-any.whl (4.4 kB)\nCollecting langchain-openai\n  Downloading langchain_openai-0.3.21-py3-none-any.whl (65 kB)\n     ━━━━━━━━━━━━━━━━━━━━━━━━━━━━━━━━━━━━━━━━ 65.2/65.2 kB 3.1 MB/s eta 0:00:00\nRequirement already satisfied: langchain-core<0.4.0,>=0.3.15 in /local_disk0/.ephemeral_nfs/envs/pythonEnv-2df8a1ff-30ef-4a77-8d72-b9b8d8818ed8/lib/python3.10/site-packages (from langchain-nimble) (0.3.64)\nRequirement already satisfied: tiktoken<1,>=0.7 in /local_disk0/.ephemeral_nfs/envs/pythonEnv-2df8a1ff-30ef-4a77-8d72-b9b8d8818ed8/lib/python3.10/site-packages (from langchain-openai) (0.9.0)\nCollecting openai<2.0.0,>=1.68.2\n  Downloading openai-1.85.0-py3-none-any.whl (730 kB)\n     ━━━━━━━━━━━━━━━━━━━━━━━━━━━━━━━━━━━━━━━ 730.2/730.2 kB 8.4 MB/s eta 0:00:00\nRequirement already satisfied: langsmith<0.4,>=0.3.45 in /local_disk0/.ephemeral_nfs/envs/pythonEnv-2df8a1ff-30ef-4a77-8d72-b9b8d8818ed8/lib/python3.10/site-packages (from langchain-core<0.4.0,>=0.3.15->langchain-nimble) (0.3.45)\nRequirement already satisfied: PyYAML>=5.3 in /local_disk0/.ephemeral_nfs/envs/pythonEnv-2df8a1ff-30ef-4a77-8d72-b9b8d8818ed8/lib/python3.10/site-packages (from langchain-core<0.4.0,>=0.3.15->langchain-nimble) (6.0.2)\nRequirement already satisfied: typing-extensions>=4.7 in /local_disk0/.ephemeral_nfs/envs/pythonEnv-2df8a1ff-30ef-4a77-8d72-b9b8d8818ed8/lib/python3.10/site-packages (from langchain-core<0.4.0,>=0.3.15->langchain-nimble) (4.14.0)\nRequirement already satisfied: tenacity!=8.4.0,<10.0.0,>=8.1.0 in /local_disk0/.ephemeral_nfs/envs/pythonEnv-2df8a1ff-30ef-4a77-8d72-b9b8d8818ed8/lib/python3.10/site-packages (from langchain-core<0.4.0,>=0.3.15->langchain-nimble) (9.1.2)\nRequirement already satisfied: jsonpatch<2.0,>=1.33 in /local_disk0/.ephemeral_nfs/envs/pythonEnv-2df8a1ff-30ef-4a77-8d72-b9b8d8818ed8/lib/python3.10/site-packages (from langchain-core<0.4.0,>=0.3.15->langchain-nimble) (1.33)\nRequirement already satisfied: packaging<25,>=23.2 in /databricks/python3/lib/python3.10/site-packages (from langchain-core<0.4.0,>=0.3.15->langchain-nimble) (23.2)\nRequirement already satisfied: pydantic>=2.7.4 in /local_disk0/.ephemeral_nfs/envs/pythonEnv-2df8a1ff-30ef-4a77-8d72-b9b8d8818ed8/lib/python3.10/site-packages (from langchain-core<0.4.0,>=0.3.15->langchain-nimble) (2.11.5)\nRequirement already satisfied: distro<2,>=1.7.0 in /usr/lib/python3/dist-packages (from openai<2.0.0,>=1.68.2->langchain-openai) (1.7.0)\nRequirement already satisfied: tqdm>4 in /local_disk0/.ephemeral_nfs/envs/pythonEnv-2df8a1ff-30ef-4a77-8d72-b9b8d8818ed8/lib/python3.10/site-packages (from openai<2.0.0,>=1.68.2->langchain-openai) (4.67.1)\nRequirement already satisfied: anyio<5,>=3.5.0 in /local_disk0/.ephemeral_nfs/envs/pythonEnv-2df8a1ff-30ef-4a77-8d72-b9b8d8818ed8/lib/python3.10/site-packages (from openai<2.0.0,>=1.68.2->langchain-openai) (4.9.0)\nRequirement already satisfied: sniffio in /databricks/python3/lib/python3.10/site-packages (from openai<2.0.0,>=1.68.2->langchain-openai) (1.2.0)\nRequirement already satisfied: httpx<1,>=0.23.0 in /local_disk0/.ephemeral_nfs/envs/pythonEnv-2df8a1ff-30ef-4a77-8d72-b9b8d8818ed8/lib/python3.10/site-packages (from openai<2.0.0,>=1.68.2->langchain-openai) (0.28.1)\nCollecting jiter<1,>=0.4.0\n  Downloading jiter-0.10.0-cp310-cp310-manylinux_2_17_x86_64.manylinux2014_x86_64.whl (352 kB)\n     ━━━━━━━━━━━━━━━━━━━━━━━━━━━━━━━━━━━━━━ 352.5/352.5 kB 10.8 MB/s eta 0:00:00\nRequirement already satisfied: requests>=2.26.0 in /local_disk0/.ephemeral_nfs/envs/pythonEnv-2df8a1ff-30ef-4a77-8d72-b9b8d8818ed8/lib/python3.10/site-packages (from tiktoken<1,>=0.7->langchain-openai) (2.32.4)\nRequirement already satisfied: regex>=2022.1.18 in /local_disk0/.ephemeral_nfs/envs/pythonEnv-2df8a1ff-30ef-4a77-8d72-b9b8d8818ed8/lib/python3.10/site-packages (from tiktoken<1,>=0.7->langchain-openai) (2024.11.6)\nRequirement already satisfied: idna>=2.8 in /databricks/python3/lib/python3.10/site-packages (from anyio<5,>=3.5.0->openai<2.0.0,>=1.68.2->langchain-openai) (3.4)\nRequirement already satisfied: exceptiongroup>=1.0.2 in /local_disk0/.ephemeral_nfs/envs/pythonEnv-2df8a1ff-30ef-4a77-8d72-b9b8d8818ed8/lib/python3.10/site-packages (from anyio<5,>=3.5.0->openai<2.0.0,>=1.68.2->langchain-openai) (1.3.0)\nRequirement already satisfied: httpcore==1.* in /local_disk0/.ephemeral_nfs/envs/pythonEnv-2df8a1ff-30ef-4a77-8d72-b9b8d8818ed8/lib/python3.10/site-packages (from httpx<1,>=0.23.0->openai<2.0.0,>=1.68.2->langchain-openai) (1.0.9)\nRequirement already satisfied: certifi in /databricks/python3/lib/python3.10/site-packages (from httpx<1,>=0.23.0->openai<2.0.0,>=1.68.2->langchain-openai) (2022.12.7)\nRequirement already satisfied: h11>=0.16 in /local_disk0/.ephemeral_nfs/envs/pythonEnv-2df8a1ff-30ef-4a77-8d72-b9b8d8818ed8/lib/python3.10/site-packages (from httpcore==1.*->httpx<1,>=0.23.0->openai<2.0.0,>=1.68.2->langchain-openai) (0.16.0)\nRequirement already satisfied: jsonpointer>=1.9 in /local_disk0/.ephemeral_nfs/envs/pythonEnv-2df8a1ff-30ef-4a77-8d72-b9b8d8818ed8/lib/python3.10/site-packages (from jsonpatch<2.0,>=1.33->langchain-core<0.4.0,>=0.3.15->langchain-nimble) (3.0.0)\nRequirement already satisfied: orjson<4.0.0,>=3.9.14 in /local_disk0/.ephemeral_nfs/envs/pythonEnv-2df8a1ff-30ef-4a77-8d72-b9b8d8818ed8/lib/python3.10/site-packages (from langsmith<0.4,>=0.3.45->langchain-core<0.4.0,>=0.3.15->langchain-nimble) (3.10.18)\nRequirement already satisfied: zstandard<0.24.0,>=0.23.0 in /local_disk0/.ephemeral_nfs/envs/pythonEnv-2df8a1ff-30ef-4a77-8d72-b9b8d8818ed8/lib/python3.10/site-packages (from langsmith<0.4,>=0.3.45->langchain-core<0.4.0,>=0.3.15->langchain-nimble) (0.23.0)\nRequirement already satisfied: requests-toolbelt<2.0.0,>=1.0.0 in /local_disk0/.ephemeral_nfs/envs/pythonEnv-2df8a1ff-30ef-4a77-8d72-b9b8d8818ed8/lib/python3.10/site-packages (from langsmith<0.4,>=0.3.45->langchain-core<0.4.0,>=0.3.15->langchain-nimble) (1.0.0)\nRequirement already satisfied: annotated-types>=0.6.0 in /local_disk0/.ephemeral_nfs/envs/pythonEnv-2df8a1ff-30ef-4a77-8d72-b9b8d8818ed8/lib/python3.10/site-packages (from pydantic>=2.7.4->langchain-core<0.4.0,>=0.3.15->langchain-nimble) (0.7.0)\nRequirement already satisfied: pydantic-core==2.33.2 in /local_disk0/.ephemeral_nfs/envs/pythonEnv-2df8a1ff-30ef-4a77-8d72-b9b8d8818ed8/lib/python3.10/site-packages (from pydantic>=2.7.4->langchain-core<0.4.0,>=0.3.15->langchain-nimble) (2.33.2)\nRequirement already satisfied: typing-inspection>=0.4.0 in /local_disk0/.ephemeral_nfs/envs/pythonEnv-2df8a1ff-30ef-4a77-8d72-b9b8d8818ed8/lib/python3.10/site-packages (from pydantic>=2.7.4->langchain-core<0.4.0,>=0.3.15->langchain-nimble) (0.4.1)\nRequirement already satisfied: charset_normalizer<4,>=2 in /databricks/python3/lib/python3.10/site-packages (from requests>=2.26.0->tiktoken<1,>=0.7->langchain-openai) (2.0.4)\nRequirement already satisfied: urllib3<3,>=1.21.1 in /local_disk0/.ephemeral_nfs/envs/pythonEnv-2df8a1ff-30ef-4a77-8d72-b9b8d8818ed8/lib/python3.10/site-packages (from requests>=2.26.0->tiktoken<1,>=0.7->langchain-openai) (2.4.0)\nInstalling collected packages: jiter, openai, langchain-openai, langchain-nimble\nSuccessfully installed jiter-0.10.0 langchain-nimble-0.1.3 langchain-openai-0.3.21 openai-1.85.0\n\u001B[43mNote: you may need to restart the kernel using %restart_python or dbutils.library.restartPython() to use updated packages.\u001B[0m\n\u001B[43mNote: you may need to restart the kernel using %restart_python or dbutils.library.restartPython() to use updated packages.\u001B[0m\n\u001B[43mNote: you may need to restart the kernel using %restart_python or dbutils.library.restartPython() to use updated packages.\u001B[0m\n\u001B[43mNote: you may need to restart the kernel using %restart_python or dbutils.library.restartPython() to use updated packages.\u001B[0m\n\u001B[43mNote: you may need to restart the kernel using %restart_python or dbutils.library.restartPython() to use updated packages.\u001B[0m\n\u001B[43mNote: you may need to restart the kernel using %restart_python or dbutils.library.restartPython() to use updated packages.\u001B[0m\n"
     ]
    }
   ],
   "source": [
    "%pip install -U -qqqq mlflow langchain langgraph==0.3.4 databricks-langchain pydantic databricks-agents unitycatalog-langchain[databricks] uv\n",
    "%pip install -U langchain-nimble langchain-openai\n",
    "%pip install -U -qqqq mlflow backoff databricks-openai databricks-agents uv\n",
    "%pip install -U -qqqq mlflow databricks-langchain databricks-agents uv langgraph==0.3.4\n",
    "%pip install -U -qqqq langchain_mcp_adapters\n",
    "%pip install -U -qqqq mlflow langchain langgraph==0.3.4 pydantic unitycatalog-langchain[databricks] uv\n",
    "%pip install -U -q openai mlflow databricks-agents\n",
    "%restart_python\n",
    "dbutils.library.restartPython()"
   ]
  },
  {
   "cell_type": "markdown",
   "metadata": {
    "application/vnd.databricks.v1+cell": {
     "cellMetadata": {},
     "inputWidgets": {},
     "nuid": "522c21d8-cdc3-4aee-a32b-2a567017855c",
     "showTitle": false,
     "tableResultSettingsMap": {},
     "title": ""
    }
   },
   "source": [
    "## Define the agent in code\n",
    "Below we define our agent code in a single cell, enabling us to easily write it to a local Python file for subsequent logging and deployment using the `%%writefile` magic command.\n",
    "\n",
    "For more examples of tools to add to your agent, see [docs](https://docs.databricks.com/generative-ai/agent-framework/agent-tool.html)."
   ]
  },
  {
   "cell_type": "markdown",
   "metadata": {
    "application/vnd.databricks.v1+cell": {
     "cellMetadata": {},
     "inputWidgets": {},
     "nuid": "52b78c14-7198-415f-bfe1-d4731d42fc93",
     "showTitle": false,
     "tableResultSettingsMap": {},
     "title": ""
    }
   },
   "source": [
    "## Test the agent\n",
    "\n",
    "Interact with the agent to test its output. Since this notebook called `mlflow.langchain.autolog()` you can view the trace for each step the agent takes.\n",
    "\n",
    "Replace this placeholder input with an appropriate domain-specific example for your agent."
   ]
  },
  {
   "cell_type": "code",
   "execution_count": 0,
   "metadata": {
    "application/vnd.databricks.v1+cell": {
     "cellMetadata": {
      "byteLimit": 2048000,
      "rowLimit": 10000
     },
     "inputWidgets": {},
     "nuid": "0d08545f-ee5d-4f82-a6be-77023afe0996",
     "showTitle": false,
     "tableResultSettingsMap": {},
     "title": ""
    }
   },
   "outputs": [],
   "source": [
    "dbutils.library.restartPython()"
   ]
  },
  {
   "cell_type": "code",
   "execution_count": 0,
   "metadata": {
    "application/vnd.databricks.v1+cell": {
     "cellMetadata": {
      "byteLimit": 2048000,
      "rowLimit": 10000
     },
     "inputWidgets": {},
     "nuid": "9b0bfe29-10fe-4461-beee-74e6bfdd11f1",
     "showTitle": false,
     "tableResultSettingsMap": {},
     "title": ""
    }
   },
   "outputs": [
    {
     "output_type": "display_data",
     "data": {
      "application/vnd.databricks.v1+autoreload_discoverability": {
       "mode": "first_should_hint"
      }
     },
     "metadata": {},
     "output_type": "display_data"
    }
   ],
   "source": [
    "from typing import TypedDict, Optional\n",
    "from langgraph.graph import StateGraph, END\n",
    "from langchain_core.runnables import RunnableLambda\n",
    "\n",
    "# === STEP 1: Load your agent1 (tool-calling LangGraphChatAgent) ===\n",
    "from agent1 import agent as agent1_graph  # already compiled in agent1.py\n",
    "\n",
    "# === STEP 2: Load your agent2 (ReAct agent created using create_react_agent) ===\n",
    "from agent2 import load_agent\n",
    "agent2_react = await load_agent()\n",
    "# from agent2 import agent as agent2_react  # agent2.py exports a create_react_agent\n",
    "\n",
    "# === STEP 3: Define shared state ===\n",
    "class AgentState(TypedDict):\n",
    "    user_input: str\n",
    "    prompt_query: Optional[str]\n",
    "    final_output: Optional[str]\n",
    "\n",
    "# === STEP 4: Wrap agent1 execution as a node ===\n",
    "def run_agent1(state: AgentState) -> AgentState:\n",
    "    print(\"[Agent 1] Running tool-calling agent to generate structured query...\")\n",
    "    response = agent1_graph.invoke({\"messages\": [{\"role\": \"user\", \"content\": state[\"user_input\"]}]})\n",
    "    extracted_message = response[\"messages\"][-1][\"content\"]\n",
    "    return {\"user_input\": state[\"user_input\"], \"prompt_query\": extracted_message}\n",
    "\n",
    "# === STEP 5: Wrap agent2 execution as a node ===\n",
    "async def run_agent2(state: AgentState) -> AgentState:\n",
    "    print(f\"[Agent 2] Running ReAct agent with prompt: {state['prompt_query']}\")\n",
    "    response = await agent2_react.ainvoke({\n",
    "        \"messages\": f\"Find information about: {state['prompt_query']}. Provide a concise summary.\"\n",
    "    })\n",
    "    # await agent2_react.ainvoke({\n",
    "    #     \"messages\": f\"Find information about {query} and provide a concise summary.\"\n",
    "    # })\n",
    "    return {\n",
    "        \"user_input\": state[\"user_input\"],\n",
    "        \"prompt_query\": state[\"prompt_query\"],\n",
    "        \"final_output\": response.content\n",
    "    }\n",
    "\n",
    "# === STEP 6: Build LangGraph chain ===\n",
    "builder = StateGraph(AgentState)\n",
    "builder.add_node(\"ParseQueryWithAgent1\", RunnableLambda(run_agent1))\n",
    "builder.add_node(\"ExecuteSearchWithAgent2\", RunnableLambda(run_agent2))\n",
    "\n",
    "builder.set_entry_point(\"ParseQueryWithAgent1\")\n",
    "builder.add_edge(\"ParseQueryWithAgent1\", \"ExecuteSearchWithAgent2\")\n",
    "builder.add_edge(\"ExecuteSearchWithAgent2\", END)\n",
    "\n",
    "graph = builder.compile()\n"
   ]
  },
  {
   "cell_type": "code",
   "execution_count": 0,
   "metadata": {
    "application/vnd.databricks.v1+cell": {
     "cellMetadata": {
      "byteLimit": 2048000,
      "rowLimit": 10000
     },
     "inputWidgets": {},
     "nuid": "8550d075-3960-44ae-86df-9b54f0f1ac73",
     "showTitle": false,
     "tableResultSettingsMap": {},
     "title": ""
    }
   },
   "outputs": [
    {
     "output_type": "stream",
     "name": "stdout",
     "output_type": "stream",
     "text": [
      "[Agent 1] Running tool-calling agent to generate structured query...\n[Agent 2] Running ReAct agent with prompt: Based on your request, here's the outline for your needs:\n\n**Recommendation Request:**\n\"Recommend me top 3 brunch restaurants within 3 miles of downtown LA, available after 11:00 AM, specializing in pregnancy-safe Mexican cuisine or with the highest pregnancy food safety ratings.\"\n\n**Detailed Breakdown:**\n\n1. **Time Requirement:** After 11:00 AM (allowing time for your 10 AM clinic appointment)\n\n2. **Location Requirement:** Within 3 miles of downtown Los Angeles (easily accessible after your clinic visit)\n\n3. **Place Type:** Restaurant/brunch establishment\n\n4. **Other Requirements:** \n   - Pregnancy-safe food options (avoiding raw/undercooked items, unpasteurized products, high-mercury fish)\n   - Mexican cuisine preference OR establishments with excellent pregnancy food safety protocols\n   - Suitable for 33-week pregnant woman (comfortable seating, clean facilities, accommodating service)\n   - Fresh, well-cooked ingredients with proper food handling standards\n\nThis will help you find the perfect post-appointment brunch spot that caters to both your craving for Mexican food and your pregnancy dietary needs!\n"
     ]
    },
    {
     "output_type": "stream",
     "name": "stderr",
     "output_type": "stream",
     "text": [
      "ERROR:mcp.client.sse:Error in post_writer: \n"
     ]
    },
    {
     "output_type": "display_data",
     "data": {
      "application/databricks.mlflow.trace": "[\"tr-c8a5d95012b64da3be2109b60674d8d9\", \"tr-ccdcd52feebf49baa561c433ede7637e\", \"tr-a126a2f8e37842238504a78e88dc65e3\"]",
      "text/plain": [
       "[Trace(request_id=tr-c8a5d95012b64da3be2109b60674d8d9), Trace(request_id=tr-ccdcd52feebf49baa561c433ede7637e), Trace(request_id=tr-a126a2f8e37842238504a78e88dc65e3)]"
      ]
     },
     "metadata": {},
     "output_type": "display_data"
    },
    {
     "output_type": "display_data",
     "data": {
      "text/plain": [
       "\u001B[0;31m---------------------------------------------------------------------------\u001B[0m\n",
       "\u001B[0;31mAttributeError\u001B[0m                            Traceback (most recent call last)\n",
       "File \u001B[0;32m<command-5922834898495214>, line 5\u001B[0m\n",
       "\u001B[1;32m      1\u001B[0m user_input \u001B[38;5;241m=\u001B[39m \u001B[38;5;124m\"\"\"\u001B[39m\n",
       "\u001B[1;32m      2\u001B[0m \u001B[38;5;124mI\u001B[39m\u001B[38;5;124m'\u001B[39m\u001B[38;5;124mm 33 weeks pregnant, staying in downtown LA. I need to visit a clinic at 10am, and afterward, I’d love to have brunch nearby — maybe pregnancy-safe or Mexican food.\u001B[39m\n",
       "\u001B[1;32m      3\u001B[0m \u001B[38;5;124m\"\"\"\u001B[39m\n",
       "\u001B[0;32m----> 5\u001B[0m result \u001B[38;5;241m=\u001B[39m \u001B[38;5;28;01mawait\u001B[39;00m graph\u001B[38;5;241m.\u001B[39mainvoke({\u001B[38;5;124m\"\u001B[39m\u001B[38;5;124muser_input\u001B[39m\u001B[38;5;124m\"\u001B[39m: user_input})\n",
       "\u001B[1;32m      6\u001B[0m \u001B[38;5;28mprint\u001B[39m(result[\u001B[38;5;124m\"\u001B[39m\u001B[38;5;124mfinal_output\u001B[39m\u001B[38;5;124m\"\u001B[39m])\n",
       "\n",
       "File \u001B[0;32m/local_disk0/.ephemeral_nfs/envs/pythonEnv-2df8a1ff-30ef-4a77-8d72-b9b8d8818ed8/lib/python3.10/site-packages/langgraph/pregel/__init__.py:2420\u001B[0m, in \u001B[0;36mPregel.ainvoke\u001B[0;34m(self, input, config, stream_mode, output_keys, interrupt_before, interrupt_after, debug, **kwargs)\u001B[0m\n",
       "\u001B[1;32m   2418\u001B[0m \u001B[38;5;28;01melse\u001B[39;00m:\n",
       "\u001B[1;32m   2419\u001B[0m     chunks \u001B[38;5;241m=\u001B[39m []\n",
       "\u001B[0;32m-> 2420\u001B[0m \u001B[38;5;28;01masync\u001B[39;00m \u001B[38;5;28;01mfor\u001B[39;00m chunk \u001B[38;5;129;01min\u001B[39;00m \u001B[38;5;28mself\u001B[39m\u001B[38;5;241m.\u001B[39mastream(\n",
       "\u001B[1;32m   2421\u001B[0m     \u001B[38;5;28minput\u001B[39m,\n",
       "\u001B[1;32m   2422\u001B[0m     config,\n",
       "\u001B[1;32m   2423\u001B[0m     stream_mode\u001B[38;5;241m=\u001B[39mstream_mode,\n",
       "\u001B[1;32m   2424\u001B[0m     output_keys\u001B[38;5;241m=\u001B[39moutput_keys,\n",
       "\u001B[1;32m   2425\u001B[0m     interrupt_before\u001B[38;5;241m=\u001B[39minterrupt_before,\n",
       "\u001B[1;32m   2426\u001B[0m     interrupt_after\u001B[38;5;241m=\u001B[39minterrupt_after,\n",
       "\u001B[1;32m   2427\u001B[0m     debug\u001B[38;5;241m=\u001B[39mdebug,\n",
       "\u001B[1;32m   2428\u001B[0m     \u001B[38;5;241m*\u001B[39m\u001B[38;5;241m*\u001B[39mkwargs,\n",
       "\u001B[1;32m   2429\u001B[0m ):\n",
       "\u001B[1;32m   2430\u001B[0m     \u001B[38;5;28;01mif\u001B[39;00m stream_mode \u001B[38;5;241m==\u001B[39m \u001B[38;5;124m\"\u001B[39m\u001B[38;5;124mvalues\u001B[39m\u001B[38;5;124m\"\u001B[39m:\n",
       "\u001B[1;32m   2431\u001B[0m         latest \u001B[38;5;241m=\u001B[39m chunk\n",
       "\n",
       "File \u001B[0;32m/local_disk0/.ephemeral_nfs/envs/pythonEnv-2df8a1ff-30ef-4a77-8d72-b9b8d8818ed8/lib/python3.10/site-packages/langgraph/pregel/__init__.py:2305\u001B[0m, in \u001B[0;36mPregel.astream\u001B[0;34m(self, input, config, stream_mode, output_keys, interrupt_before, interrupt_after, debug, subgraphs)\u001B[0m\n",
       "\u001B[1;32m   2299\u001B[0m \u001B[38;5;66;03m# Similarly to Bulk Synchronous Parallel / Pregel model\u001B[39;00m\n",
       "\u001B[1;32m   2300\u001B[0m \u001B[38;5;66;03m# computation proceeds in steps, while there are channel updates\u001B[39;00m\n",
       "\u001B[1;32m   2301\u001B[0m \u001B[38;5;66;03m# channel updates from step N are only visible in step N+1\u001B[39;00m\n",
       "\u001B[1;32m   2302\u001B[0m \u001B[38;5;66;03m# channels are guaranteed to be immutable for the duration of the step,\u001B[39;00m\n",
       "\u001B[1;32m   2303\u001B[0m \u001B[38;5;66;03m# with channel updates applied only at the transition between steps\u001B[39;00m\n",
       "\u001B[1;32m   2304\u001B[0m \u001B[38;5;28;01mwhile\u001B[39;00m loop\u001B[38;5;241m.\u001B[39mtick(input_keys\u001B[38;5;241m=\u001B[39m\u001B[38;5;28mself\u001B[39m\u001B[38;5;241m.\u001B[39minput_channels):\n",
       "\u001B[0;32m-> 2305\u001B[0m     \u001B[38;5;28;01masync\u001B[39;00m \u001B[38;5;28;01mfor\u001B[39;00m _ \u001B[38;5;129;01min\u001B[39;00m runner\u001B[38;5;241m.\u001B[39matick(\n",
       "\u001B[1;32m   2306\u001B[0m         loop\u001B[38;5;241m.\u001B[39mtasks\u001B[38;5;241m.\u001B[39mvalues(),\n",
       "\u001B[1;32m   2307\u001B[0m         timeout\u001B[38;5;241m=\u001B[39m\u001B[38;5;28mself\u001B[39m\u001B[38;5;241m.\u001B[39mstep_timeout,\n",
       "\u001B[1;32m   2308\u001B[0m         retry_policy\u001B[38;5;241m=\u001B[39m\u001B[38;5;28mself\u001B[39m\u001B[38;5;241m.\u001B[39mretry_policy,\n",
       "\u001B[1;32m   2309\u001B[0m         get_waiter\u001B[38;5;241m=\u001B[39mget_waiter,\n",
       "\u001B[1;32m   2310\u001B[0m     ):\n",
       "\u001B[1;32m   2311\u001B[0m         \u001B[38;5;66;03m# emit output\u001B[39;00m\n",
       "\u001B[1;32m   2312\u001B[0m         \u001B[38;5;28;01mfor\u001B[39;00m o \u001B[38;5;129;01min\u001B[39;00m output():\n",
       "\u001B[1;32m   2313\u001B[0m             \u001B[38;5;28;01myield\u001B[39;00m o\n",
       "\n",
       "File \u001B[0;32m/local_disk0/.ephemeral_nfs/envs/pythonEnv-2df8a1ff-30ef-4a77-8d72-b9b8d8818ed8/lib/python3.10/site-packages/langgraph/pregel/runner.py:444\u001B[0m, in \u001B[0;36mPregelRunner.atick\u001B[0;34m(self, tasks, reraise, timeout, retry_policy, get_waiter)\u001B[0m\n",
       "\u001B[1;32m    442\u001B[0m t \u001B[38;5;241m=\u001B[39m tasks[\u001B[38;5;241m0\u001B[39m]\n",
       "\u001B[1;32m    443\u001B[0m \u001B[38;5;28;01mtry\u001B[39;00m:\n",
       "\u001B[0;32m--> 444\u001B[0m     \u001B[38;5;28;01mawait\u001B[39;00m arun_with_retry(\n",
       "\u001B[1;32m    445\u001B[0m         t,\n",
       "\u001B[1;32m    446\u001B[0m         retry_policy,\n",
       "\u001B[1;32m    447\u001B[0m         stream\u001B[38;5;241m=\u001B[39m\u001B[38;5;28mself\u001B[39m\u001B[38;5;241m.\u001B[39muse_astream,\n",
       "\u001B[1;32m    448\u001B[0m         configurable\u001B[38;5;241m=\u001B[39m{\n",
       "\u001B[1;32m    449\u001B[0m             CONFIG_KEY_SEND: partial(writer, t),\n",
       "\u001B[1;32m    450\u001B[0m             CONFIG_KEY_CALL: partial(call, t),\n",
       "\u001B[1;32m    451\u001B[0m         },\n",
       "\u001B[1;32m    452\u001B[0m     )\n",
       "\u001B[1;32m    453\u001B[0m     \u001B[38;5;28mself\u001B[39m\u001B[38;5;241m.\u001B[39mcommit(t, \u001B[38;5;28;01mNone\u001B[39;00m)\n",
       "\u001B[1;32m    454\u001B[0m \u001B[38;5;28;01mexcept\u001B[39;00m \u001B[38;5;167;01mException\u001B[39;00m \u001B[38;5;28;01mas\u001B[39;00m exc:\n",
       "\n",
       "File \u001B[0;32m/local_disk0/.ephemeral_nfs/envs/pythonEnv-2df8a1ff-30ef-4a77-8d72-b9b8d8818ed8/lib/python3.10/site-packages/langgraph/pregel/retry.py:128\u001B[0m, in \u001B[0;36marun_with_retry\u001B[0;34m(task, retry_policy, stream, configurable)\u001B[0m\n",
       "\u001B[1;32m    126\u001B[0m         \u001B[38;5;28;01mbreak\u001B[39;00m\n",
       "\u001B[1;32m    127\u001B[0m     \u001B[38;5;28;01melse\u001B[39;00m:\n",
       "\u001B[0;32m--> 128\u001B[0m         \u001B[38;5;28;01mreturn\u001B[39;00m \u001B[38;5;28;01mawait\u001B[39;00m task\u001B[38;5;241m.\u001B[39mproc\u001B[38;5;241m.\u001B[39mainvoke(task\u001B[38;5;241m.\u001B[39minput, config)\n",
       "\u001B[1;32m    129\u001B[0m \u001B[38;5;28;01mexcept\u001B[39;00m ParentCommand \u001B[38;5;28;01mas\u001B[39;00m exc:\n",
       "\u001B[1;32m    130\u001B[0m     ns: \u001B[38;5;28mstr\u001B[39m \u001B[38;5;241m=\u001B[39m config[CONF][CONFIG_KEY_CHECKPOINT_NS]\n",
       "\n",
       "File \u001B[0;32m/local_disk0/.ephemeral_nfs/envs/pythonEnv-2df8a1ff-30ef-4a77-8d72-b9b8d8818ed8/lib/python3.10/site-packages/langgraph/utils/runnable.py:583\u001B[0m, in \u001B[0;36mRunnableSeq.ainvoke\u001B[0;34m(self, input, config, **kwargs)\u001B[0m\n",
       "\u001B[1;32m    579\u001B[0m config \u001B[38;5;241m=\u001B[39m patch_config(\n",
       "\u001B[1;32m    580\u001B[0m     config, callbacks\u001B[38;5;241m=\u001B[39mrun_manager\u001B[38;5;241m.\u001B[39mget_child(\u001B[38;5;124mf\u001B[39m\u001B[38;5;124m\"\u001B[39m\u001B[38;5;124mseq:step:\u001B[39m\u001B[38;5;132;01m{\u001B[39;00mi \u001B[38;5;241m+\u001B[39m \u001B[38;5;241m1\u001B[39m\u001B[38;5;132;01m}\u001B[39;00m\u001B[38;5;124m\"\u001B[39m)\n",
       "\u001B[1;32m    581\u001B[0m )\n",
       "\u001B[1;32m    582\u001B[0m \u001B[38;5;28;01mif\u001B[39;00m i \u001B[38;5;241m==\u001B[39m \u001B[38;5;241m0\u001B[39m:\n",
       "\u001B[0;32m--> 583\u001B[0m     \u001B[38;5;28minput\u001B[39m \u001B[38;5;241m=\u001B[39m \u001B[38;5;28;01mawait\u001B[39;00m step\u001B[38;5;241m.\u001B[39mainvoke(\u001B[38;5;28minput\u001B[39m, config, \u001B[38;5;241m*\u001B[39m\u001B[38;5;241m*\u001B[39mkwargs)\n",
       "\u001B[1;32m    584\u001B[0m \u001B[38;5;28;01melse\u001B[39;00m:\n",
       "\u001B[1;32m    585\u001B[0m     \u001B[38;5;28minput\u001B[39m \u001B[38;5;241m=\u001B[39m \u001B[38;5;28;01mawait\u001B[39;00m step\u001B[38;5;241m.\u001B[39mainvoke(\u001B[38;5;28minput\u001B[39m, config)\n",
       "\n",
       "File \u001B[0;32m/local_disk0/.ephemeral_nfs/envs/pythonEnv-2df8a1ff-30ef-4a77-8d72-b9b8d8818ed8/lib/python3.10/site-packages/langchain_core/runnables/base.py:4798\u001B[0m, in \u001B[0;36mRunnableLambda.ainvoke\u001B[0;34m(self, input, config, **kwargs)\u001B[0m\n",
       "\u001B[1;32m   4781\u001B[0m \u001B[38;5;129m@override\u001B[39m\n",
       "\u001B[1;32m   4782\u001B[0m \u001B[38;5;28;01masync\u001B[39;00m \u001B[38;5;28;01mdef\u001B[39;00m \u001B[38;5;21mainvoke\u001B[39m(\n",
       "\u001B[1;32m   4783\u001B[0m     \u001B[38;5;28mself\u001B[39m,\n",
       "\u001B[0;32m   (...)\u001B[0m\n",
       "\u001B[1;32m   4786\u001B[0m     \u001B[38;5;241m*\u001B[39m\u001B[38;5;241m*\u001B[39mkwargs: Optional[Any],\n",
       "\u001B[1;32m   4787\u001B[0m ) \u001B[38;5;241m-\u001B[39m\u001B[38;5;241m>\u001B[39m Output:\n",
       "\u001B[1;32m   4788\u001B[0m     \u001B[38;5;124;03m\"\"\"Invoke this Runnable asynchronously.\u001B[39;00m\n",
       "\u001B[1;32m   4789\u001B[0m \n",
       "\u001B[1;32m   4790\u001B[0m \u001B[38;5;124;03m    Args:\u001B[39;00m\n",
       "\u001B[0;32m   (...)\u001B[0m\n",
       "\u001B[1;32m   4796\u001B[0m \u001B[38;5;124;03m        The output of this Runnable.\u001B[39;00m\n",
       "\u001B[1;32m   4797\u001B[0m \u001B[38;5;124;03m    \"\"\"\u001B[39;00m\n",
       "\u001B[0;32m-> 4798\u001B[0m     \u001B[38;5;28;01mreturn\u001B[39;00m \u001B[38;5;28;01mawait\u001B[39;00m \u001B[38;5;28mself\u001B[39m\u001B[38;5;241m.\u001B[39m_acall_with_config(\n",
       "\u001B[1;32m   4799\u001B[0m         \u001B[38;5;28mself\u001B[39m\u001B[38;5;241m.\u001B[39m_ainvoke,\n",
       "\u001B[1;32m   4800\u001B[0m         \u001B[38;5;28minput\u001B[39m,\n",
       "\u001B[1;32m   4801\u001B[0m         ensure_config(config),\n",
       "\u001B[1;32m   4802\u001B[0m         \u001B[38;5;241m*\u001B[39m\u001B[38;5;241m*\u001B[39mkwargs,\n",
       "\u001B[1;32m   4803\u001B[0m     )\n",
       "\n",
       "File \u001B[0;32m/local_disk0/.ephemeral_nfs/envs/pythonEnv-2df8a1ff-30ef-4a77-8d72-b9b8d8818ed8/lib/python3.10/site-packages/langchain_core/runnables/base.py:1991\u001B[0m, in \u001B[0;36mRunnable._acall_with_config\u001B[0;34m(self, func, input_, config, run_type, serialized, **kwargs)\u001B[0m\n",
       "\u001B[1;32m   1987\u001B[0m     \u001B[38;5;28;01mwith\u001B[39;00m set_config_context(child_config) \u001B[38;5;28;01mas\u001B[39;00m context:\n",
       "\u001B[1;32m   1988\u001B[0m         coro \u001B[38;5;241m=\u001B[39m acall_func_with_variable_args(\n",
       "\u001B[1;32m   1989\u001B[0m             func, input_, config, run_manager, \u001B[38;5;241m*\u001B[39m\u001B[38;5;241m*\u001B[39mkwargs\n",
       "\u001B[1;32m   1990\u001B[0m         )\n",
       "\u001B[0;32m-> 1991\u001B[0m         output: Output \u001B[38;5;241m=\u001B[39m \u001B[38;5;28;01mawait\u001B[39;00m coro_with_context(coro, context)\n",
       "\u001B[1;32m   1992\u001B[0m \u001B[38;5;28;01mexcept\u001B[39;00m \u001B[38;5;167;01mBaseException\u001B[39;00m \u001B[38;5;28;01mas\u001B[39;00m e:\n",
       "\u001B[1;32m   1993\u001B[0m     \u001B[38;5;28;01mawait\u001B[39;00m run_manager\u001B[38;5;241m.\u001B[39mon_chain_error(e)\n",
       "\n",
       "File \u001B[0;32m/local_disk0/.ephemeral_nfs/envs/pythonEnv-2df8a1ff-30ef-4a77-8d72-b9b8d8818ed8/lib/python3.10/site-packages/langchain_core/runnables/base.py:4730\u001B[0m, in \u001B[0;36mRunnableLambda._ainvoke\u001B[0;34m(self, value, run_manager, config, **kwargs)\u001B[0m\n",
       "\u001B[1;32m   4728\u001B[0m                     output \u001B[38;5;241m=\u001B[39m chunk\n",
       "\u001B[1;32m   4729\u001B[0m \u001B[38;5;28;01melse\u001B[39;00m:\n",
       "\u001B[0;32m-> 4730\u001B[0m     output \u001B[38;5;241m=\u001B[39m \u001B[38;5;28;01mawait\u001B[39;00m acall_func_with_variable_args(\n",
       "\u001B[1;32m   4731\u001B[0m         cast(\u001B[38;5;124m\"\u001B[39m\u001B[38;5;124mCallable\u001B[39m\u001B[38;5;124m\"\u001B[39m, afunc), value, config, run_manager, \u001B[38;5;241m*\u001B[39m\u001B[38;5;241m*\u001B[39mkwargs\n",
       "\u001B[1;32m   4732\u001B[0m     )\n",
       "\u001B[1;32m   4733\u001B[0m \u001B[38;5;66;03m# If the output is a Runnable, invoke it\u001B[39;00m\n",
       "\u001B[1;32m   4734\u001B[0m \u001B[38;5;28;01mif\u001B[39;00m \u001B[38;5;28misinstance\u001B[39m(output, Runnable):\n",
       "\n",
       "File \u001B[0;32m<command-3530709779271688>, line 35\u001B[0m, in \u001B[0;36mrun_agent2\u001B[0;34m(state)\u001B[0m\n",
       "\u001B[1;32m     28\u001B[0m \u001B[38;5;28mprint\u001B[39m(\u001B[38;5;124mf\u001B[39m\u001B[38;5;124m\"\u001B[39m\u001B[38;5;124m[Agent 2] Running ReAct agent with prompt: \u001B[39m\u001B[38;5;132;01m{\u001B[39;00mstate[\u001B[38;5;124m'\u001B[39m\u001B[38;5;124mprompt_query\u001B[39m\u001B[38;5;124m'\u001B[39m]\u001B[38;5;132;01m}\u001B[39;00m\u001B[38;5;124m\"\u001B[39m)\n",
       "\u001B[1;32m     29\u001B[0m response \u001B[38;5;241m=\u001B[39m \u001B[38;5;28;01mawait\u001B[39;00m agent2_react\u001B[38;5;241m.\u001B[39mainvoke({\n",
       "\u001B[1;32m     30\u001B[0m     \u001B[38;5;124m\"\u001B[39m\u001B[38;5;124mmessages\u001B[39m\u001B[38;5;124m\"\u001B[39m: \u001B[38;5;124mf\u001B[39m\u001B[38;5;124m\"\u001B[39m\u001B[38;5;124mFind information about: \u001B[39m\u001B[38;5;132;01m{\u001B[39;00mstate[\u001B[38;5;124m'\u001B[39m\u001B[38;5;124mprompt_query\u001B[39m\u001B[38;5;124m'\u001B[39m]\u001B[38;5;132;01m}\u001B[39;00m\u001B[38;5;124m. Provide a concise summary.\u001B[39m\u001B[38;5;124m\"\u001B[39m\n",
       "\u001B[1;32m     31\u001B[0m })\n",
       "\u001B[1;32m     32\u001B[0m \u001B[38;5;28;01mreturn\u001B[39;00m {\n",
       "\u001B[1;32m     33\u001B[0m     \u001B[38;5;124m\"\u001B[39m\u001B[38;5;124muser_input\u001B[39m\u001B[38;5;124m\"\u001B[39m: state[\u001B[38;5;124m\"\u001B[39m\u001B[38;5;124muser_input\u001B[39m\u001B[38;5;124m\"\u001B[39m],\n",
       "\u001B[1;32m     34\u001B[0m     \u001B[38;5;124m\"\u001B[39m\u001B[38;5;124mprompt_query\u001B[39m\u001B[38;5;124m\"\u001B[39m: state[\u001B[38;5;124m\"\u001B[39m\u001B[38;5;124mprompt_query\u001B[39m\u001B[38;5;124m\"\u001B[39m],\n",
       "\u001B[0;32m---> 35\u001B[0m     \u001B[38;5;124m\"\u001B[39m\u001B[38;5;124mfinal_output\u001B[39m\u001B[38;5;124m\"\u001B[39m: response\u001B[38;5;241m.\u001B[39mcontent\n",
       "\u001B[1;32m     36\u001B[0m }\n",
       "\n",
       "\u001B[0;31mAttributeError\u001B[0m: 'AddableValuesDict' object has no attribute 'content'"
      ]
     },
     "metadata": {
      "application/vnd.databricks.v1+output": {
       "addedWidgets": {},
       "arguments": {},
       "datasetInfos": [],
       "jupyterProps": {
        "ename": "AttributeError",
        "evalue": "'AddableValuesDict' object has no attribute 'content'"
       },
       "metadata": {
        "errorSummary": "<span class='ansi-red-fg'>AttributeError</span>: 'AddableValuesDict' object has no attribute 'content'"
       },
       "removedWidgets": [],
       "sqlProps": null,
       "stackFrames": [
        "\u001B[0;31m---------------------------------------------------------------------------\u001B[0m",
        "\u001B[0;31mAttributeError\u001B[0m                            Traceback (most recent call last)",
        "File \u001B[0;32m<command-5922834898495214>, line 5\u001B[0m\n\u001B[1;32m      1\u001B[0m user_input \u001B[38;5;241m=\u001B[39m \u001B[38;5;124m\"\"\"\u001B[39m\n\u001B[1;32m      2\u001B[0m \u001B[38;5;124mI\u001B[39m\u001B[38;5;124m'\u001B[39m\u001B[38;5;124mm 33 weeks pregnant, staying in downtown LA. I need to visit a clinic at 10am, and afterward, I’d love to have brunch nearby — maybe pregnancy-safe or Mexican food.\u001B[39m\n\u001B[1;32m      3\u001B[0m \u001B[38;5;124m\"\"\"\u001B[39m\n\u001B[0;32m----> 5\u001B[0m result \u001B[38;5;241m=\u001B[39m \u001B[38;5;28;01mawait\u001B[39;00m graph\u001B[38;5;241m.\u001B[39mainvoke({\u001B[38;5;124m\"\u001B[39m\u001B[38;5;124muser_input\u001B[39m\u001B[38;5;124m\"\u001B[39m: user_input})\n\u001B[1;32m      6\u001B[0m \u001B[38;5;28mprint\u001B[39m(result[\u001B[38;5;124m\"\u001B[39m\u001B[38;5;124mfinal_output\u001B[39m\u001B[38;5;124m\"\u001B[39m])\n",
        "File \u001B[0;32m/local_disk0/.ephemeral_nfs/envs/pythonEnv-2df8a1ff-30ef-4a77-8d72-b9b8d8818ed8/lib/python3.10/site-packages/langgraph/pregel/__init__.py:2420\u001B[0m, in \u001B[0;36mPregel.ainvoke\u001B[0;34m(self, input, config, stream_mode, output_keys, interrupt_before, interrupt_after, debug, **kwargs)\u001B[0m\n\u001B[1;32m   2418\u001B[0m \u001B[38;5;28;01melse\u001B[39;00m:\n\u001B[1;32m   2419\u001B[0m     chunks \u001B[38;5;241m=\u001B[39m []\n\u001B[0;32m-> 2420\u001B[0m \u001B[38;5;28;01masync\u001B[39;00m \u001B[38;5;28;01mfor\u001B[39;00m chunk \u001B[38;5;129;01min\u001B[39;00m \u001B[38;5;28mself\u001B[39m\u001B[38;5;241m.\u001B[39mastream(\n\u001B[1;32m   2421\u001B[0m     \u001B[38;5;28minput\u001B[39m,\n\u001B[1;32m   2422\u001B[0m     config,\n\u001B[1;32m   2423\u001B[0m     stream_mode\u001B[38;5;241m=\u001B[39mstream_mode,\n\u001B[1;32m   2424\u001B[0m     output_keys\u001B[38;5;241m=\u001B[39moutput_keys,\n\u001B[1;32m   2425\u001B[0m     interrupt_before\u001B[38;5;241m=\u001B[39minterrupt_before,\n\u001B[1;32m   2426\u001B[0m     interrupt_after\u001B[38;5;241m=\u001B[39minterrupt_after,\n\u001B[1;32m   2427\u001B[0m     debug\u001B[38;5;241m=\u001B[39mdebug,\n\u001B[1;32m   2428\u001B[0m     \u001B[38;5;241m*\u001B[39m\u001B[38;5;241m*\u001B[39mkwargs,\n\u001B[1;32m   2429\u001B[0m ):\n\u001B[1;32m   2430\u001B[0m     \u001B[38;5;28;01mif\u001B[39;00m stream_mode \u001B[38;5;241m==\u001B[39m \u001B[38;5;124m\"\u001B[39m\u001B[38;5;124mvalues\u001B[39m\u001B[38;5;124m\"\u001B[39m:\n\u001B[1;32m   2431\u001B[0m         latest \u001B[38;5;241m=\u001B[39m chunk\n",
        "File \u001B[0;32m/local_disk0/.ephemeral_nfs/envs/pythonEnv-2df8a1ff-30ef-4a77-8d72-b9b8d8818ed8/lib/python3.10/site-packages/langgraph/pregel/__init__.py:2305\u001B[0m, in \u001B[0;36mPregel.astream\u001B[0;34m(self, input, config, stream_mode, output_keys, interrupt_before, interrupt_after, debug, subgraphs)\u001B[0m\n\u001B[1;32m   2299\u001B[0m \u001B[38;5;66;03m# Similarly to Bulk Synchronous Parallel / Pregel model\u001B[39;00m\n\u001B[1;32m   2300\u001B[0m \u001B[38;5;66;03m# computation proceeds in steps, while there are channel updates\u001B[39;00m\n\u001B[1;32m   2301\u001B[0m \u001B[38;5;66;03m# channel updates from step N are only visible in step N+1\u001B[39;00m\n\u001B[1;32m   2302\u001B[0m \u001B[38;5;66;03m# channels are guaranteed to be immutable for the duration of the step,\u001B[39;00m\n\u001B[1;32m   2303\u001B[0m \u001B[38;5;66;03m# with channel updates applied only at the transition between steps\u001B[39;00m\n\u001B[1;32m   2304\u001B[0m \u001B[38;5;28;01mwhile\u001B[39;00m loop\u001B[38;5;241m.\u001B[39mtick(input_keys\u001B[38;5;241m=\u001B[39m\u001B[38;5;28mself\u001B[39m\u001B[38;5;241m.\u001B[39minput_channels):\n\u001B[0;32m-> 2305\u001B[0m     \u001B[38;5;28;01masync\u001B[39;00m \u001B[38;5;28;01mfor\u001B[39;00m _ \u001B[38;5;129;01min\u001B[39;00m runner\u001B[38;5;241m.\u001B[39matick(\n\u001B[1;32m   2306\u001B[0m         loop\u001B[38;5;241m.\u001B[39mtasks\u001B[38;5;241m.\u001B[39mvalues(),\n\u001B[1;32m   2307\u001B[0m         timeout\u001B[38;5;241m=\u001B[39m\u001B[38;5;28mself\u001B[39m\u001B[38;5;241m.\u001B[39mstep_timeout,\n\u001B[1;32m   2308\u001B[0m         retry_policy\u001B[38;5;241m=\u001B[39m\u001B[38;5;28mself\u001B[39m\u001B[38;5;241m.\u001B[39mretry_policy,\n\u001B[1;32m   2309\u001B[0m         get_waiter\u001B[38;5;241m=\u001B[39mget_waiter,\n\u001B[1;32m   2310\u001B[0m     ):\n\u001B[1;32m   2311\u001B[0m         \u001B[38;5;66;03m# emit output\u001B[39;00m\n\u001B[1;32m   2312\u001B[0m         \u001B[38;5;28;01mfor\u001B[39;00m o \u001B[38;5;129;01min\u001B[39;00m output():\n\u001B[1;32m   2313\u001B[0m             \u001B[38;5;28;01myield\u001B[39;00m o\n",
        "File \u001B[0;32m/local_disk0/.ephemeral_nfs/envs/pythonEnv-2df8a1ff-30ef-4a77-8d72-b9b8d8818ed8/lib/python3.10/site-packages/langgraph/pregel/runner.py:444\u001B[0m, in \u001B[0;36mPregelRunner.atick\u001B[0;34m(self, tasks, reraise, timeout, retry_policy, get_waiter)\u001B[0m\n\u001B[1;32m    442\u001B[0m t \u001B[38;5;241m=\u001B[39m tasks[\u001B[38;5;241m0\u001B[39m]\n\u001B[1;32m    443\u001B[0m \u001B[38;5;28;01mtry\u001B[39;00m:\n\u001B[0;32m--> 444\u001B[0m     \u001B[38;5;28;01mawait\u001B[39;00m arun_with_retry(\n\u001B[1;32m    445\u001B[0m         t,\n\u001B[1;32m    446\u001B[0m         retry_policy,\n\u001B[1;32m    447\u001B[0m         stream\u001B[38;5;241m=\u001B[39m\u001B[38;5;28mself\u001B[39m\u001B[38;5;241m.\u001B[39muse_astream,\n\u001B[1;32m    448\u001B[0m         configurable\u001B[38;5;241m=\u001B[39m{\n\u001B[1;32m    449\u001B[0m             CONFIG_KEY_SEND: partial(writer, t),\n\u001B[1;32m    450\u001B[0m             CONFIG_KEY_CALL: partial(call, t),\n\u001B[1;32m    451\u001B[0m         },\n\u001B[1;32m    452\u001B[0m     )\n\u001B[1;32m    453\u001B[0m     \u001B[38;5;28mself\u001B[39m\u001B[38;5;241m.\u001B[39mcommit(t, \u001B[38;5;28;01mNone\u001B[39;00m)\n\u001B[1;32m    454\u001B[0m \u001B[38;5;28;01mexcept\u001B[39;00m \u001B[38;5;167;01mException\u001B[39;00m \u001B[38;5;28;01mas\u001B[39;00m exc:\n",
        "File \u001B[0;32m/local_disk0/.ephemeral_nfs/envs/pythonEnv-2df8a1ff-30ef-4a77-8d72-b9b8d8818ed8/lib/python3.10/site-packages/langgraph/pregel/retry.py:128\u001B[0m, in \u001B[0;36marun_with_retry\u001B[0;34m(task, retry_policy, stream, configurable)\u001B[0m\n\u001B[1;32m    126\u001B[0m         \u001B[38;5;28;01mbreak\u001B[39;00m\n\u001B[1;32m    127\u001B[0m     \u001B[38;5;28;01melse\u001B[39;00m:\n\u001B[0;32m--> 128\u001B[0m         \u001B[38;5;28;01mreturn\u001B[39;00m \u001B[38;5;28;01mawait\u001B[39;00m task\u001B[38;5;241m.\u001B[39mproc\u001B[38;5;241m.\u001B[39mainvoke(task\u001B[38;5;241m.\u001B[39minput, config)\n\u001B[1;32m    129\u001B[0m \u001B[38;5;28;01mexcept\u001B[39;00m ParentCommand \u001B[38;5;28;01mas\u001B[39;00m exc:\n\u001B[1;32m    130\u001B[0m     ns: \u001B[38;5;28mstr\u001B[39m \u001B[38;5;241m=\u001B[39m config[CONF][CONFIG_KEY_CHECKPOINT_NS]\n",
        "File \u001B[0;32m/local_disk0/.ephemeral_nfs/envs/pythonEnv-2df8a1ff-30ef-4a77-8d72-b9b8d8818ed8/lib/python3.10/site-packages/langgraph/utils/runnable.py:583\u001B[0m, in \u001B[0;36mRunnableSeq.ainvoke\u001B[0;34m(self, input, config, **kwargs)\u001B[0m\n\u001B[1;32m    579\u001B[0m config \u001B[38;5;241m=\u001B[39m patch_config(\n\u001B[1;32m    580\u001B[0m     config, callbacks\u001B[38;5;241m=\u001B[39mrun_manager\u001B[38;5;241m.\u001B[39mget_child(\u001B[38;5;124mf\u001B[39m\u001B[38;5;124m\"\u001B[39m\u001B[38;5;124mseq:step:\u001B[39m\u001B[38;5;132;01m{\u001B[39;00mi \u001B[38;5;241m+\u001B[39m \u001B[38;5;241m1\u001B[39m\u001B[38;5;132;01m}\u001B[39;00m\u001B[38;5;124m\"\u001B[39m)\n\u001B[1;32m    581\u001B[0m )\n\u001B[1;32m    582\u001B[0m \u001B[38;5;28;01mif\u001B[39;00m i \u001B[38;5;241m==\u001B[39m \u001B[38;5;241m0\u001B[39m:\n\u001B[0;32m--> 583\u001B[0m     \u001B[38;5;28minput\u001B[39m \u001B[38;5;241m=\u001B[39m \u001B[38;5;28;01mawait\u001B[39;00m step\u001B[38;5;241m.\u001B[39mainvoke(\u001B[38;5;28minput\u001B[39m, config, \u001B[38;5;241m*\u001B[39m\u001B[38;5;241m*\u001B[39mkwargs)\n\u001B[1;32m    584\u001B[0m \u001B[38;5;28;01melse\u001B[39;00m:\n\u001B[1;32m    585\u001B[0m     \u001B[38;5;28minput\u001B[39m \u001B[38;5;241m=\u001B[39m \u001B[38;5;28;01mawait\u001B[39;00m step\u001B[38;5;241m.\u001B[39mainvoke(\u001B[38;5;28minput\u001B[39m, config)\n",
        "File \u001B[0;32m/local_disk0/.ephemeral_nfs/envs/pythonEnv-2df8a1ff-30ef-4a77-8d72-b9b8d8818ed8/lib/python3.10/site-packages/langchain_core/runnables/base.py:4798\u001B[0m, in \u001B[0;36mRunnableLambda.ainvoke\u001B[0;34m(self, input, config, **kwargs)\u001B[0m\n\u001B[1;32m   4781\u001B[0m \u001B[38;5;129m@override\u001B[39m\n\u001B[1;32m   4782\u001B[0m \u001B[38;5;28;01masync\u001B[39;00m \u001B[38;5;28;01mdef\u001B[39;00m \u001B[38;5;21mainvoke\u001B[39m(\n\u001B[1;32m   4783\u001B[0m     \u001B[38;5;28mself\u001B[39m,\n\u001B[0;32m   (...)\u001B[0m\n\u001B[1;32m   4786\u001B[0m     \u001B[38;5;241m*\u001B[39m\u001B[38;5;241m*\u001B[39mkwargs: Optional[Any],\n\u001B[1;32m   4787\u001B[0m ) \u001B[38;5;241m-\u001B[39m\u001B[38;5;241m>\u001B[39m Output:\n\u001B[1;32m   4788\u001B[0m     \u001B[38;5;124;03m\"\"\"Invoke this Runnable asynchronously.\u001B[39;00m\n\u001B[1;32m   4789\u001B[0m \n\u001B[1;32m   4790\u001B[0m \u001B[38;5;124;03m    Args:\u001B[39;00m\n\u001B[0;32m   (...)\u001B[0m\n\u001B[1;32m   4796\u001B[0m \u001B[38;5;124;03m        The output of this Runnable.\u001B[39;00m\n\u001B[1;32m   4797\u001B[0m \u001B[38;5;124;03m    \"\"\"\u001B[39;00m\n\u001B[0;32m-> 4798\u001B[0m     \u001B[38;5;28;01mreturn\u001B[39;00m \u001B[38;5;28;01mawait\u001B[39;00m \u001B[38;5;28mself\u001B[39m\u001B[38;5;241m.\u001B[39m_acall_with_config(\n\u001B[1;32m   4799\u001B[0m         \u001B[38;5;28mself\u001B[39m\u001B[38;5;241m.\u001B[39m_ainvoke,\n\u001B[1;32m   4800\u001B[0m         \u001B[38;5;28minput\u001B[39m,\n\u001B[1;32m   4801\u001B[0m         ensure_config(config),\n\u001B[1;32m   4802\u001B[0m         \u001B[38;5;241m*\u001B[39m\u001B[38;5;241m*\u001B[39mkwargs,\n\u001B[1;32m   4803\u001B[0m     )\n",
        "File \u001B[0;32m/local_disk0/.ephemeral_nfs/envs/pythonEnv-2df8a1ff-30ef-4a77-8d72-b9b8d8818ed8/lib/python3.10/site-packages/langchain_core/runnables/base.py:1991\u001B[0m, in \u001B[0;36mRunnable._acall_with_config\u001B[0;34m(self, func, input_, config, run_type, serialized, **kwargs)\u001B[0m\n\u001B[1;32m   1987\u001B[0m     \u001B[38;5;28;01mwith\u001B[39;00m set_config_context(child_config) \u001B[38;5;28;01mas\u001B[39;00m context:\n\u001B[1;32m   1988\u001B[0m         coro \u001B[38;5;241m=\u001B[39m acall_func_with_variable_args(\n\u001B[1;32m   1989\u001B[0m             func, input_, config, run_manager, \u001B[38;5;241m*\u001B[39m\u001B[38;5;241m*\u001B[39mkwargs\n\u001B[1;32m   1990\u001B[0m         )\n\u001B[0;32m-> 1991\u001B[0m         output: Output \u001B[38;5;241m=\u001B[39m \u001B[38;5;28;01mawait\u001B[39;00m coro_with_context(coro, context)\n\u001B[1;32m   1992\u001B[0m \u001B[38;5;28;01mexcept\u001B[39;00m \u001B[38;5;167;01mBaseException\u001B[39;00m \u001B[38;5;28;01mas\u001B[39;00m e:\n\u001B[1;32m   1993\u001B[0m     \u001B[38;5;28;01mawait\u001B[39;00m run_manager\u001B[38;5;241m.\u001B[39mon_chain_error(e)\n",
        "File \u001B[0;32m/local_disk0/.ephemeral_nfs/envs/pythonEnv-2df8a1ff-30ef-4a77-8d72-b9b8d8818ed8/lib/python3.10/site-packages/langchain_core/runnables/base.py:4730\u001B[0m, in \u001B[0;36mRunnableLambda._ainvoke\u001B[0;34m(self, value, run_manager, config, **kwargs)\u001B[0m\n\u001B[1;32m   4728\u001B[0m                     output \u001B[38;5;241m=\u001B[39m chunk\n\u001B[1;32m   4729\u001B[0m \u001B[38;5;28;01melse\u001B[39;00m:\n\u001B[0;32m-> 4730\u001B[0m     output \u001B[38;5;241m=\u001B[39m \u001B[38;5;28;01mawait\u001B[39;00m acall_func_with_variable_args(\n\u001B[1;32m   4731\u001B[0m         cast(\u001B[38;5;124m\"\u001B[39m\u001B[38;5;124mCallable\u001B[39m\u001B[38;5;124m\"\u001B[39m, afunc), value, config, run_manager, \u001B[38;5;241m*\u001B[39m\u001B[38;5;241m*\u001B[39mkwargs\n\u001B[1;32m   4732\u001B[0m     )\n\u001B[1;32m   4733\u001B[0m \u001B[38;5;66;03m# If the output is a Runnable, invoke it\u001B[39;00m\n\u001B[1;32m   4734\u001B[0m \u001B[38;5;28;01mif\u001B[39;00m \u001B[38;5;28misinstance\u001B[39m(output, Runnable):\n",
        "File \u001B[0;32m<command-3530709779271688>, line 35\u001B[0m, in \u001B[0;36mrun_agent2\u001B[0;34m(state)\u001B[0m\n\u001B[1;32m     28\u001B[0m \u001B[38;5;28mprint\u001B[39m(\u001B[38;5;124mf\u001B[39m\u001B[38;5;124m\"\u001B[39m\u001B[38;5;124m[Agent 2] Running ReAct agent with prompt: \u001B[39m\u001B[38;5;132;01m{\u001B[39;00mstate[\u001B[38;5;124m'\u001B[39m\u001B[38;5;124mprompt_query\u001B[39m\u001B[38;5;124m'\u001B[39m]\u001B[38;5;132;01m}\u001B[39;00m\u001B[38;5;124m\"\u001B[39m)\n\u001B[1;32m     29\u001B[0m response \u001B[38;5;241m=\u001B[39m \u001B[38;5;28;01mawait\u001B[39;00m agent2_react\u001B[38;5;241m.\u001B[39mainvoke({\n\u001B[1;32m     30\u001B[0m     \u001B[38;5;124m\"\u001B[39m\u001B[38;5;124mmessages\u001B[39m\u001B[38;5;124m\"\u001B[39m: \u001B[38;5;124mf\u001B[39m\u001B[38;5;124m\"\u001B[39m\u001B[38;5;124mFind information about: \u001B[39m\u001B[38;5;132;01m{\u001B[39;00mstate[\u001B[38;5;124m'\u001B[39m\u001B[38;5;124mprompt_query\u001B[39m\u001B[38;5;124m'\u001B[39m]\u001B[38;5;132;01m}\u001B[39;00m\u001B[38;5;124m. Provide a concise summary.\u001B[39m\u001B[38;5;124m\"\u001B[39m\n\u001B[1;32m     31\u001B[0m })\n\u001B[1;32m     32\u001B[0m \u001B[38;5;28;01mreturn\u001B[39;00m {\n\u001B[1;32m     33\u001B[0m     \u001B[38;5;124m\"\u001B[39m\u001B[38;5;124muser_input\u001B[39m\u001B[38;5;124m\"\u001B[39m: state[\u001B[38;5;124m\"\u001B[39m\u001B[38;5;124muser_input\u001B[39m\u001B[38;5;124m\"\u001B[39m],\n\u001B[1;32m     34\u001B[0m     \u001B[38;5;124m\"\u001B[39m\u001B[38;5;124mprompt_query\u001B[39m\u001B[38;5;124m\"\u001B[39m: state[\u001B[38;5;124m\"\u001B[39m\u001B[38;5;124mprompt_query\u001B[39m\u001B[38;5;124m\"\u001B[39m],\n\u001B[0;32m---> 35\u001B[0m     \u001B[38;5;124m\"\u001B[39m\u001B[38;5;124mfinal_output\u001B[39m\u001B[38;5;124m\"\u001B[39m: response\u001B[38;5;241m.\u001B[39mcontent\n\u001B[1;32m     36\u001B[0m }\n",
        "\u001B[0;31mAttributeError\u001B[0m: 'AddableValuesDict' object has no attribute 'content'"
       ],
       "type": "baseError"
      }
     },
     "output_type": "display_data"
    }
   ],
   "source": [
    "user_input = \"\"\"\n",
    "I'm 33 weeks pregnant, staying in downtown LA. I need to visit a clinic at 10am, and afterward, I’d love to have brunch nearby — maybe pregnancy-safe or Mexican food.\n",
    "\"\"\"\n",
    "\n",
    "result = await graph.ainvoke({\"user_input\": user_input})\n",
    "print(result[\"final_output\"])\n"
   ]
  },
  {
   "cell_type": "code",
   "execution_count": 0,
   "metadata": {
    "application/vnd.databricks.v1+cell": {
     "cellMetadata": {},
     "inputWidgets": {},
     "nuid": "bbc1c649-eb21-4576-9f67-7edc6ad3f2d6",
     "showTitle": false,
     "tableResultSettingsMap": {},
     "title": ""
    }
   },
   "outputs": [],
   "source": []
  },
  {
   "cell_type": "code",
   "execution_count": 0,
   "metadata": {
    "application/vnd.databricks.v1+cell": {
     "cellMetadata": {},
     "inputWidgets": {},
     "nuid": "fb643354-d015-47eb-83c3-b980090434bc",
     "showTitle": false,
     "tableResultSettingsMap": {},
     "title": ""
    }
   },
   "outputs": [],
   "source": []
  },
  {
   "cell_type": "code",
   "execution_count": 0,
   "metadata": {
    "application/vnd.databricks.v1+cell": {
     "cellMetadata": {},
     "inputWidgets": {},
     "nuid": "b67a9a07-1fce-4e44-a215-d5f58b96c3ee",
     "showTitle": false,
     "tableResultSettingsMap": {},
     "title": ""
    }
   },
   "outputs": [],
   "source": []
  },
  {
   "cell_type": "code",
   "execution_count": 0,
   "metadata": {
    "application/vnd.databricks.v1+cell": {
     "cellMetadata": {
      "byteLimit": 2048000,
      "rowLimit": 10000
     },
     "inputWidgets": {},
     "nuid": "ffed9858-e1f4-4a6a-b773-9b3dbf506d80",
     "showTitle": false,
     "tableResultSettingsMap": {},
     "title": ""
    }
   },
   "outputs": [
    {
     "output_type": "stream",
     "name": "stdout",
     "output_type": "stream",
     "text": [
      "delta=ChatAgentMessage(role='assistant', content=\"I notice you're asking about a Python calculation, but I'm specifically designed to help recommend places for pregnant women. \\n\\nIf you're looking for recommendations for shops, restaurants, or other places that cater to pregnant women's needs, I'd be happy to help. I can suggest locations based on time requirements, location preferences, type of establishment, and specific pregnancy-related needs.\\n\\nWould you like me to recommend some pregnancy-friendly places in a particular area instead?\", name=None, id='run--210dc809-fdba-4883-9862-575d01a7259a-0', tool_calls=None, tool_call_id=None, attachments=None) finish_reason=None custom_outputs=None usage=None -----------\n\n"
     ]
    },
    {
     "output_type": "display_data",
     "data": {
      "application/databricks.mlflow.trace": "\"tr-11bacc2751314275a10aef27d257e55a\"",
      "text/plain": [
       "Trace(request_id=tr-11bacc2751314275a10aef27d257e55a)"
      ]
     },
     "metadata": {},
     "output_type": "display_data"
    }
   ],
   "source": [
    "for event in AGENT.predict_stream(\n",
    "    {\"messages\": [{\"role\": \"user\", \"content\": \"What is 5+5 in python\"}]}\n",
    "):\n",
    "    print(event, \"-----------\\n\")"
   ]
  },
  {
   "cell_type": "markdown",
   "metadata": {
    "application/vnd.databricks.v1+cell": {
     "cellMetadata": {},
     "inputWidgets": {},
     "nuid": "f002429e-7bde-4248-9b89-630e463adf2f",
     "showTitle": false,
     "tableResultSettingsMap": {},
     "title": ""
    }
   },
   "source": [
    "### Log the `agent` as an MLflow model\n",
    "Determine Databricks resources to specify for automatic auth passthrough at deployment time\n",
    "- **TODO**: If your Unity Catalog Function queries a [vector search index](https://docs.databricks.com/generative-ai/agent-framework/unstructured-retrieval-tools.html) or leverages [external functions](https://docs.databricks.com/generative-ai/agent-framework/external-connection-tools.html), you need to include the dependent vector search index and UC connection objects, respectively, as resources. See [docs](https://docs.databricks.com/generative-ai/agent-framework/log-agent.html#specify-resources-for-automatic-authentication-passthrough) for more details.\n",
    "\n",
    "Log the agent as code from the `agent.py` file. See [MLflow - Models from Code](https://mlflow.org/docs/latest/models.html#models-from-code)."
   ]
  },
  {
   "cell_type": "code",
   "execution_count": 0,
   "metadata": {
    "application/vnd.databricks.v1+cell": {
     "cellMetadata": {
      "byteLimit": 2048000,
      "rowLimit": 10000
     },
     "inputWidgets": {},
     "nuid": "69ab477a-91ed-411f-9d50-905d8e8f851a",
     "showTitle": false,
     "tableResultSettingsMap": {},
     "title": ""
    }
   },
   "outputs": [
    {
     "output_type": "stream",
     "name": "stderr",
     "output_type": "stream",
     "text": [
      "/local_disk0/.ephemeral_nfs/envs/pythonEnv-23b31163-10fe-4763-baaa-9d9b82cbb305/lib/python3.10/site-packages/databricks/connect/session.py:454: UserWarning: Ignoring the default notebook Spark session and creating a new Spark Connect session. To use the default notebook Spark session, use DatabricksSession.builder.getOrCreate() with no additional parameters.\n  warnings.warn(new_notebook_session_msg)\n2025/06/09 18:14:31 INFO mlflow.pyfunc: Predicting on input example to validate output\n/local_disk0/.ephemeral_nfs/envs/pythonEnv-23b31163-10fe-4763-baaa-9d9b82cbb305/lib/python3.10/site-packages/databricks/connect/session.py:454: UserWarning: Ignoring the default notebook Spark session and creating a new Spark Connect session. To use the default notebook Spark session, use DatabricksSession.builder.getOrCreate() with no additional parameters.\n  warnings.warn(new_notebook_session_msg)\n"
     ]
    },
    {
     "output_type": "display_data",
     "data": {
      "application/vnd.jupyter.widget-view+json": {
       "model_id": "b8868ea86fee476ca941f6a4c97f4d56",
       "version_major": 2,
       "version_minor": 0
      },
      "text/plain": [
       "Uploading artifacts:   0%|          | 0/12 [00:00<?, ?it/s]"
      ]
     },
     "metadata": {},
     "output_type": "display_data"
    }
   ],
   "source": [
    "# Determine Databricks resources to specify for automatic auth passthrough at deployment time\n",
    "import mlflow\n",
    "from agent import tools, LLM_ENDPOINT_NAME\n",
    "from databricks_langchain import VectorSearchRetrieverTool\n",
    "from mlflow.models.resources import DatabricksFunction, DatabricksServingEndpoint\n",
    "from unitycatalog.ai.langchain.toolkit import UnityCatalogTool\n",
    "\n",
    "resources = [DatabricksServingEndpoint(endpoint_name=LLM_ENDPOINT_NAME)]\n",
    "for tool in tools:\n",
    "    if isinstance(tool, VectorSearchRetrieverTool):\n",
    "        resources.extend(tool.resources)\n",
    "    elif isinstance(tool, UnityCatalogTool):\n",
    "        # TODO: If the UC function includes dependencies like external connection or vector search, please include them manually.\n",
    "        # See the TODO in the markdown above for more information.\n",
    "        resources.append(DatabricksFunction(function_name=tool.uc_function_name))\n",
    "\n",
    "input_example = {\n",
    "    \"messages\": [\n",
    "        {\n",
    "            \"role\": \"user\",\n",
    "            \"content\": \"I am a 30 year pregnant women. I want to have brunch after my 10am appointment. I will be at 28226 after the appointment. Recommend me safe food brunch choices\"\n",
    "        }\n",
    "    ]\n",
    "}\n",
    "\n",
    "with mlflow.start_run():\n",
    "    logged_agent_info = mlflow.pyfunc.log_model(\n",
    "        artifact_path=\"agent\",\n",
    "        python_model=\"agent.py\",\n",
    "        input_example=input_example,\n",
    "        resources=resources,\n",
    "        extra_pip_requirements=[\n",
    "            \"databricks-connect\"\n",
    "        ]\n",
    "    )"
   ]
  },
  {
   "cell_type": "markdown",
   "metadata": {
    "application/vnd.databricks.v1+cell": {
     "cellMetadata": {},
     "inputWidgets": {},
     "nuid": "7608f8d5-9f1b-44e9-9fb1-1175a6f668cc",
     "showTitle": false,
     "tableResultSettingsMap": {},
     "title": ""
    }
   },
   "source": [
    "## Evaluate the agent with [Agent Evaluation](https://docs.databricks.com/generative-ai/agent-evaluation/index.html)\n",
    "\n",
    "You can edit the requests or expected responses in your evaluation dataset and run evaluation as you iterate your agent, leveraging mlflow to track the computed quality metrics.\n",
    "\n",
    "To evaluate your tool calls, try adding [custom metrics](https://docs.databricks.com/generative-ai/agent-evaluation/custom-metrics.html#evaluating-tool-calls)."
   ]
  },
  {
   "cell_type": "code",
   "execution_count": 0,
   "metadata": {
    "application/vnd.databricks.v1+cell": {
     "cellMetadata": {
      "byteLimit": 2048000,
      "rowLimit": 10000
     },
     "inputWidgets": {},
     "nuid": "bbcd44f2-fc3a-4f32-80ca-45e6218b24a0",
     "showTitle": false,
     "tableResultSettingsMap": {},
     "title": ""
    }
   },
   "outputs": [
    {
     "output_type": "display_data",
     "data": {
      "text/html": [
       "<style scoped>\n",
       "  .table-result-container {\n",
       "    max-height: 300px;\n",
       "    overflow: auto;\n",
       "  }\n",
       "  table, th, td {\n",
       "    border: 1px solid black;\n",
       "    border-collapse: collapse;\n",
       "  }\n",
       "  th, td {\n",
       "    padding: 5px;\n",
       "  }\n",
       "  th {\n",
       "    text-align: left;\n",
       "  }\n",
       "</style><div class='table-result-container'><table class='table-result'><thead style='background-color: white'><tr><th>request</th><th>expected_response</th></tr></thead><tbody><tr><td>List(List(List(You are an intelligent AI assistant to recommend best shop, restaurant, and other places for pregnant women to take care about their needs, health and mood. You will take the input from the user and generate an outline with\n",
       "1. time requirement (e.g. after 13:00)\n",
       "2. location requirement (e.g. within zipcode 28226, 5 miles within a certain address)\n",
       "3. place type (e.g. restaurant, shop, medical center)\n",
       "4. Other requirement (e.g. safe food choices for pregnant women; medical services specialized for pregnancy)\n",
       "Based on the user input, I want the output to be a clear description such as \"Recommend me top 3 brunch within 10 miles of 28226, filter for pregnancy safe or with safest food score.\"\n",
       ", system), List(I am a 30 year pregnant women. I want to have brunch after my 10am appointment. I will be at 28226 after the appointment. Recommend me safe food brunch choices, user)))</td><td>null</td></tr></tbody></table></div>"
      ]
     },
     "metadata": {
      "application/vnd.databricks.v1+output": {
       "addedWidgets": {},
       "aggData": [],
       "aggError": "",
       "aggOverflow": false,
       "aggSchema": [],
       "aggSeriesLimitReached": false,
       "aggType": "",
       "arguments": {},
       "columnCustomDisplayInfos": {},
       "data": [
        [
         [
          [
           [
            "You are an intelligent AI assistant to recommend best shop, restaurant, and other places for pregnant women to take care about their needs, health and mood. You will take the input from the user and generate an outline with\n1. time requirement (e.g. after 13:00)\n2. location requirement (e.g. within zipcode 28226, 5 miles within a certain address)\n3. place type (e.g. restaurant, shop, medical center)\n4. Other requirement (e.g. safe food choices for pregnant women; medical services specialized for pregnancy)\nBased on the user input, I want the output to be a clear description such as \"Recommend me top 3 brunch within 10 miles of 28226, filter for pregnancy safe or with safest food score.\"\n",
            "system"
           ],
           [
            "I am a 30 year pregnant women. I want to have brunch after my 10am appointment. I will be at 28226 after the appointment. Recommend me safe food brunch choices",
            "user"
           ]
          ]
         ],
         null
        ]
       ],
       "datasetInfos": [],
       "dbfsResultPath": null,
       "isJsonSchema": true,
       "metadata": {},
       "overflow": false,
       "plotOptions": {
        "customPlotOptions": {},
        "displayType": "table",
        "pivotAggregation": null,
        "pivotColumns": null,
        "xColumns": null,
        "yColumns": null
       },
       "removedWidgets": [],
       "schema": [
        {
         "metadata": "{}",
         "name": "request",
         "type": "{\"fields\":[{\"metadata\":{},\"name\":\"messages\",\"nullable\":true,\"type\":{\"containsNull\":true,\"elementType\":{\"fields\":[{\"metadata\":{},\"name\":\"content\",\"nullable\":true,\"type\":\"string\"},{\"metadata\":{},\"name\":\"role\",\"nullable\":true,\"type\":\"string\"}],\"type\":\"struct\"},\"type\":\"array\"}}],\"type\":\"struct\"}"
        },
        {
         "metadata": "{}",
         "name": "expected_response",
         "type": "\"void\""
        }
       ],
       "type": "table"
      }
     },
     "output_type": "display_data"
    }
   ],
   "source": [
    "import pandas as pd\n",
    "\n",
    "eval_examples = [\n",
    "    {\n",
    "        \"request\": {\n",
    "            \"messages\": [\n",
    "                {\n",
    "                    \"role\": \"system\",\n",
    "                    \"content\": \"You are an intelligent AI assistant to recommend best shop, restaurant, and other places for pregnant women to take care about their needs, health and mood. You will take the input from the user and generate an outline with\\n1. time requirement (e.g. after 13:00)\\n2. location requirement (e.g. within zipcode 28226, 5 miles within a certain address)\\n3. place type (e.g. restaurant, shop, medical center)\\n4. Other requirement (e.g. safe food choices for pregnant women; medical services specialized for pregnancy)\\nBased on the user input, I want the output to be a clear description such as \\\"Recommend me top 3 brunch within 10 miles of 28226, filter for pregnancy safe or with safest food score.\\\"\\n\"\n",
    "                },\n",
    "                {\n",
    "                    \"role\": \"user\",\n",
    "                    \"content\": \"I am a 30 year pregnant women. I want to have brunch after my 10am appointment. I will be at 28226 after the appointment. Recommend me safe food brunch choices\"\n",
    "                }\n",
    "            ]\n",
    "        },\n",
    "        \"expected_response\": None\n",
    "    }\n",
    "]\n",
    "\n",
    "eval_dataset = pd.DataFrame(eval_examples)\n",
    "display(eval_dataset)\n"
   ]
  },
  {
   "cell_type": "code",
   "execution_count": 0,
   "metadata": {
    "application/vnd.databricks.v1+cell": {
     "cellMetadata": {
      "byteLimit": 2048000,
      "rowLimit": 10000
     },
     "inputWidgets": {},
     "nuid": "b622b389-e24f-4091-be91-f23078b685a0",
     "showTitle": false,
     "tableResultSettingsMap": {},
     "title": ""
    }
   },
   "outputs": [
    {
     "output_type": "display_data",
     "data": {
      "application/vnd.jupyter.widget-view+json": {
       "model_id": "e9fe958611a8485d9dc3e466af1cbd09",
       "version_major": 2,
       "version_minor": 0
      },
      "text/plain": [
       "Downloading artifacts:   0%|          | 0/12 [00:00<?, ?it/s]"
      ]
     },
     "metadata": {},
     "output_type": "display_data"
    },
    {
     "output_type": "stream",
     "name": "stderr",
     "output_type": "stream",
     "text": [
      "/local_disk0/.ephemeral_nfs/envs/pythonEnv-23b31163-10fe-4763-baaa-9d9b82cbb305/lib/python3.10/site-packages/databricks/connect/session.py:454: UserWarning: Ignoring the default notebook Spark session and creating a new Spark Connect session. To use the default notebook Spark session, use DatabricksSession.builder.getOrCreate() with no additional parameters.\n  warnings.warn(new_notebook_session_msg)\n2025/06/09 18:15:37 INFO mlflow.models.evaluation.utils.trace: Auto tracing is temporarily enabled during the model evaluation for computing some metrics and debugging. To disable tracing, call `mlflow.autolog(disable=True)`.\n"
     ]
    },
    {
     "output_type": "display_data",
     "data": {
      "application/vnd.jupyter.widget-view+json": {
       "model_id": "ade9fe51280e41cfb2bcd7e71514323b",
       "version_major": 2,
       "version_minor": 0
      },
      "text/plain": [
       "Evaluating:   0%|          | 0/1 [Elapsed: 00:00, Remaining: ?]"
      ]
     },
     "metadata": {},
     "output_type": "display_data"
    },
    {
     "output_type": "display_data",
     "data": {
      "text/html": [
       "<!DOCTYPE html>\n",
       "<html lang=\"en\">\n",
       "<head>\n",
       "    <title>Evaluation output</title>\n",
       "    <meta charset=\"UTF-8\">\n",
       "    <meta name=\"viewport\" content=\"width=device-width, initial-scale=1.0\">\n",
       "    <style>\n",
       "        body {\n",
       "            font-family: Arial, sans-serif;\n",
       "        }\n",
       "\n",
       "        .header {\n",
       "            a.button {\n",
       "                padding: 4px 8px;\n",
       "                line-height: 20px;\n",
       "                box-shadow: none;\n",
       "                height: 20px;\n",
       "                display: inline-flex;\n",
       "                align-items: center;\n",
       "                justify-content: center;\n",
       "                vertical-align: middle;\n",
       "                background-color: rgb(34, 114, 180);\n",
       "                color: rgb(255, 255, 255);\n",
       "                text-decoration: none;\n",
       "                animation-duration: 0s;\n",
       "                transition: none 0s ease 0s;\n",
       "                position: relative;\n",
       "                white-space: nowrap;\n",
       "                text-align: center;\n",
       "                border: 1px solid rgb(192, 205, 216);\n",
       "                cursor: pointer;\n",
       "                user-select: none;\n",
       "                touch-action: manipulation;\n",
       "                border-radius: 4px;\n",
       "                gap: 6px;\n",
       "            }\n",
       "\n",
       "            a.button:hover {\n",
       "                background-color: rgb(14, 83, 139) !important;\n",
       "                border-color: transparent !important;\n",
       "                color: rgb(255, 255, 255) !important;\n",
       "            }\n",
       "        }\n",
       "\n",
       "        .warnings-section {\n",
       "            margin-top: 8px;\n",
       "\n",
       "            ul {\n",
       "                list-style-type: none;\n",
       "            }\n",
       "        }\n",
       "\n",
       "        .instructions-section {\n",
       "            margin-top: 16px;\n",
       "            font-size: 14px;\n",
       "\n",
       "            ul {\n",
       "                margin-top: 0;\n",
       "                margin-bottom: 0;\n",
       "            }\n",
       "        }\n",
       "\n",
       "        code {\n",
       "            font-family: monospace;\n",
       "        }\n",
       "\n",
       "        .note {\n",
       "            color: #666;\n",
       "        }\n",
       "\n",
       "        a {\n",
       "            color: #2272B4;\n",
       "            text-decoration: none;\n",
       "        }\n",
       "\n",
       "        a:hover {\n",
       "            color: #005580;\n",
       "        }\n",
       "    </style>\n",
       "</head>\n",
       "<body>\n",
       "<div>\n",
       "    <div class=\"header\">\n",
       "        <a href=\"https://dbc-d2dc33b8-a5c3.cloud.databricks.com/ml/experiments/3530709779271609/runs/753ab7a05bc945239b0efae3ee16ef3a/evaluations/\" class=\"button\">\n",
       "            View evaluation results: 1/1 pass\n",
       "            <svg xmlns=\"http://www.w3.org/2000/svg\" width=\"1em\" height=\"1em\" fill=\"none\" viewBox=\"0 0 16 16\" aria-hidden=\"true\" focusable=\"false\" class=\"\">\n",
       "                <path fill=\"currentColor\" d=\"M10 1h5v5h-1.5V3.56L8.53 8.53 7.47 7.47l4.97-4.97H10z\"></path>\n",
       "                <path fill=\"currentColor\" d=\"M1 2.75A.75.75 0 0 1 1.75 2H8v1.5H2.5v10h10V8H14v6.25a.75.75 0 0 1-.75.75H1.75a.75.75 0 0 1-.75-.75z\"></path>\n",
       "            </svg>\n",
       "        </a>\n",
       "    </div>\n",
       "</div>\n",
       "</body>\n",
       "</html>"
      ]
     },
     "metadata": {},
     "output_type": "display_data"
    },
    {
     "output_type": "display_data",
     "data": {
      "text/html": [
       "<style scoped>\n",
       "  .table-result-container {\n",
       "    max-height: 300px;\n",
       "    overflow: auto;\n",
       "  }\n",
       "  table, th, td {\n",
       "    border: 1px solid black;\n",
       "    border-collapse: collapse;\n",
       "  }\n",
       "  th, td {\n",
       "    padding: 5px;\n",
       "  }\n",
       "  th {\n",
       "    text-align: left;\n",
       "  }\n",
       "</style><div class='table-result-container'><table class='table-result'><thead style='background-color: white'><tr><th>request_id</th><th>request</th><th>response</th><th>trace</th><th>tool_calls</th><th>response/overall_assessment/rating</th><th>response/llm_judged/safety/rating</th><th>response/llm_judged/safety/rationale</th><th>response/llm_judged/relevance_to_query/rating</th><th>response/llm_judged/relevance_to_query/rationale</th><th>agent/latency_seconds</th></tr></thead><tbody><tr><td>8a08233be48394cb0275b96edb10d7548d19fcb20630fe5c27d157c5bafa8cea</td><td>List(List(List(You are an intelligent AI assistant to recommend best shop, restaurant, and other places for pregnant women to take care about their needs, health and mood. You will take the input from the user and generate an outline with\n",
       "1. time requirement (e.g. after 13:00)\n",
       "2. location requirement (e.g. within zipcode 28226, 5 miles within a certain address)\n",
       "3. place type (e.g. restaurant, shop, medical center)\n",
       "4. Other requirement (e.g. safe food choices for pregnant women; medical services specialized for pregnancy)\n",
       "Based on the user input, I want the output to be a clear description such as \"Recommend me top 3 brunch within 10 miles of 28226, filter for pregnancy safe or with safest food score.\"\n",
       ", system), List(I am a 30 year pregnant women. I want to have brunch after my 10am appointment. I will be at 28226 after the appointment. Recommend me safe food brunch choices, user)))</td><td>List(List(List(Based on your request, here's a clear recommendation outline:\n",
       "\n",
       "\"Recommend me top brunch restaurants within 5 miles of 28226 available after 11:00 AM, prioritizing pregnancy-safe food options with minimal raw ingredients, pasteurized dairy products, and well-cooked proteins.\"\n",
       "\n",
       "This search will help you find brunch spots that:\n",
       "- Are conveniently located near your 28226 appointment location\n",
       "- Have availability after your 10 AM appointment (allowing travel time)\n",
       "- Offer menu items that are generally considered safe during pregnancy (fully cooked foods, pasteurized products)\n",
       "- Provide nutritious options to support your pregnancy health needs, run--e22ecea9-2f95-42a3-b603-15c99f66effd-0, assistant)))</td><td>{\"info\": {\"request_id\": \"tr-c415f30a45b748e6b729908a00e495c4\", \"experiment_id\": \"3530709779271609\", \"timestamp_ms\": 1749492937484, \"execution_time_ms\": 6018, \"status\": \"OK\", \"request_metadata\": {\"mlflow.sourceRun\": \"753ab7a05bc945239b0efae3ee16ef3a\", \"mlflow.traceInputs\": \"{\\\"messages\\\": [{\\\"role\\\": \\\"system\\\", \\\"content\\\": \\\"You are an intelligent AI assistant to recommend best shop, restaurant, and other places for pregnant women to take care about their needs, health and mood. You will take the input from the user and gen...\", \"mlflow.traceOutputs\": \"{\\\"messages\\\": [{\\\"role\\\": \\\"system\\\", \\\"content\\\": \\\"You are an intelligent AI assistant to recommend best shop, restaurant, and other places for pregnant women to take care about their needs, health and mood. You will take the input from the user and gen...\", \"mlflow.trace_schema.version\": \"2\"}, \"tags\": {\"eval.requestId\": \"7c604528-49af-4b89-a1da-98cdb4055d5d\", \"mlflow.databricks.notebook.commandID\": \"1749492613554_4783097348117565698_17043595fd8842f19f16655f1ebe4df8\", \"mlflow.databricks.notebookID\": \"3530709779271609\", \"mlflow.databricks.notebookPath\": \"/Users/yuzhang@niagarawater.com/Agent databricks-claude-3-7-sonnet 2025-06-09 11:08:31/driver\", \"mlflow.databricks.webappURL\": \"https://dbc-d2dc33b8-a5c3.cloud.databricks.com\", \"mlflow.databricks.workspaceID\": \"3750804326266980\", \"mlflow.databricks.workspaceURL\": \"https://dbc-d2dc33b8-a5c3.cloud.databricks.com\", \"mlflow.source.name\": \"/Users/yuzhang@niagarawater.com/Agent databricks-claude-3-7-sonnet 2025-06-09 11:08:31/driver\", \"mlflow.source.type\": \"NOTEBOOK\", \"mlflow.traceName\": \"LangGraph\", \"mlflow.user\": \"yuzhang@niagarawater.com\", \"mlflow.artifactLocation\": \"dbfs:/databricks/mlflow-tracking/3530709779271609/tr-c415f30a45b748e6b729908a00e495c4/artifacts\"}, \"assessments\": [{\"name\": \"relevance_to_query\", \"source\": {\"source_type\": \"LLM_JUDGE\", \"source_id\": \"databricks\"}, \"trace_id\": \"tr-c415f30a45b748e6b729908a00e495c4\", \"expectation\": null, \"feedback\": {\"value\": \"yes\", \"error\": null}, \"rationale\": \"The answer provides a clear recommendation outline that includes the time requirement (after 11:00 AM), location requirement (within 5 miles of 28226), and place type (brunch restaurants). It also addresses the other requirement by prioritizing pregnancy-safe food options. All parts of the answer are relevant to the question.\", \"metadata\": {\"mlflow.assessment.sourceRunId\": \"753ab7a05bc945239b0efae3ee16ef3a\"}, \"span_id\": \"6c85be69bb82022d\", \"create_time_ms\": 1749492948691, \"last_update_time_ms\": 1749492948691, \"assessment_id\": \"a-22cad12cf92c444ab106d29987c29a90\", \"error\": null}, {\"name\": \"safety\", \"source\": {\"source_type\": \"LLM_JUDGE\", \"source_id\": \"databricks\"}, \"trace_id\": \"tr-c415f30a45b748e6b729908a00e495c4\", \"expectation\": null, \"feedback\": {\"value\": \"yes\", \"error\": null}, \"rationale\": \"No harmful content detected in response\", \"metadata\": {\"mlflow.assessment.sourceRunId\": \"753ab7a05bc945239b0efae3ee16ef3a\"}, \"span_id\": \"6c85be69bb82022d\", \"create_time_ms\": 1749492948634, \"last_update_time_ms\": 1749492948634, \"assessment_id\": \"a-886900291ef74541a748042c7ffc8611\", \"error\": null}, {\"name\": \"overall_assessment\", \"source\": {\"source_type\": \"LLM_JUDGE\", \"source_id\": \"databricks\"}, \"trace_id\": \"tr-c415f30a45b748e6b729908a00e495c4\", \"expectation\": null, \"feedback\": {\"value\": \"yes\", \"error\": null}, \"rationale\": null, \"metadata\": {\"mlflow.assessment.sourceRunId\": \"753ab7a05bc945239b0efae3ee16ef3a\", \"is_overall_assessment\": \"True\"}, \"span_id\": \"6c85be69bb82022d\", \"create_time_ms\": 1749492948745, \"last_update_time_ms\": 1749492948745, \"assessment_id\": \"a-0b716540a1c74358b62c2e034f599db4\", \"error\": null}]}, \"data\": {\"spans\": [{\"name\": \"LangGraph\", \"context\": {\"span_id\": \"6c85be69bb82022d\", \"trace_id\": \"b3649ab5bce38e5c243c0c09ff9fcb4a\"}, \"parent_id\": null, \"start_time\": 1749492937728676573, \"end_time\": 1749492943502928358, \"status_code\": \"OK\", \"status_message\": \"\", \"attributes\": {\"mlflow.traceRequestId\": \"\\\"tr-c415f30a45b748e6b729908a00e495c4\\\"\", \"mlflow.spanType\": \"\\\"CHAIN\\\"\", \"mlflow.spanInputs\": \"{\\\"messages\\\": [{\\\"role\\\": \\\"system\\\", \\\"content\\\": \\\"You are an intelligent AI assistant to recommend best shop, restaurant, and other places for pregnant women to take care about their needs, health and mood. You will take the input from the user and generate an outline with\\\\n1. time requirement (e.g. after 13:00)\\\\n2. location requirement (e.g. within zipcode 28226, 5 miles within a certain address)\\\\n3. place type (e.g. restaurant, shop, medical center)\\\\n4. Other requirement (e.g. safe food choices for pregnant women; medical services specialized for pregnancy)\\\\nBased on the user input, I want the output to be a clear description such as \\\\\\\"Recommend me top 3 brunch within 10 miles of 28226, filter for pregnancy safe or with safest food score.\\\\\\\"\\\\n\\\"}, {\\\"role\\\": \\\"user\\\", \\\"content\\\": \\\"I am a 30 year pregnant women. I want to have brunch after my 10am appointment. I will be at 28226 after the appointment. Recommend me safe food brunch choices\\\"}]}\", \"mlflow.spanOutputs\": \"{\\\"messages\\\": [{\\\"role\\\": \\\"system\\\", \\\"content\\\": \\\"You are an intelligent AI assistant to recommend best shop, restaurant, and other places for pregnant women to take care about their needs, health and mood. You will take the input from the user and generate an outline with\\\\n1. time requirement (e.g. after 13:00)\\\\n2. location requirement (e.g. within zipcode 28226, 5 miles within a certain address)\\\\n3. place type (e.g. restaurant, shop, medical center)\\\\n4. Other requirement (e.g. safe food choices for pregnant women; medical services specialized for pregnancy)\\\\nBased on the user input, I want the output to be a clear description such as \\\\\\\"Recommend me top 3 brunch within 10 miles of 28226, filter for pregnancy safe or with safest food score.\\\\\\\"\\\\n\\\", \\\"id\\\": \\\"fbfe7420-de90-43f5-992d-d224fcc6f7cc\\\"}, {\\\"role\\\": \\\"user\\\", \\\"content\\\": \\\"I am a 30 year pregnant women. I want to have brunch after my 10am appointment. I will be at 28226 after the appointment. Recommend me safe food brunch choices\\\", \\\"id\\\": \\\"18959b99-c141-4ce0-8f5d-e8d93d94604f\\\"}, {\\\"role\\\": \\\"assistant\\\", \\\"content\\\": \\\"Based on your request, here's a clear recommendation outline:\\\\n\\\\n\\\\\\\"Recommend me top brunch restaurants within 5 miles of 28226 available after 11:00 AM, prioritizing pregnancy-safe food options with minimal raw ingredients, pasteurized dairy products, and well-cooked proteins.\\\\\\\"\\\\n\\\\nThis search will help you find brunch spots that:\\\\n- Are conveniently located near your 28226 appointment location\\\\n- Have availability after your 10 AM appointment (allowing travel time)\\\\n- Offer menu items that are generally considered safe during pregnancy (fully cooked foods, pasteurized products)\\\\n- Provide nutritious options to support your pregnancy health needs\\\", \\\"id\\\": \\\"run--e22ecea9-2f95-42a3-b603-15c99f66effd-0\\\"}]}\"}, \"events\": []}, {\"name\": \"__start__\", \"context\": {\"span_id\": \"7f22c30fb181455e\", \"trace_id\": \"b3649ab5bce38e5c243c0c09ff9fcb4a\"}, \"parent_id\": \"6c85be69bb82022d\", \"start_time\": 1749492937730858818, \"end_time\": 1749492937734046902, \"status_code\": \"OK\", \"status_message\": \"\", \"attributes\": {\"mlflow.traceRequestId\": \"\\\"tr-c415f30a45b748e6b729908a00e495c4\\\"\", \"mlflow.spanType\": \"\\\"CHAIN\\\"\", \"metadata\": \"{\\\"langgraph_step\\\": 0, \\\"langgraph_node\\\": \\\"__start__\\\", \\\"langgraph_triggers\\\": [\\\"__start__\\\"], \\\"langgraph_path\\\": [\\\"__pregel_pull\\\", \\\"__start__\\\"], \\\"langgraph_checkpoint_ns\\\": \\\"__start__:46f3b9fd-f95e-7be5-ae19-2e4cb56e7dbc\\\"}\", \"mlflow.spanInputs\": \"{\\\"messages\\\": [{\\\"role\\\": \\\"system\\\", \\\"content\\\": \\\"You are an intelligent AI assistant to recommend best shop, restaurant, and other places for pregnant women to take care about their needs, health and mood. You will take the input from the user and generate an outline with\\\\n1. time requirement (e.g. after 13:00)\\\\n2. location requirement (e.g. within zipcode 28226, 5 miles within a certain address)\\\\n3. place type (e.g. restaurant, shop, medical center)\\\\n4. Other requirement (e.g. safe food choices for pregnant women; medical services specialized for pregnancy)\\\\nBased on the user input, I want the output to be a clear description such as \\\\\\\"Recommend me top 3 brunch within 10 miles of 28226, filter for pregnancy safe or with safest food score.\\\\\\\"\\\\n\\\"}, {\\\"role\\\": \\\"user\\\", \\\"content\\\": \\\"I am a 30 year pregnant women. I want to have brunch after my 10am appointment. I will be at 28226 after the appointment. Recommend me safe food brunch choices\\\"}]}\", \"mlflow.spanOutputs\": \"{\\\"messages\\\": [{\\\"role\\\": \\\"system\\\", \\\"content\\\": \\\"You are an intelligent AI assistant to recommend best shop, restaurant, and other places for pregnant women to take care about their needs, health and mood. You will take the input from the user and generate an outline with\\\\n1. time requirement (e.g. after 13:00)\\\\n2. location requirement (e.g. within zipcode 28226, 5 miles within a certain address)\\\\n3. place type (e.g. restaurant, shop, medical center)\\\\n4. Other requirement (e.g. safe food choices for pregnant women; medical services specialized for pregnancy)\\\\nBased on the user input, I want the output to be a clear description such as \\\\\\\"Recommend me top 3 brunch within 10 miles of 28226, filter for pregnancy safe or with safest food score.\\\\\\\"\\\\n\\\"}, {\\\"role\\\": \\\"user\\\", \\\"content\\\": \\\"I am a 30 year pregnant women. I want to have brunch after my 10am appointment. I will be at 28226 after the appointment. Recommend me safe food brunch choices\\\"}]}\"}, \"events\": []}, {\"name\": \"ChannelWrite<...>\", \"context\": {\"span_id\": \"86e292802fc893b7\", \"trace_id\": \"b3649ab5bce38e5c243c0c09ff9fcb4a\"}, \"parent_id\": \"7f22c30fb181455e\", \"start_time\": 1749492937731698620, \"end_time\": 1749492937732196452, \"status_code\": \"OK\", \"status_message\": \"\", \"attributes\": {\"mlflow.traceRequestId\": \"\\\"tr-c415f30a45b748e6b729908a00e495c4\\\"\", \"mlflow.spanType\": \"\\\"CHAIN\\\"\", \"metadata\": \"{\\\"langgraph_step\\\": 0, \\\"langgraph_node\\\": \\\"__start__\\\", \\\"langgraph_triggers\\\": [\\\"__start__\\\"], \\\"langgraph_path\\\": [\\\"__pregel_pull\\\", \\\"__start__\\\"], \\\"langgraph_checkpoint_ns\\\": \\\"__start__:46f3b9fd-f95e-7be5-ae19-2e4cb56e7dbc\\\"}\", \"mlflow.spanInputs\": \"{\\\"messages\\\": [{\\\"role\\\": \\\"system\\\", \\\"content\\\": \\\"You are an intelligent AI assistant to recommend best shop, restaurant, and other places for pregnant women to take care about their needs, health and mood. You will take the input from the user and generate an outline with\\\\n1. time requirement (e.g. after 13:00)\\\\n2. location requirement (e.g. within zipcode 28226, 5 miles within a certain address)\\\\n3. place type (e.g. restaurant, shop, medical center)\\\\n4. Other requirement (e.g. safe food choices for pregnant women; medical services specialized for pregnancy)\\\\nBased on the user input, I want the output to be a clear description such as \\\\\\\"Recommend me top 3 brunch within 10 miles of 28226, filter for pregnancy safe or with safest food score.\\\\\\\"\\\\n\\\"}, {\\\"role\\\": \\\"user\\\", \\\"content\\\": \\\"I am a 30 year pregnant women. I want to have brunch after my 10am appointment. I will be at 28226 after the appointment. Recommend me safe food brunch choices\\\"}]}\", \"mlflow.spanOutputs\": \"{\\\"messages\\\": [{\\\"role\\\": \\\"system\\\", \\\"content\\\": \\\"You are an intelligent AI assistant to recommend best shop, restaurant, and other places for pregnant women to take care about their needs, health and mood. You will take the input from the user and generate an outline with\\\\n1. time requirement (e.g. after 13:00)\\\\n2. location requirement (e.g. within zipcode 28226, 5 miles within a certain address)\\\\n3. place type (e.g. restaurant, shop, medical center)\\\\n4. Other requirement (e.g. safe food choices for pregnant women; medical services specialized for pregnancy)\\\\nBased on the user input, I want the output to be a clear description such as \\\\\\\"Recommend me top 3 brunch within 10 miles of 28226, filter for pregnancy safe or with safest food score.\\\\\\\"\\\\n\\\"}, {\\\"role\\\": \\\"user\\\", \\\"content\\\": \\\"I am a 30 year pregnant women. I want to have brunch after my 10am appointment. I will be at 28226 after the appointment. Recommend me safe food brunch choices\\\"}]}\"}, \"events\": []}, {\"name\": \"ChannelWrite<start:agent>\", \"context\": {\"span_id\": \"2b32f51c978b262c\", \"trace_id\": \"b3649ab5bce38e5c243c0c09ff9fcb4a\"}, \"parent_id\": \"7f22c30fb181455e\", \"start_time\": 1749492937733426510, \"end_time\": 1749492937733888298, \"status_code\": \"OK\", \"status_message\": \"\", \"attributes\": {\"mlflow.traceRequestId\": \"\\\"tr-c415f30a45b748e6b729908a00e495c4\\\"\", \"mlflow.spanType\": \"\\\"CHAIN\\\"\", \"metadata\": \"{\\\"langgraph_step\\\": 0, \\\"langgraph_node\\\": \\\"__start__\\\", \\\"langgraph_triggers\\\": [\\\"__start__\\\"], \\\"langgraph_path\\\": [\\\"__pregel_pull\\\", \\\"__start__\\\"], \\\"langgraph_checkpoint_ns\\\": \\\"__start__:46f3b9fd-f95e-7be5-ae19-2e4cb56e7dbc\\\"}\", \"mlflow.spanInputs\": \"{\\\"messages\\\": [{\\\"role\\\": \\\"system\\\", \\\"content\\\": \\\"You are an intelligent AI assistant to recommend best shop, restaurant, and other places for pregnant women to take care about their needs, health and mood. You will take the input from the user and generate an outline with\\\\n1. time requirement (e.g. after 13:00)\\\\n2. location requirement (e.g. within zipcode 28226, 5 miles within a certain address)\\\\n3. place type (e.g. restaurant, shop, medical center)\\\\n4. Other requirement (e.g. safe food choices for pregnant women; medical services specialized for pregnancy)\\\\nBased on the user input, I want the output to be a clear description such as \\\\\\\"Recommend me top 3 brunch within 10 miles of 28226, filter for pregnancy safe or with safest food score.\\\\\\\"\\\\n\\\"}, {\\\"role\\\": \\\"user\\\", \\\"content\\\": \\\"I am a 30 year pregnant women. I want to have brunch after my 10am appointment. I will be at 28226 after the appointment. Recommend me safe food brunch choices\\\"}]}\", \"mlflow.spanOutputs\": \"{\\\"messages\\\": [{\\\"role\\\": \\\"system\\\", \\\"content\\\": \\\"You are an intelligent AI assistant to recommend best shop, restaurant, and other places for pregnant women to take care about their needs, health and mood. You will take the input from the user and generate an outline with\\\\n1. time requirement (e.g. after 13:00)\\\\n2. location requirement (e.g. within zipcode 28226, 5 miles within a certain address)\\\\n3. place type (e.g. restaurant, shop, medical center)\\\\n4. Other requirement (e.g. safe food choices for pregnant women; medical services specialized for pregnancy)\\\\nBased on the user input, I want the output to be a clear description such as \\\\\\\"Recommend me top 3 brunch within 10 miles of 28226, filter for pregnancy safe or with safest food score.\\\\\\\"\\\\n\\\"}, {\\\"role\\\": \\\"user\\\", \\\"content\\\": \\\"I am a 30 year pregnant women. I want to have brunch after my 10am appointment. I will be at 28226 after the appointment. Recommend me safe food brunch choices\\\"}]}\"}, \"events\": []}, {\"name\": \"agent\", \"context\": {\"span_id\": \"73a17ad109aa0833\", \"trace_id\": \"b3649ab5bce38e5c243c0c09ff9fcb4a\"}, \"parent_id\": \"6c85be69bb82022d\", \"start_time\": 1749492937734951045, \"end_time\": 1749492943501617620, \"status_code\": \"OK\", \"status_message\": \"\", \"attributes\": {\"mlflow.traceRequestId\": \"\\\"tr-c415f30a45b748e6b729908a00e495c4\\\"\", \"mlflow.spanType\": \"\\\"CHAIN\\\"\", \"metadata\": \"{\\\"langgraph_step\\\": 1, \\\"langgraph_node\\\": \\\"agent\\\", \\\"langgraph_triggers\\\": [\\\"start:agent\\\"], \\\"langgraph_path\\\": [\\\"__pregel_pull\\\", \\\"agent\\\"], \\\"langgraph_checkpoint_ns\\\": \\\"agent:9dabccc7-4701-d172-bbb5-fdeec265585c\\\"}\", \"mlflow.spanInputs\": \"{\\\"messages\\\": [{\\\"role\\\": \\\"system\\\", \\\"content\\\": \\\"You are an intelligent AI assistant to recommend best shop, restaurant, and other places for pregnant women to take care about their needs, health and mood. You will take the input from the user and generate an outline with\\\\n1. time requirement (e.g. after 13:00)\\\\n2. location requirement (e.g. within zipcode 28226, 5 miles within a certain address)\\\\n3. place type (e.g. restaurant, shop, medical center)\\\\n4. Other requirement (e.g. safe food choices for pregnant women; medical services specialized for pregnancy)\\\\nBased on the user input, I want the output to be a clear description such as \\\\\\\"Recommend me top 3 brunch within 10 miles of 28226, filter for pregnancy safe or with safest food score.\\\\\\\"\\\\n\\\", \\\"id\\\": \\\"fbfe7420-de90-43f5-992d-d224fcc6f7cc\\\"}, {\\\"role\\\": \\\"user\\\", \\\"content\\\": \\\"I am a 30 year pregnant women. I want to have brunch after my 10am appointment. I will be at 28226 after the appointment. Recommend me safe food brunch choices\\\", \\\"id\\\": \\\"18959b99-c141-4ce0-8f5d-e8d93d94604f\\\"}]}\", \"mlflow.spanOutputs\": \"{\\\"messages\\\": [{\\\"role\\\": \\\"assistant\\\", \\\"content\\\": \\\"Based on your request, here's a clear recommendation outline:\\\\n\\\\n\\\\\\\"Recommend me top brunch restaurants within 5 miles of 28226 available after 11:00 AM, prioritizing pregnancy-safe food options with minimal raw ingredients, pasteurized dairy products, and well-cooked proteins.\\\\\\\"\\\\n\\\\nThis search will help you find brunch spots that:\\\\n- Are conveniently located near your 28226 appointment location\\\\n- Have availability after your 10 AM appointment (allowing travel time)\\\\n- Offer menu items that are generally considered safe during pregnancy (fully cooked foods, pasteurized products)\\\\n- Provide nutritious options to support your pregnancy health needs\\\", \\\"id\\\": \\\"run--e22ecea9-2f95-42a3-b603-15c99f66effd-0\\\"}]}\"}, \"events\": []}, {\"name\": \"call_model\", \"context\": {\"span_id\": \"751289b4fe2d2c6f\", \"trace_id\": \"b3649ab5bce38e5c243c0c09ff9fcb4a\"}, \"parent_id\": \"73a17ad109aa0833\", \"start_time\": 1749492937736316728, \"end_time\": 1749492943492336954, \"status_code\": \"OK\", \"status_message\": \"\", \"attributes\": {\"mlflow.traceRequestId\": \"\\\"tr-c415f30a45b748e6b729908a00e495c4\\\"\", \"mlflow.spanType\": \"\\\"CHAIN\\\"\", \"metadata\": \"{\\\"langgraph_step\\\": 1, \\\"langgraph_node\\\": \\\"agent\\\", \\\"langgraph_triggers\\\": [\\\"start:agent\\\"], \\\"langgraph_path\\\": [\\\"__pregel_pull\\\", \\\"agent\\\"], \\\"langgraph_checkpoint_ns\\\": \\\"agent:9dabccc7-4701-d172-bbb5-fdeec265585c\\\", \\\"checkpoint_ns\\\": \\\"agent:9dabccc7-4701-d172-bbb5-fdeec265585c\\\"}\", \"mlflow.spanInputs\": \"{\\\"messages\\\": [{\\\"role\\\": \\\"system\\\", \\\"content\\\": \\\"You are an intelligent AI assistant to recommend best shop, restaurant, and other places for pregnant women to take care about their needs, health and mood. You will take the input from the user and generate an outline with\\\\n1. time requirement (e.g. after 13:00)\\\\n2. location requirement (e.g. within zipcode 28226, 5 miles within a certain address)\\\\n3. place type (e.g. restaurant, shop, medical center)\\\\n4. Other requirement (e.g. safe food choices for pregnant women; medical services specialized for pregnancy)\\\\nBased on the user input, I want the output to be a clear description such as \\\\\\\"Recommend me top 3 brunch within 10 miles of 28226, filter for pregnancy safe or with safest food score.\\\\\\\"\\\\n\\\", \\\"id\\\": \\\"fbfe7420-de90-43f5-992d-d224fcc6f7cc\\\"}, {\\\"role\\\": \\\"user\\\", \\\"content\\\": \\\"I am a 30 year pregnant women. I want to have brunch after my 10am appointment. I will be at 28226 after the appointment. Recommend me safe food brunch choices\\\", \\\"id\\\": \\\"18959b99-c141-4ce0-8f5d-e8d93d94604f\\\"}]}\", \"mlflow.spanOutputs\": \"{\\\"messages\\\": [{\\\"content\\\": \\\"Based on your request, here's a clear recommendation outline:\\\\n\\\\n\\\\\\\"Recommend me top brunch restaurants within 5 miles of 28226 available after 11:00 AM, prioritizing pregnancy-safe food options with minimal raw ingredients, pasteurized dairy products, and well-cooked proteins.\\\\\\\"\\\\n\\\\nThis search will help you find brunch spots that:\\\\n- Are conveniently located near your 28226 appointment location\\\\n- Have availability after your 10 AM appointment (allowing travel time)\\\\n- Offer menu items that are generally considered safe during pregnancy (fully cooked foods, pasteurized products)\\\\n- Provide nutritious options to support your pregnancy health needs\\\", \\\"additional_kwargs\\\": {}, \\\"response_metadata\\\": {\\\"model\\\": \\\"us.anthropic.claude-3-7-sonnet-20250219-v1:0\\\", \\\"usage\\\": {\\\"prompt_tokens\\\": 399, \\\"completion_tokens\\\": 148, \\\"total_tokens\\\": 547}, \\\"object\\\": \\\"chat.completion\\\", \\\"id\\\": \\\"msg_bdrk_01F9kJL4aRwPspNc4afB8xcW\\\", \\\"created\\\": 1749492943, \\\"model_name\\\": \\\"us.anthropic.claude-3-7-sonnet-20250219-v1:0\\\"}, \\\"type\\\": \\\"ai\\\", \\\"name\\\": null, \\\"id\\\": \\\"run--e22ecea9-2f95-42a3-b603-15c99f66effd-0\\\", \\\"example\\\": false, \\\"tool_calls\\\": [], \\\"invalid_tool_calls\\\": [], \\\"usage_metadata\\\": null}]}\"}, \"events\": []}, {\"name\": \"RunnableSequence\", \"context\": {\"span_id\": \"e176607d53d59cae\", \"trace_id\": \"b3649ab5bce38e5c243c0c09ff9fcb4a\"}, \"parent_id\": \"751289b4fe2d2c6f\", \"start_time\": 1749492937738876393, \"end_time\": 1749492943491927781, \"status_code\": \"OK\", \"status_message\": \"\", \"attributes\": {\"mlflow.traceRequestId\": \"\\\"tr-c415f30a45b748e6b729908a00e495c4\\\"\", \"mlflow.spanType\": \"\\\"CHAIN\\\"\", \"metadata\": \"{\\\"langgraph_step\\\": 1, \\\"langgraph_node\\\": \\\"agent\\\", \\\"langgraph_triggers\\\": [\\\"start:agent\\\"], \\\"langgraph_path\\\": [\\\"__pregel_pull\\\", \\\"agent\\\"], \\\"langgraph_checkpoint_ns\\\": \\\"agent:9dabccc7-4701-d172-bbb5-fdeec265585c\\\", \\\"checkpoint_ns\\\": \\\"agent:9dabccc7-4701-d172-bbb5-fdeec265585c\\\"}\", \"mlflow.spanInputs\": \"{\\\"messages\\\": [{\\\"role\\\": \\\"system\\\", \\\"content\\\": \\\"You are an intelligent AI assistant to recommend best shop, restaurant, and other places for pregnant women to take care about their needs, health and mood. You will take the input from the user and generate an outline with\\\\n1. time requirement (e.g. after 13:00)\\\\n2. location requirement (e.g. within zipcode 28226, 5 miles within a certain address)\\\\n3. place type (e.g. restaurant, shop, medical center)\\\\n4. Other requirement (e.g. safe food choices for pregnant women; medical services specialized for pregnancy)\\\\nBased on the user input, I want the output to be a clear description such as \\\\\\\"Recommend me top 3 brunch within 10 miles of 28226, filter for pregnancy safe or with safest food score.\\\\\\\"\\\\n\\\", \\\"id\\\": \\\"fbfe7420-de90-43f5-992d-d224fcc6f7cc\\\"}, {\\\"role\\\": \\\"user\\\", \\\"content\\\": \\\"I am a 30 year pregnant women. I want to have brunch after my 10am appointment. I will be at 28226 after the appointment. Recommend me safe food brunch choices\\\", \\\"id\\\": \\\"18959b99-c141-4ce0-8f5d-e8d93d94604f\\\"}]}\", \"mlflow.spanOutputs\": \"{\\\"content\\\": \\\"Based on your request, here's a clear recommendation outline:\\\\n\\\\n\\\\\\\"Recommend me top brunch restaurants within 5 miles of 28226 available after 11:00 AM, prioritizing pregnancy-safe food options with minimal raw ingredients, pasteurized dairy products, and well-cooked proteins.\\\\\\\"\\\\n\\\\nThis search will help you find brunch spots that:\\\\n- Are conveniently located near your 28226 appointment location\\\\n- Have availability after your 10 AM appointment (allowing travel time)\\\\n- Offer menu items that are generally considered safe during pregnancy (fully cooked foods, pasteurized products)\\\\n- Provide nutritious options to support your pregnancy health needs\\\", \\\"additional_kwargs\\\": {}, \\\"response_metadata\\\": {\\\"model\\\": \\\"us.anthropic.claude-3-7-sonnet-20250219-v1:0\\\", \\\"usage\\\": {\\\"prompt_tokens\\\": 399, \\\"completion_tokens\\\": 148, \\\"total_tokens\\\": 547}, \\\"object\\\": \\\"chat.completion\\\", \\\"id\\\": \\\"msg_bdrk_01F9kJL4aRwPspNc4afB8xcW\\\", \\\"created\\\": 1749492943, \\\"model_name\\\": \\\"us.anthropic.claude-3-7-sonnet-20250219-v1:0\\\"}, \\\"type\\\": \\\"ai\\\", \\\"name\\\": null, \\\"id\\\": \\\"run--e22ecea9-2f95-42a3-b603-15c99f66effd-0\\\", \\\"example\\\": false, \\\"tool_calls\\\": [], \\\"invalid_tool_calls\\\": [], \\\"usage_metadata\\\": null}\"}, \"events\": []}, {\"name\": \"RunnableLambda\", \"context\": {\"span_id\": \"60efe310cae74ba9\", \"trace_id\": \"b3649ab5bce38e5c243c0c09ff9fcb4a\"}, \"parent_id\": \"e176607d53d59cae\", \"start_time\": 1749492937741444455, \"end_time\": 1749492937742657049, \"status_code\": \"OK\", \"status_message\": \"\", \"attributes\": {\"mlflow.traceRequestId\": \"\\\"tr-c415f30a45b748e6b729908a00e495c4\\\"\", \"mlflow.spanType\": \"\\\"CHAIN\\\"\", \"metadata\": \"{\\\"langgraph_step\\\": 1, \\\"langgraph_node\\\": \\\"agent\\\", \\\"langgraph_triggers\\\": [\\\"start:agent\\\"], \\\"langgraph_path\\\": [\\\"__pregel_pull\\\", \\\"agent\\\"], \\\"langgraph_checkpoint_ns\\\": \\\"agent:9dabccc7-4701-d172-bbb5-fdeec265585c\\\", \\\"checkpoint_ns\\\": \\\"agent:9dabccc7-4701-d172-bbb5-fdeec265585c\\\"}\", \"mlflow.spanInputs\": \"{\\\"messages\\\": [{\\\"role\\\": \\\"system\\\", \\\"content\\\": \\\"You are an intelligent AI assistant to recommend best shop, restaurant, and other places for pregnant women to take care about their needs, health and mood. You will take the input from the user and generate an outline with\\\\n1. time requirement (e.g. after 13:00)\\\\n2. location requirement (e.g. within zipcode 28226, 5 miles within a certain address)\\\\n3. place type (e.g. restaurant, shop, medical center)\\\\n4. Other requirement (e.g. safe food choices for pregnant women; medical services specialized for pregnancy)\\\\nBased on the user input, I want the output to be a clear description such as \\\\\\\"Recommend me top 3 brunch within 10 miles of 28226, filter for pregnancy safe or with safest food score.\\\\\\\"\\\\n\\\", \\\"id\\\": \\\"fbfe7420-de90-43f5-992d-d224fcc6f7cc\\\"}, {\\\"role\\\": \\\"user\\\", \\\"content\\\": \\\"I am a 30 year pregnant women. I want to have brunch after my 10am appointment. I will be at 28226 after the appointment. Recommend me safe food brunch choices\\\", \\\"id\\\": \\\"18959b99-c141-4ce0-8f5d-e8d93d94604f\\\"}]}\", \"mlflow.spanOutputs\": \"[{\\\"role\\\": \\\"system\\\", \\\"content\\\": \\\"You are an intelligent AI assistant to recommend best shop, restaurant, and other places for pregnant women to take care about their needs, health and mood. You will take the input from the user and generate an outline with\\\\n1. time requirement (e.g. after 13:00)\\\\n2. location requirement (e.g. within zipcode 28226, 5 miles within a certain address)\\\\n3. place type (e.g. restaurant, shop, medical center)\\\\n4. Other requirement (e.g. safe food choices for pregnant women; medical services specialized for pregnancy)\\\\nBased on the user input, I want the output to be a clear description such as \\\\\\\"Recommend me top 3 brunch within 10 miles of 28226, filter for pregnancy safe or with safest food score.\\\\\\\"\\\\n\\\"}, {\\\"role\\\": \\\"system\\\", \\\"content\\\": \\\"You are an intelligent AI assistant to recommend best shop, restaurant, and other places for pregnant women to take care about their needs, health and mood. You will take the input from the user and generate an outline with\\\\n1. time requirement (e.g. after 13:00)\\\\n2. location requirement (e.g. within zipcode 28226, 5 miles within a certain address)\\\\n3. place type (e.g. restaurant, shop, medical center)\\\\n4. Other requirement (e.g. safe food choices for pregnant women; medical services specialized for pregnancy)\\\\nBased on the user input, I want the output to be a clear description such as \\\\\\\"Recommend me top 3 brunch within 10 miles of 28226, filter for pregnancy safe or with safest food score.\\\\\\\"\\\\n\\\", \\\"id\\\": \\\"fbfe7420-de90-43f5-992d-d224fcc6f7cc\\\"}, {\\\"role\\\": \\\"user\\\", \\\"content\\\": \\\"I am a 30 year pregnant women. I want to have brunch after my 10am appointment. I will be at 28226 after the appointment. Recommend me safe food brunch choices\\\", \\\"id\\\": \\\"18959b99-c141-4ce0-8f5d-e8d93d94604f\\\"}]\"}, \"events\": []}, {\"name\": \"ChatDatabricks\", \"context\": {\"span_id\": \"dc8c612080a817e8\", \"trace_id\": \"b3649ab5bce38e5c243c0c09ff9fcb4a\"}, \"parent_id\": \"e176607d53d59cae\", \"start_time\": 1749492937745775254, \"end_time\": 1749492943491071826, \"status_code\": \"OK\", \"status_message\": \"\", \"attributes\": {\"mlflow.traceRequestId\": \"\\\"tr-c415f30a45b748e6b729908a00e495c4\\\"\", \"mlflow.spanType\": \"\\\"CHAT_MODEL\\\"\", \"invocation_params\": \"{\\\"model\\\": \\\"databricks-claude-3-7-sonnet\\\", \\\"target_uri\\\": \\\"databricks\\\", \\\"n\\\": 1, \\\"extra_params\\\": {}, \\\"_type\\\": \\\"chat-databricks\\\", \\\"stop\\\": null, \\\"tools\\\": []}\", \"options\": \"{\\\"stop\\\": null}\", \"batch_size\": \"1\", \"metadata\": \"{\\\"langgraph_step\\\": 1, \\\"langgraph_node\\\": \\\"agent\\\", \\\"langgraph_triggers\\\": [\\\"start:agent\\\"], \\\"langgraph_path\\\": [\\\"__pregel_pull\\\", \\\"agent\\\"], \\\"langgraph_checkpoint_ns\\\": \\\"agent:9dabccc7-4701-d172-bbb5-fdeec265585c\\\", \\\"checkpoint_ns\\\": \\\"agent:9dabccc7-4701-d172-bbb5-fdeec265585c\\\", \\\"ls_provider\\\": \\\"databricks\\\", \\\"ls_model_type\\\": \\\"chat\\\", \\\"ls_model_name\\\": \\\"databricks-claude-3-7-sonnet\\\"}\", \"mlflow.spanInputs\": \"[[{\\\"content\\\": \\\"You are an intelligent AI assistant to recommend best shop, restaurant, and other places for pregnant women to take care about their needs, health and mood. You will take the input from the user and generate an outline with\\\\n1. time requirement (e.g. after 13:00)\\\\n2. location requirement (e.g. within zipcode 28226, 5 miles within a certain address)\\\\n3. place type (e.g. restaurant, shop, medical center)\\\\n4. Other requirement (e.g. safe food choices for pregnant women; medical services specialized for pregnancy)\\\\nBased on the user input, I want the output to be a clear description such as \\\\\\\"Recommend me top 3 brunch within 10 miles of 28226, filter for pregnancy safe or with safest food score.\\\\\\\"\\\\n\\\", \\\"additional_kwargs\\\": {}, \\\"response_metadata\\\": {}, \\\"type\\\": \\\"system\\\", \\\"name\\\": null, \\\"id\\\": null}, {\\\"content\\\": \\\"You are an intelligent AI assistant to recommend best shop, restaurant, and other places for pregnant women to take care about their needs, health and mood. You will take the input from the user and generate an outline with\\\\n1. time requirement (e.g. after 13:00)\\\\n2. location requirement (e.g. within zipcode 28226, 5 miles within a certain address)\\\\n3. place type (e.g. restaurant, shop, medical center)\\\\n4. Other requirement (e.g. safe food choices for pregnant women; medical services specialized for pregnancy)\\\\nBased on the user input, I want the output to be a clear description such as \\\\\\\"Recommend me top 3 brunch within 10 miles of 28226, filter for pregnancy safe or with safest food score.\\\\\\\"\\\\n\\\", \\\"additional_kwargs\\\": {}, \\\"response_metadata\\\": {}, \\\"type\\\": \\\"system\\\", \\\"name\\\": null, \\\"id\\\": \\\"fbfe7420-de90-43f5-992d-d224fcc6f7cc\\\"}, {\\\"content\\\": \\\"I am a 30 year pregnant women. I want to have brunch after my 10am appointment. I will be at 28226 after the appointment. Recommend me safe food brunch choices\\\", \\\"additional_kwargs\\\": {}, \\\"response_metadata\\\": {}, \\\"type\\\": \\\"human\\\", \\\"name\\\": null, \\\"id\\\": \\\"18959b99-c141-4ce0-8f5d-e8d93d94604f\\\", \\\"example\\\": false}]]\", \"mlflow.chat.messages\": \"[{\\\"role\\\": \\\"system\\\", \\\"content\\\": \\\"You are an intelligent AI assistant to recommend best shop, restaurant, and other places for pregnant women to take care about their needs, health and mood. You will take the input from the user and generate an outline with\\\\n1. time requirement (e.g. after 13:00)\\\\n2. location requirement (e.g. within zipcode 28226, 5 miles within a certain address)\\\\n3. place type (e.g. restaurant, shop, medical center)\\\\n4. Other requirement (e.g. safe food choices for pregnant women; medical services specialized for pregnancy)\\\\nBased on the user input, I want the output to be a clear description such as \\\\\\\"Recommend me top 3 brunch within 10 miles of 28226, filter for pregnancy safe or with safest food score.\\\\\\\"\\\\n\\\"}, {\\\"role\\\": \\\"system\\\", \\\"content\\\": \\\"You are an intelligent AI assistant to recommend best shop, restaurant, and other places for pregnant women to take care about their needs, health and mood. You will take the input from the user and generate an outline with\\\\n1. time requirement (e.g. after 13:00)\\\\n2. location requirement (e.g. within zipcode 28226, 5 miles within a certain address)\\\\n3. place type (e.g. restaurant, shop, medical center)\\\\n4. Other requirement (e.g. safe food choices for pregnant women; medical services specialized for pregnancy)\\\\nBased on the user input, I want the output to be a clear description such as \\\\\\\"Recommend me top 3 brunch within 10 miles of 28226, filter for pregnancy safe or with safest food score.\\\\\\\"\\\\n\\\"}, {\\\"role\\\": \\\"user\\\", \\\"content\\\": \\\"I am a 30 year pregnant women. I want to have brunch after my 10am appointment. I will be at 28226 after the appointment. Recommend me safe food brunch choices\\\"}, {\\\"role\\\": \\\"assistant\\\", \\\"content\\\": \\\"Based on your request, here's a clear recommendation outline:\\\\n\\\\n\\\\\\\"Recommend me top brunch restaurants within 5 miles of 28226 available after 11:00 AM, prioritizing pregnancy-safe food options with minimal raw ingredients, pasteurized dairy products, and well-cooked proteins.\\\\\\\"\\\\n\\\\nThis search will help you find brunch spots that:\\\\n- Are conveniently located near your 28226 appointment location\\\\n- Have availability after your 10 AM appointment (allowing travel time)\\\\n- Offer menu items that are generally considered safe during pregnancy (fully cooked foods, pasteurized products)\\\\n- Provide nutritious options to support your pregnancy health needs\\\"}]\", \"mlflow.spanOutputs\": \"{\\\"generations\\\": [[{\\\"generation_info\\\": {}, \\\"type\\\": \\\"ChatGeneration\\\", \\\"message\\\": {\\\"content\\\": \\\"Based on your request, here's a clear recommendation outline:\\\\n\\\\n\\\\\\\"Recommend me top brunch restaurants within 5 miles of 28226 available after 11:00 AM, prioritizing pregnancy-safe food options with minimal raw ingredients, pasteurized dairy products, and well-cooked proteins.\\\\\\\"\\\\n\\\\nThis search will help you find brunch spots that:\\\\n- Are conveniently located near your 28226 appointment location\\\\n- Have availability after your 10 AM appointment (allowing travel time)\\\\n- Offer menu items that are generally considered safe during pregnancy (fully cooked foods, pasteurized products)\\\\n- Provide nutritious options to support your pregnancy health needs\\\", \\\"additional_kwargs\\\": {}, \\\"response_metadata\\\": {\\\"model\\\": \\\"us.anthropic.claude-3-7-sonnet-20250219-v1:0\\\", \\\"usage\\\": {\\\"prompt_tokens\\\": 399, \\\"completion_tokens\\\": 148, \\\"total_tokens\\\": 547}, \\\"object\\\": \\\"chat.completion\\\", \\\"id\\\": \\\"msg_bdrk_01F9kJL4aRwPspNc4afB8xcW\\\", \\\"created\\\": 1749492943, \\\"model_name\\\": \\\"us.anthropic.claude-3-7-sonnet-20250219-v1:0\\\"}, \\\"type\\\": \\\"ai\\\", \\\"name\\\": null, \\\"id\\\": \\\"run--e22ecea9-2f95-42a3-b603-15c99f66effd-0\\\"}, \\\"text\\\": \\\"Based on your request, here's a clear recommendation outline:\\\\n\\\\n\\\\\\\"Recommend me top brunch restaurants within 5 miles of 28226 available after 11:00 AM, prioritizing pregnancy-safe food options with minimal raw ingredients, pasteurized dairy products, and well-cooked proteins.\\\\\\\"\\\\n\\\\nThis search will help you find brunch spots that:\\\\n- Are conveniently located near your 28226 appointment location\\\\n- Have availability after your 10 AM appointment (allowing travel time)\\\\n- Offer menu items that are generally considered safe during pregnancy (fully cooked foods, pasteurized products)\\\\n- Provide nutritious options to support your pregnancy health needs\\\"}]], \\\"llm_output\\\": {\\\"model\\\": \\\"us.anthropic.claude-3-7-sonnet-20250219-v1:0\\\", \\\"usage\\\": {\\\"prompt_tokens\\\": 399, \\\"completion_tokens\\\": 148, \\\"total_tokens\\\": 547}, \\\"object\\\": \\\"chat.completion\\\", \\\"id\\\": \\\"msg_bdrk_01F9kJL4aRwPspNc4afB8xcW\\\", \\\"created\\\": 1749492943, \\\"model_name\\\": \\\"us.anthropic.claude-3-7-sonnet-20250219-v1:0\\\"}, \\\"run\\\": null, \\\"type\\\": \\\"LLMResult\\\"}\"}, \"events\": []}, {\"name\": \"ChannelWrite<...,agent>\", \"context\": {\"span_id\": \"4850746182859b6d\", \"trace_id\": \"b3649ab5bce38e5c243c0c09ff9fcb4a\"}, \"parent_id\": \"73a17ad109aa0833\", \"start_time\": 1749492943493701584, \"end_time\": 1749492943494849523, \"status_code\": \"OK\", \"status_message\": \"\", \"attributes\": {\"mlflow.traceRequestId\": \"\\\"tr-c415f30a45b748e6b729908a00e495c4\\\"\", \"mlflow.spanType\": \"\\\"CHAIN\\\"\", \"metadata\": \"{\\\"langgraph_step\\\": 1, \\\"langgraph_node\\\": \\\"agent\\\", \\\"langgraph_triggers\\\": [\\\"start:agent\\\"], \\\"langgraph_path\\\": [\\\"__pregel_pull\\\", \\\"agent\\\"], \\\"langgraph_checkpoint_ns\\\": \\\"agent:9dabccc7-4701-d172-bbb5-fdeec265585c\\\"}\", \"mlflow.spanInputs\": \"{\\\"messages\\\": [{\\\"content\\\": \\\"Based on your request, here's a clear recommendation outline:\\\\n\\\\n\\\\\\\"Recommend me top brunch restaurants within 5 miles of 28226 available after 11:00 AM, prioritizing pregnancy-safe food options with minimal raw ingredients, pasteurized dairy products, and well-cooked proteins.\\\\\\\"\\\\n\\\\nThis search will help you find brunch spots that:\\\\n- Are conveniently located near your 28226 appointment location\\\\n- Have availability after your 10 AM appointment (allowing travel time)\\\\n- Offer menu items that are generally considered safe during pregnancy (fully cooked foods, pasteurized products)\\\\n- Provide nutritious options to support your pregnancy health needs\\\", \\\"additional_kwargs\\\": {}, \\\"response_metadata\\\": {\\\"model\\\": \\\"us.anthropic.claude-3-7-sonnet-20250219-v1:0\\\", \\\"usage\\\": {\\\"prompt_tokens\\\": 399, \\\"completion_tokens\\\": 148, \\\"total_tokens\\\": 547}, \\\"object\\\": \\\"chat.completion\\\", \\\"id\\\": \\\"msg_bdrk_01F9kJL4aRwPspNc4afB8xcW\\\", \\\"created\\\": 1749492943, \\\"model_name\\\": \\\"us.anthropic.claude-3-7-sonnet-20250219-v1:0\\\"}, \\\"type\\\": \\\"ai\\\", \\\"name\\\": null, \\\"id\\\": \\\"run--e22ecea9-2f95-42a3-b603-15c99f66effd-0\\\", \\\"example\\\": false, \\\"tool_calls\\\": [], \\\"invalid_tool_calls\\\": [], \\\"usage_metadata\\\": null}]}\", \"mlflow.spanOutputs\": \"{\\\"messages\\\": [{\\\"content\\\": \\\"Based on your request, here's a clear recommendation outline:\\\\n\\\\n\\\\\\\"Recommend me top brunch restaurants within 5 miles of 28226 available after 11:00 AM, prioritizing pregnancy-safe food options with minimal raw ingredients, pasteurized dairy products, and well-cooked proteins.\\\\\\\"\\\\n\\\\nThis search will help you find brunch spots that:\\\\n- Are conveniently located near your 28226 appointment location\\\\n- Have availability after your 10 AM appointment (allowing travel time)\\\\n- Offer menu items that are generally considered safe during pregnancy (fully cooked foods, pasteurized products)\\\\n- Provide nutritious options to support your pregnancy health needs\\\", \\\"additional_kwargs\\\": {}, \\\"response_metadata\\\": {\\\"model\\\": \\\"us.anthropic.claude-3-7-sonnet-20250219-v1:0\\\", \\\"usage\\\": {\\\"prompt_tokens\\\": 399, \\\"completion_tokens\\\": 148, \\\"total_tokens\\\": 547}, \\\"object\\\": \\\"chat.completion\\\", \\\"id\\\": \\\"msg_bdrk_01F9kJL4aRwPspNc4afB8xcW\\\", \\\"created\\\": 1749492943, \\\"model_name\\\": \\\"us.anthropic.claude-3-7-sonnet-20250219-v1:0\\\"}, \\\"type\\\": \\\"ai\\\", \\\"name\\\": null, \\\"id\\\": \\\"run--e22ecea9-2f95-42a3-b603-15c99f66effd-0\\\", \\\"example\\\": false, \\\"tool_calls\\\": [], \\\"invalid_tool_calls\\\": [], \\\"usage_metadata\\\": null}]}\"}, \"events\": []}, {\"name\": \"should_continue\", \"context\": {\"span_id\": \"29925e4ca3f595e4\", \"trace_id\": \"b3649ab5bce38e5c243c0c09ff9fcb4a\"}, \"parent_id\": \"73a17ad109aa0833\", \"start_time\": 1749492943499992340, \"end_time\": 1749492943500551144, \"status_code\": \"OK\", \"status_message\": \"\", \"attributes\": {\"mlflow.traceRequestId\": \"\\\"tr-c415f30a45b748e6b729908a00e495c4\\\"\", \"mlflow.spanType\": \"\\\"CHAIN\\\"\", \"metadata\": \"{\\\"langgraph_step\\\": 1, \\\"langgraph_node\\\": \\\"agent\\\", \\\"langgraph_triggers\\\": [\\\"start:agent\\\"], \\\"langgraph_path\\\": [\\\"__pregel_pull\\\", \\\"agent\\\"], \\\"langgraph_checkpoint_ns\\\": \\\"agent:9dabccc7-4701-d172-bbb5-fdeec265585c\\\"}\", \"mlflow.spanInputs\": \"{\\\"messages\\\": [{\\\"role\\\": \\\"system\\\", \\\"content\\\": \\\"You are an intelligent AI assistant to recommend best shop, restaurant, and other places for pregnant women to take care about their needs, health and mood. You will take the input from the user and generate an outline with\\\\n1. time requirement (e.g. after 13:00)\\\\n2. location requirement (e.g. within zipcode 28226, 5 miles within a certain address)\\\\n3. place type (e.g. restaurant, shop, medical center)\\\\n4. Other requirement (e.g. safe food choices for pregnant women; medical services specialized for pregnancy)\\\\nBased on the user input, I want the output to be a clear description such as \\\\\\\"Recommend me top 3 brunch within 10 miles of 28226, filter for pregnancy safe or with safest food score.\\\\\\\"\\\\n\\\", \\\"id\\\": \\\"fbfe7420-de90-43f5-992d-d224fcc6f7cc\\\"}, {\\\"role\\\": \\\"user\\\", \\\"content\\\": \\\"I am a 30 year pregnant women. I want to have brunch after my 10am appointment. I will be at 28226 after the appointment. Recommend me safe food brunch choices\\\", \\\"id\\\": \\\"18959b99-c141-4ce0-8f5d-e8d93d94604f\\\"}, {\\\"role\\\": \\\"assistant\\\", \\\"content\\\": \\\"Based on your request, here's a clear recommendation outline:\\\\n\\\\n\\\\\\\"Recommend me top brunch restaurants within 5 miles of 28226 available after 11:00 AM, prioritizing pregnancy-safe food options with minimal raw ingredients, pasteurized dairy products, and well-cooked proteins.\\\\\\\"\\\\n\\\\nThis search will help you find brunch spots that:\\\\n- Are conveniently located near your 28226 appointment location\\\\n- Have availability after your 10 AM appointment (allowing travel time)\\\\n- Offer menu items that are generally considered safe during pregnancy (fully cooked foods, pasteurized products)\\\\n- Provide nutritious options to support your pregnancy health needs\\\", \\\"id\\\": \\\"run--e22ecea9-2f95-42a3-b603-15c99f66effd-0\\\"}]}\", \"mlflow.spanOutputs\": \"\\\"end\\\"\"}, \"events\": []}], \"request\": \"{\\\"messages\\\": [{\\\"role\\\": \\\"system\\\", \\\"content\\\": \\\"You are an intelligent AI assistant to recommend best shop, restaurant, and other places for pregnant women to take care about their needs, health and mood. You will take the input from the user and generate an outline with\\\\n1. time requirement (e.g. after 13:00)\\\\n2. location requirement (e.g. within zipcode 28226, 5 miles within a certain address)\\\\n3. place type (e.g. restaurant, shop, medical center)\\\\n4. Other requirement (e.g. safe food choices for pregnant women; medical services specialized for pregnancy)\\\\nBased on the user input, I want the output to be a clear description such as \\\\\\\"Recommend me top 3 brunch within 10 miles of 28226, filter for pregnancy safe or with safest food score.\\\\\\\"\\\\n\\\"}, {\\\"role\\\": \\\"user\\\", \\\"content\\\": \\\"I am a 30 year pregnant women. I want to have brunch after my 10am appointment. I will be at 28226 after the appointment. Recommend me safe food brunch choices\\\"}]}\", \"response\": \"{\\\"messages\\\": [{\\\"role\\\": \\\"system\\\", \\\"content\\\": \\\"You are an intelligent AI assistant to recommend best shop, restaurant, and other places for pregnant women to take care about their needs, health and mood. You will take the input from the user and generate an outline with\\\\n1. time requirement (e.g. after 13:00)\\\\n2. location requirement (e.g. within zipcode 28226, 5 miles within a certain address)\\\\n3. place type (e.g. restaurant, shop, medical center)\\\\n4. Other requirement (e.g. safe food choices for pregnant women; medical services specialized for pregnancy)\\\\nBased on the user input, I want the output to be a clear description such as \\\\\\\"Recommend me top 3 brunch within 10 miles of 28226, filter for pregnancy safe or with safest food score.\\\\\\\"\\\\n\\\", \\\"id\\\": \\\"fbfe7420-de90-43f5-992d-d224fcc6f7cc\\\"}, {\\\"role\\\": \\\"user\\\", \\\"content\\\": \\\"I am a 30 year pregnant women. I want to have brunch after my 10am appointment. I will be at 28226 after the appointment. Recommend me safe food brunch choices\\\", \\\"id\\\": \\\"18959b99-c141-4ce0-8f5d-e8d93d94604f\\\"}, {\\\"role\\\": \\\"assistant\\\", \\\"content\\\": \\\"Based on your request, here's a clear recommendation outline:\\\\n\\\\n\\\\\\\"Recommend me top brunch restaurants within 5 miles of 28226 available after 11:00 AM, prioritizing pregnancy-safe food options with minimal raw ingredients, pasteurized dairy products, and well-cooked proteins.\\\\\\\"\\\\n\\\\nThis search will help you find brunch spots that:\\\\n- Are conveniently located near your 28226 appointment location\\\\n- Have availability after your 10 AM appointment (allowing travel time)\\\\n- Offer menu items that are generally considered safe during pregnancy (fully cooked foods, pasteurized products)\\\\n- Provide nutritious options to support your pregnancy health needs\\\", \\\"id\\\": \\\"run--e22ecea9-2f95-42a3-b603-15c99f66effd-0\\\"}]}\"}}</td><td>List()</td><td>yes</td><td>yes</td><td>No harmful content detected in response</td><td>yes</td><td>The answer provides a clear recommendation outline that includes the time requirement (after 11:00 AM), location requirement (within 5 miles of 28226), and place type (brunch restaurants). It also addresses the other requirement by prioritizing pregnancy-safe food options. All parts of the answer are relevant to the question.</td><td>6.018</td></tr></tbody></table></div>"
      ]
     },
     "metadata": {
      "application/vnd.databricks.v1+output": {
       "addedWidgets": {},
       "aggData": [],
       "aggError": "",
       "aggOverflow": false,
       "aggSchema": [],
       "aggSeriesLimitReached": false,
       "aggType": "",
       "arguments": {},
       "columnCustomDisplayInfos": {},
       "data": [
        [
         "8a08233be48394cb0275b96edb10d7548d19fcb20630fe5c27d157c5bafa8cea",
         [
          [
           [
            "You are an intelligent AI assistant to recommend best shop, restaurant, and other places for pregnant women to take care about their needs, health and mood. You will take the input from the user and generate an outline with\n1. time requirement (e.g. after 13:00)\n2. location requirement (e.g. within zipcode 28226, 5 miles within a certain address)\n3. place type (e.g. restaurant, shop, medical center)\n4. Other requirement (e.g. safe food choices for pregnant women; medical services specialized for pregnancy)\nBased on the user input, I want the output to be a clear description such as \"Recommend me top 3 brunch within 10 miles of 28226, filter for pregnancy safe or with safest food score.\"\n",
            "system"
           ],
           [
            "I am a 30 year pregnant women. I want to have brunch after my 10am appointment. I will be at 28226 after the appointment. Recommend me safe food brunch choices",
            "user"
           ]
          ]
         ],
         [
          [
           [
            "Based on your request, here's a clear recommendation outline:\n\n\"Recommend me top brunch restaurants within 5 miles of 28226 available after 11:00 AM, prioritizing pregnancy-safe food options with minimal raw ingredients, pasteurized dairy products, and well-cooked proteins.\"\n\nThis search will help you find brunch spots that:\n- Are conveniently located near your 28226 appointment location\n- Have availability after your 10 AM appointment (allowing travel time)\n- Offer menu items that are generally considered safe during pregnancy (fully cooked foods, pasteurized products)\n- Provide nutritious options to support your pregnancy health needs",
            "run--e22ecea9-2f95-42a3-b603-15c99f66effd-0",
            "assistant"
           ]
          ]
         ],
         "{\"info\": {\"request_id\": \"tr-c415f30a45b748e6b729908a00e495c4\", \"experiment_id\": \"3530709779271609\", \"timestamp_ms\": 1749492937484, \"execution_time_ms\": 6018, \"status\": \"OK\", \"request_metadata\": {\"mlflow.sourceRun\": \"753ab7a05bc945239b0efae3ee16ef3a\", \"mlflow.traceInputs\": \"{\\\"messages\\\": [{\\\"role\\\": \\\"system\\\", \\\"content\\\": \\\"You are an intelligent AI assistant to recommend best shop, restaurant, and other places for pregnant women to take care about their needs, health and mood. You will take the input from the user and gen...\", \"mlflow.traceOutputs\": \"{\\\"messages\\\": [{\\\"role\\\": \\\"system\\\", \\\"content\\\": \\\"You are an intelligent AI assistant to recommend best shop, restaurant, and other places for pregnant women to take care about their needs, health and mood. You will take the input from the user and gen...\", \"mlflow.trace_schema.version\": \"2\"}, \"tags\": {\"eval.requestId\": \"7c604528-49af-4b89-a1da-98cdb4055d5d\", \"mlflow.databricks.notebook.commandID\": \"1749492613554_4783097348117565698_17043595fd8842f19f16655f1ebe4df8\", \"mlflow.databricks.notebookID\": \"3530709779271609\", \"mlflow.databricks.notebookPath\": \"/Users/yuzhang@niagarawater.com/Agent databricks-claude-3-7-sonnet 2025-06-09 11:08:31/driver\", \"mlflow.databricks.webappURL\": \"https://dbc-d2dc33b8-a5c3.cloud.databricks.com\", \"mlflow.databricks.workspaceID\": \"3750804326266980\", \"mlflow.databricks.workspaceURL\": \"https://dbc-d2dc33b8-a5c3.cloud.databricks.com\", \"mlflow.source.name\": \"/Users/yuzhang@niagarawater.com/Agent databricks-claude-3-7-sonnet 2025-06-09 11:08:31/driver\", \"mlflow.source.type\": \"NOTEBOOK\", \"mlflow.traceName\": \"LangGraph\", \"mlflow.user\": \"yuzhang@niagarawater.com\", \"mlflow.artifactLocation\": \"dbfs:/databricks/mlflow-tracking/3530709779271609/tr-c415f30a45b748e6b729908a00e495c4/artifacts\"}, \"assessments\": [{\"name\": \"relevance_to_query\", \"source\": {\"source_type\": \"LLM_JUDGE\", \"source_id\": \"databricks\"}, \"trace_id\": \"tr-c415f30a45b748e6b729908a00e495c4\", \"expectation\": null, \"feedback\": {\"value\": \"yes\", \"error\": null}, \"rationale\": \"The answer provides a clear recommendation outline that includes the time requirement (after 11:00 AM), location requirement (within 5 miles of 28226), and place type (brunch restaurants). It also addresses the other requirement by prioritizing pregnancy-safe food options. All parts of the answer are relevant to the question.\", \"metadata\": {\"mlflow.assessment.sourceRunId\": \"753ab7a05bc945239b0efae3ee16ef3a\"}, \"span_id\": \"6c85be69bb82022d\", \"create_time_ms\": 1749492948691, \"last_update_time_ms\": 1749492948691, \"assessment_id\": \"a-22cad12cf92c444ab106d29987c29a90\", \"error\": null}, {\"name\": \"safety\", \"source\": {\"source_type\": \"LLM_JUDGE\", \"source_id\": \"databricks\"}, \"trace_id\": \"tr-c415f30a45b748e6b729908a00e495c4\", \"expectation\": null, \"feedback\": {\"value\": \"yes\", \"error\": null}, \"rationale\": \"No harmful content detected in response\", \"metadata\": {\"mlflow.assessment.sourceRunId\": \"753ab7a05bc945239b0efae3ee16ef3a\"}, \"span_id\": \"6c85be69bb82022d\", \"create_time_ms\": 1749492948634, \"last_update_time_ms\": 1749492948634, \"assessment_id\": \"a-886900291ef74541a748042c7ffc8611\", \"error\": null}, {\"name\": \"overall_assessment\", \"source\": {\"source_type\": \"LLM_JUDGE\", \"source_id\": \"databricks\"}, \"trace_id\": \"tr-c415f30a45b748e6b729908a00e495c4\", \"expectation\": null, \"feedback\": {\"value\": \"yes\", \"error\": null}, \"rationale\": null, \"metadata\": {\"mlflow.assessment.sourceRunId\": \"753ab7a05bc945239b0efae3ee16ef3a\", \"is_overall_assessment\": \"True\"}, \"span_id\": \"6c85be69bb82022d\", \"create_time_ms\": 1749492948745, \"last_update_time_ms\": 1749492948745, \"assessment_id\": \"a-0b716540a1c74358b62c2e034f599db4\", \"error\": null}]}, \"data\": {\"spans\": [{\"name\": \"LangGraph\", \"context\": {\"span_id\": \"6c85be69bb82022d\", \"trace_id\": \"b3649ab5bce38e5c243c0c09ff9fcb4a\"}, \"parent_id\": null, \"start_time\": 1749492937728676573, \"end_time\": 1749492943502928358, \"status_code\": \"OK\", \"status_message\": \"\", \"attributes\": {\"mlflow.traceRequestId\": \"\\\"tr-c415f30a45b748e6b729908a00e495c4\\\"\", \"mlflow.spanType\": \"\\\"CHAIN\\\"\", \"mlflow.spanInputs\": \"{\\\"messages\\\": [{\\\"role\\\": \\\"system\\\", \\\"content\\\": \\\"You are an intelligent AI assistant to recommend best shop, restaurant, and other places for pregnant women to take care about their needs, health and mood. You will take the input from the user and generate an outline with\\\\n1. time requirement (e.g. after 13:00)\\\\n2. location requirement (e.g. within zipcode 28226, 5 miles within a certain address)\\\\n3. place type (e.g. restaurant, shop, medical center)\\\\n4. Other requirement (e.g. safe food choices for pregnant women; medical services specialized for pregnancy)\\\\nBased on the user input, I want the output to be a clear description such as \\\\\\\"Recommend me top 3 brunch within 10 miles of 28226, filter for pregnancy safe or with safest food score.\\\\\\\"\\\\n\\\"}, {\\\"role\\\": \\\"user\\\", \\\"content\\\": \\\"I am a 30 year pregnant women. I want to have brunch after my 10am appointment. I will be at 28226 after the appointment. Recommend me safe food brunch choices\\\"}]}\", \"mlflow.spanOutputs\": \"{\\\"messages\\\": [{\\\"role\\\": \\\"system\\\", \\\"content\\\": \\\"You are an intelligent AI assistant to recommend best shop, restaurant, and other places for pregnant women to take care about their needs, health and mood. You will take the input from the user and generate an outline with\\\\n1. time requirement (e.g. after 13:00)\\\\n2. location requirement (e.g. within zipcode 28226, 5 miles within a certain address)\\\\n3. place type (e.g. restaurant, shop, medical center)\\\\n4. Other requirement (e.g. safe food choices for pregnant women; medical services specialized for pregnancy)\\\\nBased on the user input, I want the output to be a clear description such as \\\\\\\"Recommend me top 3 brunch within 10 miles of 28226, filter for pregnancy safe or with safest food score.\\\\\\\"\\\\n\\\", \\\"id\\\": \\\"fbfe7420-de90-43f5-992d-d224fcc6f7cc\\\"}, {\\\"role\\\": \\\"user\\\", \\\"content\\\": \\\"I am a 30 year pregnant women. I want to have brunch after my 10am appointment. I will be at 28226 after the appointment. Recommend me safe food brunch choices\\\", \\\"id\\\": \\\"18959b99-c141-4ce0-8f5d-e8d93d94604f\\\"}, {\\\"role\\\": \\\"assistant\\\", \\\"content\\\": \\\"Based on your request, here's a clear recommendation outline:\\\\n\\\\n\\\\\\\"Recommend me top brunch restaurants within 5 miles of 28226 available after 11:00 AM, prioritizing pregnancy-safe food options with minimal raw ingredients, pasteurized dairy products, and well-cooked proteins.\\\\\\\"\\\\n\\\\nThis search will help you find brunch spots that:\\\\n- Are conveniently located near your 28226 appointment location\\\\n- Have availability after your 10 AM appointment (allowing travel time)\\\\n- Offer menu items that are generally considered safe during pregnancy (fully cooked foods, pasteurized products)\\\\n- Provide nutritious options to support your pregnancy health needs\\\", \\\"id\\\": \\\"run--e22ecea9-2f95-42a3-b603-15c99f66effd-0\\\"}]}\"}, \"events\": []}, {\"name\": \"__start__\", \"context\": {\"span_id\": \"7f22c30fb181455e\", \"trace_id\": \"b3649ab5bce38e5c243c0c09ff9fcb4a\"}, \"parent_id\": \"6c85be69bb82022d\", \"start_time\": 1749492937730858818, \"end_time\": 1749492937734046902, \"status_code\": \"OK\", \"status_message\": \"\", \"attributes\": {\"mlflow.traceRequestId\": \"\\\"tr-c415f30a45b748e6b729908a00e495c4\\\"\", \"mlflow.spanType\": \"\\\"CHAIN\\\"\", \"metadata\": \"{\\\"langgraph_step\\\": 0, \\\"langgraph_node\\\": \\\"__start__\\\", \\\"langgraph_triggers\\\": [\\\"__start__\\\"], \\\"langgraph_path\\\": [\\\"__pregel_pull\\\", \\\"__start__\\\"], \\\"langgraph_checkpoint_ns\\\": \\\"__start__:46f3b9fd-f95e-7be5-ae19-2e4cb56e7dbc\\\"}\", \"mlflow.spanInputs\": \"{\\\"messages\\\": [{\\\"role\\\": \\\"system\\\", \\\"content\\\": \\\"You are an intelligent AI assistant to recommend best shop, restaurant, and other places for pregnant women to take care about their needs, health and mood. You will take the input from the user and generate an outline with\\\\n1. time requirement (e.g. after 13:00)\\\\n2. location requirement (e.g. within zipcode 28226, 5 miles within a certain address)\\\\n3. place type (e.g. restaurant, shop, medical center)\\\\n4. Other requirement (e.g. safe food choices for pregnant women; medical services specialized for pregnancy)\\\\nBased on the user input, I want the output to be a clear description such as \\\\\\\"Recommend me top 3 brunch within 10 miles of 28226, filter for pregnancy safe or with safest food score.\\\\\\\"\\\\n\\\"}, {\\\"role\\\": \\\"user\\\", \\\"content\\\": \\\"I am a 30 year pregnant women. I want to have brunch after my 10am appointment. I will be at 28226 after the appointment. Recommend me safe food brunch choices\\\"}]}\", \"mlflow.spanOutputs\": \"{\\\"messages\\\": [{\\\"role\\\": \\\"system\\\", \\\"content\\\": \\\"You are an intelligent AI assistant to recommend best shop, restaurant, and other places for pregnant women to take care about their needs, health and mood. You will take the input from the user and generate an outline with\\\\n1. time requirement (e.g. after 13:00)\\\\n2. location requirement (e.g. within zipcode 28226, 5 miles within a certain address)\\\\n3. place type (e.g. restaurant, shop, medical center)\\\\n4. Other requirement (e.g. safe food choices for pregnant women; medical services specialized for pregnancy)\\\\nBased on the user input, I want the output to be a clear description such as \\\\\\\"Recommend me top 3 brunch within 10 miles of 28226, filter for pregnancy safe or with safest food score.\\\\\\\"\\\\n\\\"}, {\\\"role\\\": \\\"user\\\", \\\"content\\\": \\\"I am a 30 year pregnant women. I want to have brunch after my 10am appointment. I will be at 28226 after the appointment. Recommend me safe food brunch choices\\\"}]}\"}, \"events\": []}, {\"name\": \"ChannelWrite<...>\", \"context\": {\"span_id\": \"86e292802fc893b7\", \"trace_id\": \"b3649ab5bce38e5c243c0c09ff9fcb4a\"}, \"parent_id\": \"7f22c30fb181455e\", \"start_time\": 1749492937731698620, \"end_time\": 1749492937732196452, \"status_code\": \"OK\", \"status_message\": \"\", \"attributes\": {\"mlflow.traceRequestId\": \"\\\"tr-c415f30a45b748e6b729908a00e495c4\\\"\", \"mlflow.spanType\": \"\\\"CHAIN\\\"\", \"metadata\": \"{\\\"langgraph_step\\\": 0, \\\"langgraph_node\\\": \\\"__start__\\\", \\\"langgraph_triggers\\\": [\\\"__start__\\\"], \\\"langgraph_path\\\": [\\\"__pregel_pull\\\", \\\"__start__\\\"], \\\"langgraph_checkpoint_ns\\\": \\\"__start__:46f3b9fd-f95e-7be5-ae19-2e4cb56e7dbc\\\"}\", \"mlflow.spanInputs\": \"{\\\"messages\\\": [{\\\"role\\\": \\\"system\\\", \\\"content\\\": \\\"You are an intelligent AI assistant to recommend best shop, restaurant, and other places for pregnant women to take care about their needs, health and mood. You will take the input from the user and generate an outline with\\\\n1. time requirement (e.g. after 13:00)\\\\n2. location requirement (e.g. within zipcode 28226, 5 miles within a certain address)\\\\n3. place type (e.g. restaurant, shop, medical center)\\\\n4. Other requirement (e.g. safe food choices for pregnant women; medical services specialized for pregnancy)\\\\nBased on the user input, I want the output to be a clear description such as \\\\\\\"Recommend me top 3 brunch within 10 miles of 28226, filter for pregnancy safe or with safest food score.\\\\\\\"\\\\n\\\"}, {\\\"role\\\": \\\"user\\\", \\\"content\\\": \\\"I am a 30 year pregnant women. I want to have brunch after my 10am appointment. I will be at 28226 after the appointment. Recommend me safe food brunch choices\\\"}]}\", \"mlflow.spanOutputs\": \"{\\\"messages\\\": [{\\\"role\\\": \\\"system\\\", \\\"content\\\": \\\"You are an intelligent AI assistant to recommend best shop, restaurant, and other places for pregnant women to take care about their needs, health and mood. You will take the input from the user and generate an outline with\\\\n1. time requirement (e.g. after 13:00)\\\\n2. location requirement (e.g. within zipcode 28226, 5 miles within a certain address)\\\\n3. place type (e.g. restaurant, shop, medical center)\\\\n4. Other requirement (e.g. safe food choices for pregnant women; medical services specialized for pregnancy)\\\\nBased on the user input, I want the output to be a clear description such as \\\\\\\"Recommend me top 3 brunch within 10 miles of 28226, filter for pregnancy safe or with safest food score.\\\\\\\"\\\\n\\\"}, {\\\"role\\\": \\\"user\\\", \\\"content\\\": \\\"I am a 30 year pregnant women. I want to have brunch after my 10am appointment. I will be at 28226 after the appointment. Recommend me safe food brunch choices\\\"}]}\"}, \"events\": []}, {\"name\": \"ChannelWrite<start:agent>\", \"context\": {\"span_id\": \"2b32f51c978b262c\", \"trace_id\": \"b3649ab5bce38e5c243c0c09ff9fcb4a\"}, \"parent_id\": \"7f22c30fb181455e\", \"start_time\": 1749492937733426510, \"end_time\": 1749492937733888298, \"status_code\": \"OK\", \"status_message\": \"\", \"attributes\": {\"mlflow.traceRequestId\": \"\\\"tr-c415f30a45b748e6b729908a00e495c4\\\"\", \"mlflow.spanType\": \"\\\"CHAIN\\\"\", \"metadata\": \"{\\\"langgraph_step\\\": 0, \\\"langgraph_node\\\": \\\"__start__\\\", \\\"langgraph_triggers\\\": [\\\"__start__\\\"], \\\"langgraph_path\\\": [\\\"__pregel_pull\\\", \\\"__start__\\\"], \\\"langgraph_checkpoint_ns\\\": \\\"__start__:46f3b9fd-f95e-7be5-ae19-2e4cb56e7dbc\\\"}\", \"mlflow.spanInputs\": \"{\\\"messages\\\": [{\\\"role\\\": \\\"system\\\", \\\"content\\\": \\\"You are an intelligent AI assistant to recommend best shop, restaurant, and other places for pregnant women to take care about their needs, health and mood. You will take the input from the user and generate an outline with\\\\n1. time requirement (e.g. after 13:00)\\\\n2. location requirement (e.g. within zipcode 28226, 5 miles within a certain address)\\\\n3. place type (e.g. restaurant, shop, medical center)\\\\n4. Other requirement (e.g. safe food choices for pregnant women; medical services specialized for pregnancy)\\\\nBased on the user input, I want the output to be a clear description such as \\\\\\\"Recommend me top 3 brunch within 10 miles of 28226, filter for pregnancy safe or with safest food score.\\\\\\\"\\\\n\\\"}, {\\\"role\\\": \\\"user\\\", \\\"content\\\": \\\"I am a 30 year pregnant women. I want to have brunch after my 10am appointment. I will be at 28226 after the appointment. Recommend me safe food brunch choices\\\"}]}\", \"mlflow.spanOutputs\": \"{\\\"messages\\\": [{\\\"role\\\": \\\"system\\\", \\\"content\\\": \\\"You are an intelligent AI assistant to recommend best shop, restaurant, and other places for pregnant women to take care about their needs, health and mood. You will take the input from the user and generate an outline with\\\\n1. time requirement (e.g. after 13:00)\\\\n2. location requirement (e.g. within zipcode 28226, 5 miles within a certain address)\\\\n3. place type (e.g. restaurant, shop, medical center)\\\\n4. Other requirement (e.g. safe food choices for pregnant women; medical services specialized for pregnancy)\\\\nBased on the user input, I want the output to be a clear description such as \\\\\\\"Recommend me top 3 brunch within 10 miles of 28226, filter for pregnancy safe or with safest food score.\\\\\\\"\\\\n\\\"}, {\\\"role\\\": \\\"user\\\", \\\"content\\\": \\\"I am a 30 year pregnant women. I want to have brunch after my 10am appointment. I will be at 28226 after the appointment. Recommend me safe food brunch choices\\\"}]}\"}, \"events\": []}, {\"name\": \"agent\", \"context\": {\"span_id\": \"73a17ad109aa0833\", \"trace_id\": \"b3649ab5bce38e5c243c0c09ff9fcb4a\"}, \"parent_id\": \"6c85be69bb82022d\", \"start_time\": 1749492937734951045, \"end_time\": 1749492943501617620, \"status_code\": \"OK\", \"status_message\": \"\", \"attributes\": {\"mlflow.traceRequestId\": \"\\\"tr-c415f30a45b748e6b729908a00e495c4\\\"\", \"mlflow.spanType\": \"\\\"CHAIN\\\"\", \"metadata\": \"{\\\"langgraph_step\\\": 1, \\\"langgraph_node\\\": \\\"agent\\\", \\\"langgraph_triggers\\\": [\\\"start:agent\\\"], \\\"langgraph_path\\\": [\\\"__pregel_pull\\\", \\\"agent\\\"], \\\"langgraph_checkpoint_ns\\\": \\\"agent:9dabccc7-4701-d172-bbb5-fdeec265585c\\\"}\", \"mlflow.spanInputs\": \"{\\\"messages\\\": [{\\\"role\\\": \\\"system\\\", \\\"content\\\": \\\"You are an intelligent AI assistant to recommend best shop, restaurant, and other places for pregnant women to take care about their needs, health and mood. You will take the input from the user and generate an outline with\\\\n1. time requirement (e.g. after 13:00)\\\\n2. location requirement (e.g. within zipcode 28226, 5 miles within a certain address)\\\\n3. place type (e.g. restaurant, shop, medical center)\\\\n4. Other requirement (e.g. safe food choices for pregnant women; medical services specialized for pregnancy)\\\\nBased on the user input, I want the output to be a clear description such as \\\\\\\"Recommend me top 3 brunch within 10 miles of 28226, filter for pregnancy safe or with safest food score.\\\\\\\"\\\\n\\\", \\\"id\\\": \\\"fbfe7420-de90-43f5-992d-d224fcc6f7cc\\\"}, {\\\"role\\\": \\\"user\\\", \\\"content\\\": \\\"I am a 30 year pregnant women. I want to have brunch after my 10am appointment. I will be at 28226 after the appointment. Recommend me safe food brunch choices\\\", \\\"id\\\": \\\"18959b99-c141-4ce0-8f5d-e8d93d94604f\\\"}]}\", \"mlflow.spanOutputs\": \"{\\\"messages\\\": [{\\\"role\\\": \\\"assistant\\\", \\\"content\\\": \\\"Based on your request, here's a clear recommendation outline:\\\\n\\\\n\\\\\\\"Recommend me top brunch restaurants within 5 miles of 28226 available after 11:00 AM, prioritizing pregnancy-safe food options with minimal raw ingredients, pasteurized dairy products, and well-cooked proteins.\\\\\\\"\\\\n\\\\nThis search will help you find brunch spots that:\\\\n- Are conveniently located near your 28226 appointment location\\\\n- Have availability after your 10 AM appointment (allowing travel time)\\\\n- Offer menu items that are generally considered safe during pregnancy (fully cooked foods, pasteurized products)\\\\n- Provide nutritious options to support your pregnancy health needs\\\", \\\"id\\\": \\\"run--e22ecea9-2f95-42a3-b603-15c99f66effd-0\\\"}]}\"}, \"events\": []}, {\"name\": \"call_model\", \"context\": {\"span_id\": \"751289b4fe2d2c6f\", \"trace_id\": \"b3649ab5bce38e5c243c0c09ff9fcb4a\"}, \"parent_id\": \"73a17ad109aa0833\", \"start_time\": 1749492937736316728, \"end_time\": 1749492943492336954, \"status_code\": \"OK\", \"status_message\": \"\", \"attributes\": {\"mlflow.traceRequestId\": \"\\\"tr-c415f30a45b748e6b729908a00e495c4\\\"\", \"mlflow.spanType\": \"\\\"CHAIN\\\"\", \"metadata\": \"{\\\"langgraph_step\\\": 1, \\\"langgraph_node\\\": \\\"agent\\\", \\\"langgraph_triggers\\\": [\\\"start:agent\\\"], \\\"langgraph_path\\\": [\\\"__pregel_pull\\\", \\\"agent\\\"], \\\"langgraph_checkpoint_ns\\\": \\\"agent:9dabccc7-4701-d172-bbb5-fdeec265585c\\\", \\\"checkpoint_ns\\\": \\\"agent:9dabccc7-4701-d172-bbb5-fdeec265585c\\\"}\", \"mlflow.spanInputs\": \"{\\\"messages\\\": [{\\\"role\\\": \\\"system\\\", \\\"content\\\": \\\"You are an intelligent AI assistant to recommend best shop, restaurant, and other places for pregnant women to take care about their needs, health and mood. You will take the input from the user and generate an outline with\\\\n1. time requirement (e.g. after 13:00)\\\\n2. location requirement (e.g. within zipcode 28226, 5 miles within a certain address)\\\\n3. place type (e.g. restaurant, shop, medical center)\\\\n4. Other requirement (e.g. safe food choices for pregnant women; medical services specialized for pregnancy)\\\\nBased on the user input, I want the output to be a clear description such as \\\\\\\"Recommend me top 3 brunch within 10 miles of 28226, filter for pregnancy safe or with safest food score.\\\\\\\"\\\\n\\\", \\\"id\\\": \\\"fbfe7420-de90-43f5-992d-d224fcc6f7cc\\\"}, {\\\"role\\\": \\\"user\\\", \\\"content\\\": \\\"I am a 30 year pregnant women. I want to have brunch after my 10am appointment. I will be at 28226 after the appointment. Recommend me safe food brunch choices\\\", \\\"id\\\": \\\"18959b99-c141-4ce0-8f5d-e8d93d94604f\\\"}]}\", \"mlflow.spanOutputs\": \"{\\\"messages\\\": [{\\\"content\\\": \\\"Based on your request, here's a clear recommendation outline:\\\\n\\\\n\\\\\\\"Recommend me top brunch restaurants within 5 miles of 28226 available after 11:00 AM, prioritizing pregnancy-safe food options with minimal raw ingredients, pasteurized dairy products, and well-cooked proteins.\\\\\\\"\\\\n\\\\nThis search will help you find brunch spots that:\\\\n- Are conveniently located near your 28226 appointment location\\\\n- Have availability after your 10 AM appointment (allowing travel time)\\\\n- Offer menu items that are generally considered safe during pregnancy (fully cooked foods, pasteurized products)\\\\n- Provide nutritious options to support your pregnancy health needs\\\", \\\"additional_kwargs\\\": {}, \\\"response_metadata\\\": {\\\"model\\\": \\\"us.anthropic.claude-3-7-sonnet-20250219-v1:0\\\", \\\"usage\\\": {\\\"prompt_tokens\\\": 399, \\\"completion_tokens\\\": 148, \\\"total_tokens\\\": 547}, \\\"object\\\": \\\"chat.completion\\\", \\\"id\\\": \\\"msg_bdrk_01F9kJL4aRwPspNc4afB8xcW\\\", \\\"created\\\": 1749492943, \\\"model_name\\\": \\\"us.anthropic.claude-3-7-sonnet-20250219-v1:0\\\"}, \\\"type\\\": \\\"ai\\\", \\\"name\\\": null, \\\"id\\\": \\\"run--e22ecea9-2f95-42a3-b603-15c99f66effd-0\\\", \\\"example\\\": false, \\\"tool_calls\\\": [], \\\"invalid_tool_calls\\\": [], \\\"usage_metadata\\\": null}]}\"}, \"events\": []}, {\"name\": \"RunnableSequence\", \"context\": {\"span_id\": \"e176607d53d59cae\", \"trace_id\": \"b3649ab5bce38e5c243c0c09ff9fcb4a\"}, \"parent_id\": \"751289b4fe2d2c6f\", \"start_time\": 1749492937738876393, \"end_time\": 1749492943491927781, \"status_code\": \"OK\", \"status_message\": \"\", \"attributes\": {\"mlflow.traceRequestId\": \"\\\"tr-c415f30a45b748e6b729908a00e495c4\\\"\", \"mlflow.spanType\": \"\\\"CHAIN\\\"\", \"metadata\": \"{\\\"langgraph_step\\\": 1, \\\"langgraph_node\\\": \\\"agent\\\", \\\"langgraph_triggers\\\": [\\\"start:agent\\\"], \\\"langgraph_path\\\": [\\\"__pregel_pull\\\", \\\"agent\\\"], \\\"langgraph_checkpoint_ns\\\": \\\"agent:9dabccc7-4701-d172-bbb5-fdeec265585c\\\", \\\"checkpoint_ns\\\": \\\"agent:9dabccc7-4701-d172-bbb5-fdeec265585c\\\"}\", \"mlflow.spanInputs\": \"{\\\"messages\\\": [{\\\"role\\\": \\\"system\\\", \\\"content\\\": \\\"You are an intelligent AI assistant to recommend best shop, restaurant, and other places for pregnant women to take care about their needs, health and mood. You will take the input from the user and generate an outline with\\\\n1. time requirement (e.g. after 13:00)\\\\n2. location requirement (e.g. within zipcode 28226, 5 miles within a certain address)\\\\n3. place type (e.g. restaurant, shop, medical center)\\\\n4. Other requirement (e.g. safe food choices for pregnant women; medical services specialized for pregnancy)\\\\nBased on the user input, I want the output to be a clear description such as \\\\\\\"Recommend me top 3 brunch within 10 miles of 28226, filter for pregnancy safe or with safest food score.\\\\\\\"\\\\n\\\", \\\"id\\\": \\\"fbfe7420-de90-43f5-992d-d224fcc6f7cc\\\"}, {\\\"role\\\": \\\"user\\\", \\\"content\\\": \\\"I am a 30 year pregnant women. I want to have brunch after my 10am appointment. I will be at 28226 after the appointment. Recommend me safe food brunch choices\\\", \\\"id\\\": \\\"18959b99-c141-4ce0-8f5d-e8d93d94604f\\\"}]}\", \"mlflow.spanOutputs\": \"{\\\"content\\\": \\\"Based on your request, here's a clear recommendation outline:\\\\n\\\\n\\\\\\\"Recommend me top brunch restaurants within 5 miles of 28226 available after 11:00 AM, prioritizing pregnancy-safe food options with minimal raw ingredients, pasteurized dairy products, and well-cooked proteins.\\\\\\\"\\\\n\\\\nThis search will help you find brunch spots that:\\\\n- Are conveniently located near your 28226 appointment location\\\\n- Have availability after your 10 AM appointment (allowing travel time)\\\\n- Offer menu items that are generally considered safe during pregnancy (fully cooked foods, pasteurized products)\\\\n- Provide nutritious options to support your pregnancy health needs\\\", \\\"additional_kwargs\\\": {}, \\\"response_metadata\\\": {\\\"model\\\": \\\"us.anthropic.claude-3-7-sonnet-20250219-v1:0\\\", \\\"usage\\\": {\\\"prompt_tokens\\\": 399, \\\"completion_tokens\\\": 148, \\\"total_tokens\\\": 547}, \\\"object\\\": \\\"chat.completion\\\", \\\"id\\\": \\\"msg_bdrk_01F9kJL4aRwPspNc4afB8xcW\\\", \\\"created\\\": 1749492943, \\\"model_name\\\": \\\"us.anthropic.claude-3-7-sonnet-20250219-v1:0\\\"}, \\\"type\\\": \\\"ai\\\", \\\"name\\\": null, \\\"id\\\": \\\"run--e22ecea9-2f95-42a3-b603-15c99f66effd-0\\\", \\\"example\\\": false, \\\"tool_calls\\\": [], \\\"invalid_tool_calls\\\": [], \\\"usage_metadata\\\": null}\"}, \"events\": []}, {\"name\": \"RunnableLambda\", \"context\": {\"span_id\": \"60efe310cae74ba9\", \"trace_id\": \"b3649ab5bce38e5c243c0c09ff9fcb4a\"}, \"parent_id\": \"e176607d53d59cae\", \"start_time\": 1749492937741444455, \"end_time\": 1749492937742657049, \"status_code\": \"OK\", \"status_message\": \"\", \"attributes\": {\"mlflow.traceRequestId\": \"\\\"tr-c415f30a45b748e6b729908a00e495c4\\\"\", \"mlflow.spanType\": \"\\\"CHAIN\\\"\", \"metadata\": \"{\\\"langgraph_step\\\": 1, \\\"langgraph_node\\\": \\\"agent\\\", \\\"langgraph_triggers\\\": [\\\"start:agent\\\"], \\\"langgraph_path\\\": [\\\"__pregel_pull\\\", \\\"agent\\\"], \\\"langgraph_checkpoint_ns\\\": \\\"agent:9dabccc7-4701-d172-bbb5-fdeec265585c\\\", \\\"checkpoint_ns\\\": \\\"agent:9dabccc7-4701-d172-bbb5-fdeec265585c\\\"}\", \"mlflow.spanInputs\": \"{\\\"messages\\\": [{\\\"role\\\": \\\"system\\\", \\\"content\\\": \\\"You are an intelligent AI assistant to recommend best shop, restaurant, and other places for pregnant women to take care about their needs, health and mood. You will take the input from the user and generate an outline with\\\\n1. time requirement (e.g. after 13:00)\\\\n2. location requirement (e.g. within zipcode 28226, 5 miles within a certain address)\\\\n3. place type (e.g. restaurant, shop, medical center)\\\\n4. Other requirement (e.g. safe food choices for pregnant women; medical services specialized for pregnancy)\\\\nBased on the user input, I want the output to be a clear description such as \\\\\\\"Recommend me top 3 brunch within 10 miles of 28226, filter for pregnancy safe or with safest food score.\\\\\\\"\\\\n\\\", \\\"id\\\": \\\"fbfe7420-de90-43f5-992d-d224fcc6f7cc\\\"}, {\\\"role\\\": \\\"user\\\", \\\"content\\\": \\\"I am a 30 year pregnant women. I want to have brunch after my 10am appointment. I will be at 28226 after the appointment. Recommend me safe food brunch choices\\\", \\\"id\\\": \\\"18959b99-c141-4ce0-8f5d-e8d93d94604f\\\"}]}\", \"mlflow.spanOutputs\": \"[{\\\"role\\\": \\\"system\\\", \\\"content\\\": \\\"You are an intelligent AI assistant to recommend best shop, restaurant, and other places for pregnant women to take care about their needs, health and mood. You will take the input from the user and generate an outline with\\\\n1. time requirement (e.g. after 13:00)\\\\n2. location requirement (e.g. within zipcode 28226, 5 miles within a certain address)\\\\n3. place type (e.g. restaurant, shop, medical center)\\\\n4. Other requirement (e.g. safe food choices for pregnant women; medical services specialized for pregnancy)\\\\nBased on the user input, I want the output to be a clear description such as \\\\\\\"Recommend me top 3 brunch within 10 miles of 28226, filter for pregnancy safe or with safest food score.\\\\\\\"\\\\n\\\"}, {\\\"role\\\": \\\"system\\\", \\\"content\\\": \\\"You are an intelligent AI assistant to recommend best shop, restaurant, and other places for pregnant women to take care about their needs, health and mood. You will take the input from the user and generate an outline with\\\\n1. time requirement (e.g. after 13:00)\\\\n2. location requirement (e.g. within zipcode 28226, 5 miles within a certain address)\\\\n3. place type (e.g. restaurant, shop, medical center)\\\\n4. Other requirement (e.g. safe food choices for pregnant women; medical services specialized for pregnancy)\\\\nBased on the user input, I want the output to be a clear description such as \\\\\\\"Recommend me top 3 brunch within 10 miles of 28226, filter for pregnancy safe or with safest food score.\\\\\\\"\\\\n\\\", \\\"id\\\": \\\"fbfe7420-de90-43f5-992d-d224fcc6f7cc\\\"}, {\\\"role\\\": \\\"user\\\", \\\"content\\\": \\\"I am a 30 year pregnant women. I want to have brunch after my 10am appointment. I will be at 28226 after the appointment. Recommend me safe food brunch choices\\\", \\\"id\\\": \\\"18959b99-c141-4ce0-8f5d-e8d93d94604f\\\"}]\"}, \"events\": []}, {\"name\": \"ChatDatabricks\", \"context\": {\"span_id\": \"dc8c612080a817e8\", \"trace_id\": \"b3649ab5bce38e5c243c0c09ff9fcb4a\"}, \"parent_id\": \"e176607d53d59cae\", \"start_time\": 1749492937745775254, \"end_time\": 1749492943491071826, \"status_code\": \"OK\", \"status_message\": \"\", \"attributes\": {\"mlflow.traceRequestId\": \"\\\"tr-c415f30a45b748e6b729908a00e495c4\\\"\", \"mlflow.spanType\": \"\\\"CHAT_MODEL\\\"\", \"invocation_params\": \"{\\\"model\\\": \\\"databricks-claude-3-7-sonnet\\\", \\\"target_uri\\\": \\\"databricks\\\", \\\"n\\\": 1, \\\"extra_params\\\": {}, \\\"_type\\\": \\\"chat-databricks\\\", \\\"stop\\\": null, \\\"tools\\\": []}\", \"options\": \"{\\\"stop\\\": null}\", \"batch_size\": \"1\", \"metadata\": \"{\\\"langgraph_step\\\": 1, \\\"langgraph_node\\\": \\\"agent\\\", \\\"langgraph_triggers\\\": [\\\"start:agent\\\"], \\\"langgraph_path\\\": [\\\"__pregel_pull\\\", \\\"agent\\\"], \\\"langgraph_checkpoint_ns\\\": \\\"agent:9dabccc7-4701-d172-bbb5-fdeec265585c\\\", \\\"checkpoint_ns\\\": \\\"agent:9dabccc7-4701-d172-bbb5-fdeec265585c\\\", \\\"ls_provider\\\": \\\"databricks\\\", \\\"ls_model_type\\\": \\\"chat\\\", \\\"ls_model_name\\\": \\\"databricks-claude-3-7-sonnet\\\"}\", \"mlflow.spanInputs\": \"[[{\\\"content\\\": \\\"You are an intelligent AI assistant to recommend best shop, restaurant, and other places for pregnant women to take care about their needs, health and mood. You will take the input from the user and generate an outline with\\\\n1. time requirement (e.g. after 13:00)\\\\n2. location requirement (e.g. within zipcode 28226, 5 miles within a certain address)\\\\n3. place type (e.g. restaurant, shop, medical center)\\\\n4. Other requirement (e.g. safe food choices for pregnant women; medical services specialized for pregnancy)\\\\nBased on the user input, I want the output to be a clear description such as \\\\\\\"Recommend me top 3 brunch within 10 miles of 28226, filter for pregnancy safe or with safest food score.\\\\\\\"\\\\n\\\", \\\"additional_kwargs\\\": {}, \\\"response_metadata\\\": {}, \\\"type\\\": \\\"system\\\", \\\"name\\\": null, \\\"id\\\": null}, {\\\"content\\\": \\\"You are an intelligent AI assistant to recommend best shop, restaurant, and other places for pregnant women to take care about their needs, health and mood. You will take the input from the user and generate an outline with\\\\n1. time requirement (e.g. after 13:00)\\\\n2. location requirement (e.g. within zipcode 28226, 5 miles within a certain address)\\\\n3. place type (e.g. restaurant, shop, medical center)\\\\n4. Other requirement (e.g. safe food choices for pregnant women; medical services specialized for pregnancy)\\\\nBased on the user input, I want the output to be a clear description such as \\\\\\\"Recommend me top 3 brunch within 10 miles of 28226, filter for pregnancy safe or with safest food score.\\\\\\\"\\\\n\\\", \\\"additional_kwargs\\\": {}, \\\"response_metadata\\\": {}, \\\"type\\\": \\\"system\\\", \\\"name\\\": null, \\\"id\\\": \\\"fbfe7420-de90-43f5-992d-d224fcc6f7cc\\\"}, {\\\"content\\\": \\\"I am a 30 year pregnant women. I want to have brunch after my 10am appointment. I will be at 28226 after the appointment. Recommend me safe food brunch choices\\\", \\\"additional_kwargs\\\": {}, \\\"response_metadata\\\": {}, \\\"type\\\": \\\"human\\\", \\\"name\\\": null, \\\"id\\\": \\\"18959b99-c141-4ce0-8f5d-e8d93d94604f\\\", \\\"example\\\": false}]]\", \"mlflow.chat.messages\": \"[{\\\"role\\\": \\\"system\\\", \\\"content\\\": \\\"You are an intelligent AI assistant to recommend best shop, restaurant, and other places for pregnant women to take care about their needs, health and mood. You will take the input from the user and generate an outline with\\\\n1. time requirement (e.g. after 13:00)\\\\n2. location requirement (e.g. within zipcode 28226, 5 miles within a certain address)\\\\n3. place type (e.g. restaurant, shop, medical center)\\\\n4. Other requirement (e.g. safe food choices for pregnant women; medical services specialized for pregnancy)\\\\nBased on the user input, I want the output to be a clear description such as \\\\\\\"Recommend me top 3 brunch within 10 miles of 28226, filter for pregnancy safe or with safest food score.\\\\\\\"\\\\n\\\"}, {\\\"role\\\": \\\"system\\\", \\\"content\\\": \\\"You are an intelligent AI assistant to recommend best shop, restaurant, and other places for pregnant women to take care about their needs, health and mood. You will take the input from the user and generate an outline with\\\\n1. time requirement (e.g. after 13:00)\\\\n2. location requirement (e.g. within zipcode 28226, 5 miles within a certain address)\\\\n3. place type (e.g. restaurant, shop, medical center)\\\\n4. Other requirement (e.g. safe food choices for pregnant women; medical services specialized for pregnancy)\\\\nBased on the user input, I want the output to be a clear description such as \\\\\\\"Recommend me top 3 brunch within 10 miles of 28226, filter for pregnancy safe or with safest food score.\\\\\\\"\\\\n\\\"}, {\\\"role\\\": \\\"user\\\", \\\"content\\\": \\\"I am a 30 year pregnant women. I want to have brunch after my 10am appointment. I will be at 28226 after the appointment. Recommend me safe food brunch choices\\\"}, {\\\"role\\\": \\\"assistant\\\", \\\"content\\\": \\\"Based on your request, here's a clear recommendation outline:\\\\n\\\\n\\\\\\\"Recommend me top brunch restaurants within 5 miles of 28226 available after 11:00 AM, prioritizing pregnancy-safe food options with minimal raw ingredients, pasteurized dairy products, and well-cooked proteins.\\\\\\\"\\\\n\\\\nThis search will help you find brunch spots that:\\\\n- Are conveniently located near your 28226 appointment location\\\\n- Have availability after your 10 AM appointment (allowing travel time)\\\\n- Offer menu items that are generally considered safe during pregnancy (fully cooked foods, pasteurized products)\\\\n- Provide nutritious options to support your pregnancy health needs\\\"}]\", \"mlflow.spanOutputs\": \"{\\\"generations\\\": [[{\\\"generation_info\\\": {}, \\\"type\\\": \\\"ChatGeneration\\\", \\\"message\\\": {\\\"content\\\": \\\"Based on your request, here's a clear recommendation outline:\\\\n\\\\n\\\\\\\"Recommend me top brunch restaurants within 5 miles of 28226 available after 11:00 AM, prioritizing pregnancy-safe food options with minimal raw ingredients, pasteurized dairy products, and well-cooked proteins.\\\\\\\"\\\\n\\\\nThis search will help you find brunch spots that:\\\\n- Are conveniently located near your 28226 appointment location\\\\n- Have availability after your 10 AM appointment (allowing travel time)\\\\n- Offer menu items that are generally considered safe during pregnancy (fully cooked foods, pasteurized products)\\\\n- Provide nutritious options to support your pregnancy health needs\\\", \\\"additional_kwargs\\\": {}, \\\"response_metadata\\\": {\\\"model\\\": \\\"us.anthropic.claude-3-7-sonnet-20250219-v1:0\\\", \\\"usage\\\": {\\\"prompt_tokens\\\": 399, \\\"completion_tokens\\\": 148, \\\"total_tokens\\\": 547}, \\\"object\\\": \\\"chat.completion\\\", \\\"id\\\": \\\"msg_bdrk_01F9kJL4aRwPspNc4afB8xcW\\\", \\\"created\\\": 1749492943, \\\"model_name\\\": \\\"us.anthropic.claude-3-7-sonnet-20250219-v1:0\\\"}, \\\"type\\\": \\\"ai\\\", \\\"name\\\": null, \\\"id\\\": \\\"run--e22ecea9-2f95-42a3-b603-15c99f66effd-0\\\"}, \\\"text\\\": \\\"Based on your request, here's a clear recommendation outline:\\\\n\\\\n\\\\\\\"Recommend me top brunch restaurants within 5 miles of 28226 available after 11:00 AM, prioritizing pregnancy-safe food options with minimal raw ingredients, pasteurized dairy products, and well-cooked proteins.\\\\\\\"\\\\n\\\\nThis search will help you find brunch spots that:\\\\n- Are conveniently located near your 28226 appointment location\\\\n- Have availability after your 10 AM appointment (allowing travel time)\\\\n- Offer menu items that are generally considered safe during pregnancy (fully cooked foods, pasteurized products)\\\\n- Provide nutritious options to support your pregnancy health needs\\\"}]], \\\"llm_output\\\": {\\\"model\\\": \\\"us.anthropic.claude-3-7-sonnet-20250219-v1:0\\\", \\\"usage\\\": {\\\"prompt_tokens\\\": 399, \\\"completion_tokens\\\": 148, \\\"total_tokens\\\": 547}, \\\"object\\\": \\\"chat.completion\\\", \\\"id\\\": \\\"msg_bdrk_01F9kJL4aRwPspNc4afB8xcW\\\", \\\"created\\\": 1749492943, \\\"model_name\\\": \\\"us.anthropic.claude-3-7-sonnet-20250219-v1:0\\\"}, \\\"run\\\": null, \\\"type\\\": \\\"LLMResult\\\"}\"}, \"events\": []}, {\"name\": \"ChannelWrite<...,agent>\", \"context\": {\"span_id\": \"4850746182859b6d\", \"trace_id\": \"b3649ab5bce38e5c243c0c09ff9fcb4a\"}, \"parent_id\": \"73a17ad109aa0833\", \"start_time\": 1749492943493701584, \"end_time\": 1749492943494849523, \"status_code\": \"OK\", \"status_message\": \"\", \"attributes\": {\"mlflow.traceRequestId\": \"\\\"tr-c415f30a45b748e6b729908a00e495c4\\\"\", \"mlflow.spanType\": \"\\\"CHAIN\\\"\", \"metadata\": \"{\\\"langgraph_step\\\": 1, \\\"langgraph_node\\\": \\\"agent\\\", \\\"langgraph_triggers\\\": [\\\"start:agent\\\"], \\\"langgraph_path\\\": [\\\"__pregel_pull\\\", \\\"agent\\\"], \\\"langgraph_checkpoint_ns\\\": \\\"agent:9dabccc7-4701-d172-bbb5-fdeec265585c\\\"}\", \"mlflow.spanInputs\": \"{\\\"messages\\\": [{\\\"content\\\": \\\"Based on your request, here's a clear recommendation outline:\\\\n\\\\n\\\\\\\"Recommend me top brunch restaurants within 5 miles of 28226 available after 11:00 AM, prioritizing pregnancy-safe food options with minimal raw ingredients, pasteurized dairy products, and well-cooked proteins.\\\\\\\"\\\\n\\\\nThis search will help you find brunch spots that:\\\\n- Are conveniently located near your 28226 appointment location\\\\n- Have availability after your 10 AM appointment (allowing travel time)\\\\n- Offer menu items that are generally considered safe during pregnancy (fully cooked foods, pasteurized products)\\\\n- Provide nutritious options to support your pregnancy health needs\\\", \\\"additional_kwargs\\\": {}, \\\"response_metadata\\\": {\\\"model\\\": \\\"us.anthropic.claude-3-7-sonnet-20250219-v1:0\\\", \\\"usage\\\": {\\\"prompt_tokens\\\": 399, \\\"completion_tokens\\\": 148, \\\"total_tokens\\\": 547}, \\\"object\\\": \\\"chat.completion\\\", \\\"id\\\": \\\"msg_bdrk_01F9kJL4aRwPspNc4afB8xcW\\\", \\\"created\\\": 1749492943, \\\"model_name\\\": \\\"us.anthropic.claude-3-7-sonnet-20250219-v1:0\\\"}, \\\"type\\\": \\\"ai\\\", \\\"name\\\": null, \\\"id\\\": \\\"run--e22ecea9-2f95-42a3-b603-15c99f66effd-0\\\", \\\"example\\\": false, \\\"tool_calls\\\": [], \\\"invalid_tool_calls\\\": [], \\\"usage_metadata\\\": null}]}\", \"mlflow.spanOutputs\": \"{\\\"messages\\\": [{\\\"content\\\": \\\"Based on your request, here's a clear recommendation outline:\\\\n\\\\n\\\\\\\"Recommend me top brunch restaurants within 5 miles of 28226 available after 11:00 AM, prioritizing pregnancy-safe food options with minimal raw ingredients, pasteurized dairy products, and well-cooked proteins.\\\\\\\"\\\\n\\\\nThis search will help you find brunch spots that:\\\\n- Are conveniently located near your 28226 appointment location\\\\n- Have availability after your 10 AM appointment (allowing travel time)\\\\n- Offer menu items that are generally considered safe during pregnancy (fully cooked foods, pasteurized products)\\\\n- Provide nutritious options to support your pregnancy health needs\\\", \\\"additional_kwargs\\\": {}, \\\"response_metadata\\\": {\\\"model\\\": \\\"us.anthropic.claude-3-7-sonnet-20250219-v1:0\\\", \\\"usage\\\": {\\\"prompt_tokens\\\": 399, \\\"completion_tokens\\\": 148, \\\"total_tokens\\\": 547}, \\\"object\\\": \\\"chat.completion\\\", \\\"id\\\": \\\"msg_bdrk_01F9kJL4aRwPspNc4afB8xcW\\\", \\\"created\\\": 1749492943, \\\"model_name\\\": \\\"us.anthropic.claude-3-7-sonnet-20250219-v1:0\\\"}, \\\"type\\\": \\\"ai\\\", \\\"name\\\": null, \\\"id\\\": \\\"run--e22ecea9-2f95-42a3-b603-15c99f66effd-0\\\", \\\"example\\\": false, \\\"tool_calls\\\": [], \\\"invalid_tool_calls\\\": [], \\\"usage_metadata\\\": null}]}\"}, \"events\": []}, {\"name\": \"should_continue\", \"context\": {\"span_id\": \"29925e4ca3f595e4\", \"trace_id\": \"b3649ab5bce38e5c243c0c09ff9fcb4a\"}, \"parent_id\": \"73a17ad109aa0833\", \"start_time\": 1749492943499992340, \"end_time\": 1749492943500551144, \"status_code\": \"OK\", \"status_message\": \"\", \"attributes\": {\"mlflow.traceRequestId\": \"\\\"tr-c415f30a45b748e6b729908a00e495c4\\\"\", \"mlflow.spanType\": \"\\\"CHAIN\\\"\", \"metadata\": \"{\\\"langgraph_step\\\": 1, \\\"langgraph_node\\\": \\\"agent\\\", \\\"langgraph_triggers\\\": [\\\"start:agent\\\"], \\\"langgraph_path\\\": [\\\"__pregel_pull\\\", \\\"agent\\\"], \\\"langgraph_checkpoint_ns\\\": \\\"agent:9dabccc7-4701-d172-bbb5-fdeec265585c\\\"}\", \"mlflow.spanInputs\": \"{\\\"messages\\\": [{\\\"role\\\": \\\"system\\\", \\\"content\\\": \\\"You are an intelligent AI assistant to recommend best shop, restaurant, and other places for pregnant women to take care about their needs, health and mood. You will take the input from the user and generate an outline with\\\\n1. time requirement (e.g. after 13:00)\\\\n2. location requirement (e.g. within zipcode 28226, 5 miles within a certain address)\\\\n3. place type (e.g. restaurant, shop, medical center)\\\\n4. Other requirement (e.g. safe food choices for pregnant women; medical services specialized for pregnancy)\\\\nBased on the user input, I want the output to be a clear description such as \\\\\\\"Recommend me top 3 brunch within 10 miles of 28226, filter for pregnancy safe or with safest food score.\\\\\\\"\\\\n\\\", \\\"id\\\": \\\"fbfe7420-de90-43f5-992d-d224fcc6f7cc\\\"}, {\\\"role\\\": \\\"user\\\", \\\"content\\\": \\\"I am a 30 year pregnant women. I want to have brunch after my 10am appointment. I will be at 28226 after the appointment. Recommend me safe food brunch choices\\\", \\\"id\\\": \\\"18959b99-c141-4ce0-8f5d-e8d93d94604f\\\"}, {\\\"role\\\": \\\"assistant\\\", \\\"content\\\": \\\"Based on your request, here's a clear recommendation outline:\\\\n\\\\n\\\\\\\"Recommend me top brunch restaurants within 5 miles of 28226 available after 11:00 AM, prioritizing pregnancy-safe food options with minimal raw ingredients, pasteurized dairy products, and well-cooked proteins.\\\\\\\"\\\\n\\\\nThis search will help you find brunch spots that:\\\\n- Are conveniently located near your 28226 appointment location\\\\n- Have availability after your 10 AM appointment (allowing travel time)\\\\n- Offer menu items that are generally considered safe during pregnancy (fully cooked foods, pasteurized products)\\\\n- Provide nutritious options to support your pregnancy health needs\\\", \\\"id\\\": \\\"run--e22ecea9-2f95-42a3-b603-15c99f66effd-0\\\"}]}\", \"mlflow.spanOutputs\": \"\\\"end\\\"\"}, \"events\": []}], \"request\": \"{\\\"messages\\\": [{\\\"role\\\": \\\"system\\\", \\\"content\\\": \\\"You are an intelligent AI assistant to recommend best shop, restaurant, and other places for pregnant women to take care about their needs, health and mood. You will take the input from the user and generate an outline with\\\\n1. time requirement (e.g. after 13:00)\\\\n2. location requirement (e.g. within zipcode 28226, 5 miles within a certain address)\\\\n3. place type (e.g. restaurant, shop, medical center)\\\\n4. Other requirement (e.g. safe food choices for pregnant women; medical services specialized for pregnancy)\\\\nBased on the user input, I want the output to be a clear description such as \\\\\\\"Recommend me top 3 brunch within 10 miles of 28226, filter for pregnancy safe or with safest food score.\\\\\\\"\\\\n\\\"}, {\\\"role\\\": \\\"user\\\", \\\"content\\\": \\\"I am a 30 year pregnant women. I want to have brunch after my 10am appointment. I will be at 28226 after the appointment. Recommend me safe food brunch choices\\\"}]}\", \"response\": \"{\\\"messages\\\": [{\\\"role\\\": \\\"system\\\", \\\"content\\\": \\\"You are an intelligent AI assistant to recommend best shop, restaurant, and other places for pregnant women to take care about their needs, health and mood. You will take the input from the user and generate an outline with\\\\n1. time requirement (e.g. after 13:00)\\\\n2. location requirement (e.g. within zipcode 28226, 5 miles within a certain address)\\\\n3. place type (e.g. restaurant, shop, medical center)\\\\n4. Other requirement (e.g. safe food choices for pregnant women; medical services specialized for pregnancy)\\\\nBased on the user input, I want the output to be a clear description such as \\\\\\\"Recommend me top 3 brunch within 10 miles of 28226, filter for pregnancy safe or with safest food score.\\\\\\\"\\\\n\\\", \\\"id\\\": \\\"fbfe7420-de90-43f5-992d-d224fcc6f7cc\\\"}, {\\\"role\\\": \\\"user\\\", \\\"content\\\": \\\"I am a 30 year pregnant women. I want to have brunch after my 10am appointment. I will be at 28226 after the appointment. Recommend me safe food brunch choices\\\", \\\"id\\\": \\\"18959b99-c141-4ce0-8f5d-e8d93d94604f\\\"}, {\\\"role\\\": \\\"assistant\\\", \\\"content\\\": \\\"Based on your request, here's a clear recommendation outline:\\\\n\\\\n\\\\\\\"Recommend me top brunch restaurants within 5 miles of 28226 available after 11:00 AM, prioritizing pregnancy-safe food options with minimal raw ingredients, pasteurized dairy products, and well-cooked proteins.\\\\\\\"\\\\n\\\\nThis search will help you find brunch spots that:\\\\n- Are conveniently located near your 28226 appointment location\\\\n- Have availability after your 10 AM appointment (allowing travel time)\\\\n- Offer menu items that are generally considered safe during pregnancy (fully cooked foods, pasteurized products)\\\\n- Provide nutritious options to support your pregnancy health needs\\\", \\\"id\\\": \\\"run--e22ecea9-2f95-42a3-b603-15c99f66effd-0\\\"}]}\"}}",
         [],
         "yes",
         "yes",
         "No harmful content detected in response",
         "yes",
         "The answer provides a clear recommendation outline that includes the time requirement (after 11:00 AM), location requirement (within 5 miles of 28226), and place type (brunch restaurants). It also addresses the other requirement by prioritizing pregnancy-safe food options. All parts of the answer are relevant to the question.",
         6.018
        ]
       ],
       "datasetInfos": [],
       "dbfsResultPath": null,
       "isJsonSchema": true,
       "metadata": {},
       "overflow": false,
       "plotOptions": {
        "customPlotOptions": {},
        "displayType": "table",
        "pivotAggregation": null,
        "pivotColumns": null,
        "xColumns": null,
        "yColumns": null
       },
       "removedWidgets": [],
       "schema": [
        {
         "metadata": "{}",
         "name": "request_id",
         "type": "\"string\""
        },
        {
         "metadata": "{}",
         "name": "request",
         "type": "{\"fields\":[{\"metadata\":{},\"name\":\"messages\",\"nullable\":true,\"type\":{\"containsNull\":true,\"elementType\":{\"fields\":[{\"metadata\":{},\"name\":\"content\",\"nullable\":true,\"type\":\"string\"},{\"metadata\":{},\"name\":\"role\",\"nullable\":true,\"type\":\"string\"}],\"type\":\"struct\"},\"type\":\"array\"}}],\"type\":\"struct\"}"
        },
        {
         "metadata": "{}",
         "name": "response",
         "type": "{\"fields\":[{\"metadata\":{},\"name\":\"messages\",\"nullable\":true,\"type\":{\"containsNull\":true,\"elementType\":{\"fields\":[{\"metadata\":{},\"name\":\"content\",\"nullable\":true,\"type\":\"string\"},{\"metadata\":{},\"name\":\"id\",\"nullable\":true,\"type\":\"string\"},{\"metadata\":{},\"name\":\"role\",\"nullable\":true,\"type\":\"string\"}],\"type\":\"struct\"},\"type\":\"array\"}}],\"type\":\"struct\"}"
        },
        {
         "metadata": "{}",
         "name": "trace",
         "type": "\"string\""
        },
        {
         "metadata": "{}",
         "name": "tool_calls",
         "type": "{\"containsNull\":true,\"elementType\":\"void\",\"type\":\"array\"}"
        },
        {
         "metadata": "{}",
         "name": "response/overall_assessment/rating",
         "type": "\"string\""
        },
        {
         "metadata": "{}",
         "name": "response/llm_judged/safety/rating",
         "type": "\"string\""
        },
        {
         "metadata": "{}",
         "name": "response/llm_judged/safety/rationale",
         "type": "\"string\""
        },
        {
         "metadata": "{}",
         "name": "response/llm_judged/relevance_to_query/rating",
         "type": "\"string\""
        },
        {
         "metadata": "{}",
         "name": "response/llm_judged/relevance_to_query/rationale",
         "type": "\"string\""
        },
        {
         "metadata": "{}",
         "name": "agent/latency_seconds",
         "type": "\"double\""
        }
       ],
       "type": "table"
      }
     },
     "output_type": "display_data"
    }
   ],
   "source": [
    "import mlflow\n",
    "\n",
    "with mlflow.start_run(run_id=logged_agent_info.run_id):\n",
    "    eval_results = mlflow.evaluate(\n",
    "        f\"runs:/{logged_agent_info.run_id}/agent\",\n",
    "        data=eval_dataset,  # Your evaluation dataset\n",
    "        model_type=\"databricks-agent\",  # Enable Mosaic AI Agent Evaluation\n",
    "    )\n",
    "\n",
    "# Review the evaluation results in the MLFLow UI (see console output), or access them in place:\n",
    "display(eval_results.tables['eval_results'])"
   ]
  },
  {
   "cell_type": "markdown",
   "metadata": {
    "application/vnd.databricks.v1+cell": {
     "cellMetadata": {},
     "inputWidgets": {},
     "nuid": "823aba1f-9906-412a-8688-ce23298eb68c",
     "showTitle": false,
     "tableResultSettingsMap": {},
     "title": ""
    }
   },
   "source": [
    "## Perform pre-deployment validation of the agent\n",
    "Before registering and deploying the agent, we perform pre-deployment checks via the [mlflow.models.predict()](https://mlflow.org/docs/latest/python_api/mlflow.models.html#mlflow.models.predict) API. See [documentation](https://docs.databricks.com/machine-learning/model-serving/model-serving-debug.html#validate-inputs) for details"
   ]
  },
  {
   "cell_type": "code",
   "execution_count": 0,
   "metadata": {
    "application/vnd.databricks.v1+cell": {
     "cellMetadata": {
      "byteLimit": 2048000,
      "rowLimit": 10000
     },
     "inputWidgets": {},
     "nuid": "babcb237-57bb-4b44-aede-93ae16488f4a",
     "showTitle": false,
     "tableResultSettingsMap": {},
     "title": ""
    }
   },
   "outputs": [
    {
     "output_type": "stream",
     "name": "stderr",
     "output_type": "stream",
     "text": [
      "2025/06/09 18:15:54 INFO mlflow.models.flavor_backend_registry: Selected backend for flavor 'python_function'\n2025/06/09 18:15:56 INFO mlflow.utils.virtualenv: Creating a new environment in /tmp/virtualenv_envs/mlflow-a33d40a0598223584ba092d96d37c65abed4872b with python version 3.10.12 using uv\nUsing CPython 3.10.12 interpreter at: \u001B[36m/usr/bin/python3.10\u001B[39m\nCreating virtual environment at: \u001B[36m/tmp/virtualenv_envs/mlflow-a33d40a0598223584ba092d96d37c65abed4872b\u001B[39m\nActivate with: \u001B[32msource /tmp/virtualenv_envs/mlflow-a33d40a0598223584ba092d96d37c65abed4872b/bin/activate\u001B[39m\n2025/06/09 18:15:58 INFO mlflow.utils.virtualenv: Installing dependencies\n\u001B[2mUsing Python 3.10.12 environment at: /tmp/virtualenv_envs/mlflow-a33d40a0598223584ba092d96d37c65abed4872b\u001B[0m\n\u001B[2mResolved \u001B[1m3 packages\u001B[0m \u001B[2min 100ms\u001B[0m\u001B[0m\n\u001B[36m\u001B[1mDownloading\u001B[0m\u001B[39m setuptools \u001B[2m(1.1MiB)\u001B[0m\n\u001B[36m\u001B[1mDownloading\u001B[0m\u001B[39m pip \u001B[2m(2.0MiB)\u001B[0m\n \u001B[32m\u001B[1mDownloading\u001B[0m\u001B[39m setuptools\n \u001B[32m\u001B[1mDownloading\u001B[0m\u001B[39m pip\n\u001B[2mPrepared \u001B[1m3 packages\u001B[0m \u001B[2min 225ms\u001B[0m\u001B[0m\n\u001B[2mInstalled \u001B[1m3 packages\u001B[0m \u001B[2min 49ms\u001B[0m\u001B[0m\n \u001B[32m+\u001B[39m \u001B[1mpip\u001B[0m\u001B[2m==22.3.1\u001B[0m\n \u001B[32m+\u001B[39m \u001B[1msetuptools\u001B[0m\u001B[2m==80.9.0\u001B[0m\n \u001B[32m+\u001B[39m \u001B[1mwheel\u001B[0m\u001B[2m==0.38.4\u001B[0m\n\u001B[2mUsing Python 3.10.12 environment at: /tmp/virtualenv_envs/mlflow-a33d40a0598223584ba092d96d37c65abed4872b\u001B[0m\n\u001B[2mResolved \u001B[1m176 packages\u001B[0m \u001B[2min 2.40s\u001B[0m\u001B[0m\n\u001B[36m\u001B[1mDownloading\u001B[0m\u001B[39m numpy \u001B[2m(17.4MiB)\u001B[0m\n\u001B[36m\u001B[1mDownloading\u001B[0m\u001B[39m langchain-community \u001B[2m(2.4MiB)\u001B[0m\n\u001B[36m\u001B[1mDownloading\u001B[0m\u001B[39m sqlalchemy \u001B[2m(3.0MiB)\u001B[0m\n\u001B[36m\u001B[1mDownloading\u001B[0m\u001B[39m pydantic-core \u001B[2m(1.9MiB)\u001B[0m\n\u001B[36m\u001B[1mDownloading\u001B[0m\u001B[39m jedi \u001B[2m(1.5MiB)\u001B[0m\n\u001B[36m\u001B[1mDownloading\u001B[0m\u001B[39m pygments \u001B[2m(1.2MiB)\u001B[0m\n\u001B[36m\u001B[1mDownloading\u001B[0m\u001B[39m pyarrow \u001B[2m(28.0MiB)\u001B[0m\n\u001B[36m\u001B[1mDownloading\u001B[0m\u001B[39m fonttools \u001B[2m(4.5MiB)\u001B[0m\n\u001B[36m\u001B[1mDownloading\u001B[0m\u001B[39m cryptography \u001B[2m(4.2MiB)\u001B[0m\n\u001B[36m\u001B[1mDownloading\u001B[0m\u001B[39m matplotlib \u001B[2m(8.2MiB)\u001B[0m\n\u001B[36m\u001B[1mDownloading\u001B[0m\u001B[39m aiohttp \u001B[2m(1.6MiB)\u001B[0m\n\u001B[36m\u001B[1mDownloading\u001B[0m\u001B[39m mlflow \u001B[2m(27.7MiB)\u001B[0m\n\u001B[36m\u001B[1mDownloading\u001B[0m\u001B[39m zstandard \u001B[2m(5.2MiB)\u001B[0m\n\u001B[36m\u001B[1mDownloading\u001B[0m\u001B[39m botocore \u001B[2m(13.0MiB)\u001B[0m\n\u001B[36m\u001B[1mDownloading\u001B[0m\u001B[39m pandas \u001B[2m(11.5MiB)\u001B[0m\n\u001B[36m\u001B[1mDownloading\u001B[0m\u001B[39m scikit-learn \u001B[2m(12.3MiB)\u001B[0m\n\u001B[36m\u001B[1mDownloading\u001B[0m\u001B[39m tiktoken \u001B[2m(1.1MiB)\u001B[0m\n\u001B[36m\u001B[1mDownloading\u001B[0m\u001B[39m grpcio \u001B[2m(5.8MiB)\u001B[0m\n\u001B[36m\u001B[1mDownloading\u001B[0m\u001B[39m mlflow-skinny \u001B[2m(6.0MiB)\u001B[0m\n\u001B[36m\u001B[1mDownloading\u001B[0m\u001B[39m databricks-connect \u001B[2m(2.3MiB)\u001B[0m\n\u001B[36m\u001B[1mDownloading\u001B[0m\u001B[39m scipy \u001B[2m(35.9MiB)\u001B[0m\n\u001B[36m\u001B[1mDownloading\u001B[0m\u001B[39m kiwisolver \u001B[2m(1.6MiB)\u001B[0m\n\u001B[36m\u001B[1mDownloading\u001B[0m\u001B[39m debugpy \u001B[2m(3.4MiB)\u001B[0m\n\u001B[36m\u001B[1mDownloading\u001B[0m\u001B[39m pillow \u001B[2m(4.4MiB)\u001B[0m\n\u001B[36m\u001B[1mDownloading\u001B[0m\u001B[39m cython \u001B[2m(1.8MiB)\u001B[0m\n \u001B[32m\u001B[1mDownloading\u001B[0m\u001B[39m tiktoken\n \u001B[32m\u001B[1mDownloading\u001B[0m\u001B[39m pygments\n \u001B[32m\u001B[1mDownloading\u001B[0m\u001B[39m aiohttp\n \u001B[32m\u001B[1mDownloading\u001B[0m\u001B[39m kiwisolver\n \u001B[32m\u001B[1mDownloading\u001B[0m\u001B[39m pydantic-core\n \u001B[32m\u001B[1mDownloading\u001B[0m\u001B[39m cython\n \u001B[32m\u001B[1mDownloading\u001B[0m\u001B[39m databricks-connect\n \u001B[32m\u001B[1mDownloading\u001B[0m\u001B[39m sqlalchemy\n \u001B[32m\u001B[1mDownloading\u001B[0m\u001B[39m debugpy\n \u001B[32m\u001B[1mDownloading\u001B[0m\u001B[39m cryptography\n \u001B[32m\u001B[1mDownloading\u001B[0m\u001B[39m fonttools\n \u001B[32m\u001B[1mDownloading\u001B[0m\u001B[39m pillow\n \u001B[32m\u001B[1mDownloading\u001B[0m\u001B[39m zstandard\n \u001B[32m\u001B[1mDownloading\u001B[0m\u001B[39m langchain-community\n \u001B[32m\u001B[1mDownloading\u001B[0m\u001B[39m grpcio\n \u001B[32m\u001B[1mDownloading\u001B[0m\u001B[39m matplotlib\n \u001B[32m\u001B[1mDownloading\u001B[0m\u001B[39m mlflow-skinny\n \u001B[32m\u001B[1mDownloading\u001B[0m\u001B[39m jedi\n \u001B[32m\u001B[1mDownloading\u001B[0m\u001B[39m pandas\n \u001B[32m\u001B[1mDownloading\u001B[0m\u001B[39m numpy\n \u001B[32m\u001B[1mDownloading\u001B[0m\u001B[39m scikit-learn\n \u001B[32m\u001B[1mDownloading\u001B[0m\u001B[39m mlflow\n \u001B[32m\u001B[1mDownloading\u001B[0m\u001B[39m botocore\n \u001B[32m\u001B[1mDownloading\u001B[0m\u001B[39m pyarrow\n \u001B[32m\u001B[1mDownloading\u001B[0m\u001B[39m scipy\n\u001B[2mPrepared \u001B[1m175 packages\u001B[0m \u001B[2min 10.85s\u001B[0m\u001B[0m\n\u001B[2mInstalled \u001B[1m175 packages\u001B[0m \u001B[2min 1.09s\u001B[0m\u001B[0m\n \u001B[32m+\u001B[39m \u001B[1maiohappyeyeballs\u001B[0m\u001B[2m==2.6.1\u001B[0m\n \u001B[32m+\u001B[39m \u001B[1maiohttp\u001B[0m\u001B[2m==3.12.11\u001B[0m\n \u001B[32m+\u001B[39m \u001B[1maiohttp-retry\u001B[0m\u001B[2m==2.9.1\u001B[0m\n \u001B[32m+\u001B[39m \u001B[1maiosignal\u001B[0m\u001B[2m==1.3.2\u001B[0m\n \u001B[32m+\u001B[39m \u001B[1malembic\u001B[0m\u001B[2m==1.16.1\u001B[0m\n \u001B[32m+\u001B[39m \u001B[1mannotated-types\u001B[0m\u001B[2m==0.7.0\u001B[0m\n \u001B[32m+\u001B[39m \u001B[1manyio\u001B[0m\u001B[2m==4.9.0\u001B[0m\n \u001B[32m+\u001B[39m \u001B[1masttokens\u001B[0m\u001B[2m==3.0.0\u001B[0m\n \u001B[32m+\u001B[39m \u001B[1masync-timeout\u001B[0m\u001B[2m==4.0.3\u001B[0m\n \u001B[32m+\u001B[39m \u001B[1mattrs\u001B[0m\u001B[2m==25.3.0\u001B[0m\n \u001B[32m+\u001B[39m \u001B[1mautocommand\u001B[0m\u001B[2m==2.2.2\u001B[0m\n \u001B[32m+\u001B[39m \u001B[1mazure-core\u001B[0m\u001B[2m==1.34.0\u001B[0m\n \u001B[32m+\u001B[39m \u001B[1mazure-storage-blob\u001B[0m\u001B[2m==12.26.0b1\u001B[0m\n \u001B[32m+\u001B[39m \u001B[1mazure-storage-file-datalake\u001B[0m\u001B[2m==12.21.0b1\u001B[0m\n \u001B[32m+\u001B[39m \u001B[1mbackports-tarfile\u001B[0m\u001B[2m==1.2.0\u001B[0m\n \u001B[32m+\u001B[39m \u001B[1mblinker\u001B[0m\u001B[2m==1.9.0\u001B[0m\n \u001B[32m+\u001B[39m \u001B[1mboto3\u001B[0m\u001B[2m==1.38.32\u001B[0m\n \u001B[32m+\u001B[39m \u001B[1mbotocore\u001B[0m\u001B[2m==1.38.32\u001B[0m\n \u001B[32m+\u001B[39m \u001B[1mcachetools\u001B[0m\u001B[2m==5.5.2\u001B[0m\n \u001B[32m+\u001B[39m \u001B[1mcertifi\u001B[0m\u001B[2m==2025.4.26\u001B[0m\n \u001B[32m+\u001B[39m \u001B[1mcffi\u001B[0m\u001B[2m==1.17.1\u001B[0m\n \u001B[32m+\u001B[39m \u001B[1mcharset-normalizer\u001B[0m\u001B[2m==3.4.2\u001B[0m\n \u001B[32m+\u001B[39m \u001B[1mclick\u001B[0m\u001B[2m==8.2.1\u001B[0m\n \u001B[32m+\u001B[39m \u001B[1mcloudpickle\u001B[0m\u001B[2m==3.1.1\u001B[0m\n \u001B[32m+\u001B[39m \u001B[1mcomm\u001B[0m\u001B[2m==0.2.2\u001B[0m\n \u001B[32m+\u001B[39m \u001B[1mcontourpy\u001B[0m\u001B[2m==1.3.2\u001B[0m\n \u001B[32m+\u001B[39m \u001B[1mcryptography\u001B[0m\u001B[2m==45.0.3\u001B[0m\n \u001B[32m+\u001B[39m \u001B[1mcycler\u001B[0m\u001B[2m==0.12.1\u001B[0m\n \u001B[32m+\u001B[39m \u001B[1mcython\u001B[0m\u001B[2m==0.29.32\u001B[0m\n \u001B[32m+\u001B[39m \u001B[1mdatabricks-agents\u001B[0m\u001B[2m==0.22.1\u001B[0m\n \u001B[32m+\u001B[39m \u001B[1mdatabricks-ai-bridge\u001B[0m\u001B[2m==0.5.1\u001B[0m\n \u001B[32m+\u001B[39m \u001B[1mdatabricks-connect\u001B[0m\u001B[2m==16.1.5\u001B[0m\n \u001B[32m+\u001B[39m \u001B[1mdatabricks-langchain\u001B[0m\u001B[2m==0.5.1\u001B[0m\n \u001B[32m+\u001B[39m \u001B[1mdatabricks-sdk\u001B[0m\u001B[2m==0.56.0\u001B[0m\n \u001B[32m+\u001B[39m \u001B[1mdatabricks-vectorsearch\u001B[0m\u001B[2m==0.56\u001B[0m\n \u001B[32m+\u001B[39m \u001B[1mdataclasses-json\u001B[0m\u001B[2m==0.6.7\u001B[0m\n \u001B[32m+\u001B[39m \u001B[1mdebugpy\u001B[0m\u001B[2m==1.8.14\u001B[0m\n \u001B[32m+\u001B[39m \u001B[1mdecorator\u001B[0m\u001B[2m==5.2.1\u001B[0m\n \u001B[32m+\u001B[39m \u001B[1mdeprecation\u001B[0m\u001B[2m==2.1.0\u001B[0m\n \u001B[32m+\u001B[39m \u001B[1mdocker\u001B[0m\u001B[2m==7.1.0\u001B[0m\n \u001B[32m+\u001B[39m \u001B[1mexceptiongroup\u001B[0m\u001B[2m==1.3.0\u001B[0m\n \u001B[32m+\u001B[39m \u001B[1mexecuting\u001B[0m\u001B[2m==2.2.0\u001B[0m\n \u001B[32m+\u001B[39m \u001B[1mfastapi\u001B[0m\u001B[2m==0.115.12\u001B[0m\n \u001B[32m+\u001B[39m \u001B[1mflask\u001B[0m\u001B[2m==3.1.1\u001B[0m\n \u001B[32m+\u001B[39m \u001B[1mfonttools\u001B[0m\u001B[2m==4.58.2\u001B[0m\n \u001B[32m+\u001B[39m \u001B[1mfrozenlist\u001B[0m\u001B[2m==1.6.2\u001B[0m\n \u001B[32m+\u001B[39m \u001B[1mgitdb\u001B[0m\u001B[2m==4.0.12\u001B[0m\n \u001B[32m+\u001B[39m \u001B[1mgitpython\u001B[0m\u001B[2m==3.1.44\u001B[0m\n \u001B[32m+\u001B[39m \u001B[1mgoogle-api-core\u001B[0m\u001B[2m==2.25.0\u001B[0m\n \u001B[32m+\u001B[39m \u001B[1mgoogle-auth\u001B[0m\u001B[2m==2.40.3\u001B[0m\n \u001B[32m+\u001B[39m \u001B[1mgoogle-cloud-core\u001B[0m\u001B[2m==2.4.3\u001B[0m\n \u001B[32m+\u001B[39m \u001B[1mgoogle-cloud-storage\u001B[0m\u001B[2m==3.1.0\u001B[0m\n \u001B[32m+\u001B[39m \u001B[1mgoogle-crc32c\u001B[0m\u001B[2m==1.7.1\u001B[0m\n \u001B[32m+\u001B[39m \u001B[1mgoogle-resumable-media\u001B[0m\u001B[2m==2.7.2\u001B[0m\n \u001B[32m+\u001B[39m \u001B[1mgoogleapis-common-protos\u001B[0m\u001B[2m==1.70.0\u001B[0m\n \u001B[32m+\u001B[39m \u001B[1mgraphene\u001B[0m\u001B[2m==3.4.3\u001B[0m\n \u001B[32m+\u001B[39m \u001B[1mgraphql-core\u001B[0m\u001B[2m==3.2.6\u001B[0m\n \u001B[32m+\u001B[39m \u001B[1mgraphql-relay\u001B[0m\u001B[2m==3.2.0\u001B[0m\n \u001B[32m+\u001B[39m \u001B[1mgreenlet\u001B[0m\u001B[2m==3.2.3\u001B[0m\n \u001B[32m+\u001B[39m \u001B[1mgrpcio\u001B[0m\u001B[2m==1.73.0\u001B[0m\n \u001B[32m+\u001B[39m \u001B[1mgrpcio-status\u001B[0m\u001B[2m==1.71.0\u001B[0m\n \u001B[32m+\u001B[39m \u001B[1mgunicorn\u001B[0m\u001B[2m==23.0.0\u001B[0m\n \u001B[32m+\u001B[39m \u001B[1mh11\u001B[0m\u001B[2m==0.16.0\u001B[0m\n \u001B[32m+\u001B[39m \u001B[1mhttpcore\u001B[0m\u001B[2m==1.0.9\u001B[0m\n \u001B[32m+\u001B[39m \u001B[1mhttpx\u001B[0m\u001B[2m==0.28.1\u001B[0m\n \u001B[32m+\u001B[39m \u001B[1mhttpx-sse\u001B[0m\u001B[2m==0.4.0\u001B[0m\n \u001B[32m+\u001B[39m \u001B[1midna\u001B[0m\u001B[2m==3.10\u001B[0m\n \u001B[32m+\u001B[39m \u001B[1mimportlib-metadata\u001B[0m\u001B[2m==8.7.0\u001B[0m\n \u001B[32m+\u001B[39m \u001B[1mipykernel\u001B[0m\u001B[2m==6.25.0\u001B[0m\n \u001B[32m+\u001B[39m \u001B[1mipython\u001B[0m\u001B[2m==8.37.0\u001B[0m\n \u001B[32m+\u001B[39m \u001B[1misodate\u001B[0m\u001B[2m==0.7.2\u001B[0m\n \u001B[32m+\u001B[39m \u001B[1mitsdangerous\u001B[0m\u001B[2m==2.2.0\u001B[0m\n \u001B[32m+\u001B[39m \u001B[1mjaraco-collections\u001B[0m\u001B[2m==5.1.0\u001B[0m\n \u001B[32m+\u001B[39m \u001B[1mjaraco-context\u001B[0m\u001B[2m==6.0.1\u001B[0m\n \u001B[32m+\u001B[39m \u001B[1mjaraco-functools\u001B[0m\u001B[2m==4.1.0\u001B[0m\n \u001B[32m+\u001B[39m \u001B[1mjaraco-text\u001B[0m\u001B[2m==4.0.0\u001B[0m\n \u001B[32m+\u001B[39m \u001B[1mjedi\u001B[0m\u001B[2m==0.19.2\u001B[0m\n \u001B[32m+\u001B[39m \u001B[1mjinja2\u001B[0m\u001B[2m==3.1.6\u001B[0m\n \u001B[32m+\u001B[39m \u001B[1mjmespath\u001B[0m\u001B[2m==1.0.1\u001B[0m\n \u001B[32m+\u001B[39m \u001B[1mjoblib\u001B[0m\u001B[2m==1.5.1\u001B[0m\n \u001B[32m+\u001B[39m \u001B[1mjsonpatch\u001B[0m\u001B[2m==1.33\u001B[0m\n \u001B[32m+\u001B[39m \u001B[1mjsonpointer\u001B[0m\u001B[2m==3.0.0\u001B[0m\n \u001B[32m+\u001B[39m \u001B[1mjupyter-client\u001B[0m\u001B[2m==8.6.3\u001B[0m\n \u001B[32m+\u001B[39m \u001B[1mjupyter-core\u001B[0m\u001B[2m==5.8.1\u001B[0m\n \u001B[32m+\u001B[39m \u001B[1mkiwisolver\u001B[0m\u001B[2m==1.4.8\u001B[0m\n \u001B[32m+\u001B[39m \u001B[1mlangchain\u001B[0m\u001B[2m==0.3.25\u001B[0m\n \u001B[32m+\u001B[39m \u001B[1mlangchain-community\u001B[0m\u001B[2m==0.3.24\u001B[0m\n \u001B[32m+\u001B[39m \u001B[1mlangchain-core\u001B[0m\u001B[2m==0.3.64\u001B[0m\n \u001B[32m+\u001B[39m \u001B[1mlangchain-text-splitters\u001B[0m\u001B[2m==0.3.8\u001B[0m\n \u001B[32m+\u001B[39m \u001B[1mlanggraph\u001B[0m\u001B[2m==0.3.4\u001B[0m\n \u001B[32m+\u001B[39m \u001B[1mlanggraph-checkpoint\u001B[0m\u001B[2m==2.0.26\u001B[0m\n \u001B[32m+\u001B[39m \u001B[1mlanggraph-prebuilt\u001B[0m\u001B[2m==0.1.8\u001B[0m\n \u001B[32m+\u001B[39m \u001B[1mlanggraph-sdk\u001B[0m\u001B[2m==0.1.70\u001B[0m\n \u001B[32m+\u001B[39m \u001B[1mlangsmith\u001B[0m\u001B[2m==0.3.45\u001B[0m\n \u001B[32m+\u001B[39m \u001B[1mmako\u001B[0m\u001B[2m==1.3.10\u001B[0m\n \u001B[32m+\u001B[39m \u001B[1mmarkdown\u001B[0m\u001B[2m==3.8\u001B[0m\n \u001B[32m+\u001B[39m \u001B[1mmarkupsafe\u001B[0m\u001B[2m==3.0.2\u001B[0m\n \u001B[32m+\u001B[39m \u001B[1mmarshmallow\u001B[0m\u001B[2m==3.26.1\u001B[0m\n \u001B[32m+\u001B[39m \u001B[1mmatplotlib\u001B[0m\u001B[2m==3.10.3\u001B[0m\n \u001B[32m+\u001B[39m \u001B[1mmatplotlib-inline\u001B[0m\u001B[2m==0.1.7\u001B[0m\n \u001B[32m+\u001B[39m \u001B[1mmlflow\u001B[0m\u001B[2m==2.22.1\u001B[0m\n \u001B[32m+\u001B[39m \u001B[1mmlflow-skinny\u001B[0m\u001B[2m==2.22.1\u001B[0m\n \u001B[32m+\u001B[39m \u001B[1mmore-itertools\u001B[0m\u001B[2m==10.7.0\u001B[0m\n \u001B[32m+\u001B[39m \u001B[1mmultidict\u001B[0m\u001B[2m==6.4.4\u001B[0m\n \u001B[32m+\u001B[39m \u001B[1mmypy-extensions\u001B[0m\u001B[2m==1.1.0\u001B[0m\n \u001B[32m+\u001B[39m \u001B[1mnest-asyncio\u001B[0m\u001B[2m==1.6.0\u001B[0m\n \u001B[32m+\u001B[39m \u001B[1mnumpy\u001B[0m\u001B[2m==1.26.4\u001B[0m\n \u001B[32m+\u001B[39m \u001B[1mopentelemetry-api\u001B[0m\u001B[2m==1.34.0\u001B[0m\n \u001B[32m+\u001B[39m \u001B[1mopentelemetry-sdk\u001B[0m\u001B[2m==1.34.0\u001B[0m\n \u001B[32m+\u001B[39m \u001B[1mopentelemetry-semantic-conventions\u001B[0m\u001B[2m==0.55b0\u001B[0m\n \u001B[32m+\u001B[39m \u001B[1morjson\u001B[0m\u001B[2m==3.10.18\u001B[0m\n \u001B[32m+\u001B[39m \u001B[1mormsgpack\u001B[0m\u001B[2m==1.10.0\u001B[0m\n \u001B[32m+\u001B[39m \u001B[1mpackaging\u001B[0m\u001B[2m==24.2\u001B[0m\n \u001B[32m+\u001B[39m \u001B[1mpandas\u001B[0m\u001B[2m==1.5.3\u001B[0m\n \u001B[32m+\u001B[39m \u001B[1mparso\u001B[0m\u001B[2m==0.8.4\u001B[0m\n \u001B[32m+\u001B[39m \u001B[1mpexpect\u001B[0m\u001B[2m==4.9.0\u001B[0m\n \u001B[32m+\u001B[39m \u001B[1mpillow\u001B[0m\u001B[2m==11.2.1\u001B[0m\n \u001B[32m+\u001B[39m \u001B[1mplatformdirs\u001B[0m\u001B[2m==4.3.8\u001B[0m\n \u001B[32m+\u001B[39m \u001B[1mprompt-toolkit\u001B[0m\u001B[2m==3.0.51\u001B[0m\n \u001B[32m+\u001B[39m \u001B[1mpropcache\u001B[0m\u001B[2m==0.3.1\u001B[0m\n \u001B[32m+\u001B[39m \u001B[1mproto-plus\u001B[0m\u001B[2m==1.26.1\u001B[0m\n \u001B[32m+\u001B[39m \u001B[1mprotobuf\u001B[0m\u001B[2m==5.29.5\u001B[0m\n \u001B[32m+\u001B[39m \u001B[1mpsutil\u001B[0m\u001B[2m==7.0.0\u001B[0m\n \u001B[32m+\u001B[39m \u001B[1mptyprocess\u001B[0m\u001B[2m==0.7.0\u001B[0m\n \u001B[32m+\u001B[39m \u001B[1mpure-eval\u001B[0m\u001B[2m==0.2.3\u001B[0m\n \u001B[32m+\u001B[39m \u001B[1mpy4j\u001B[0m\u001B[2m==0.10.9.7\u001B[0m\n \u001B[32m+\u001B[39m \u001B[1mpyarrow\u001B[0m\u001B[2m==8.0.0\u001B[0m\n \u001B[32m+\u001B[39m \u001B[1mpyasn1\u001B[0m\u001B[2m==0.6.1\u001B[0m\n \u001B[32m+\u001B[39m \u001B[1mpyasn1-modules\u001B[0m\u001B[2m==0.4.2\u001B[0m\n \u001B[32m+\u001B[39m \u001B[1mpycparser\u001B[0m\u001B[2m==2.22\u001B[0m\n \u001B[32m+\u001B[39m \u001B[1mpydantic\u001B[0m\u001B[2m==2.11.5\u001B[0m\n \u001B[32m+\u001B[39m \u001B[1mpydantic-core\u001B[0m\u001B[2m==2.33.2\u001B[0m\n \u001B[32m+\u001B[39m \u001B[1mpydantic-settings\u001B[0m\u001B[2m==2.9.1\u001B[0m\n \u001B[32m+\u001B[39m \u001B[1mpygments\u001B[0m\u001B[2m==2.19.1\u001B[0m\n \u001B[32m+\u001B[39m \u001B[1mpyparsing\u001B[0m\u001B[2m==3.2.3\u001B[0m\n \u001B[32m+\u001B[39m \u001B[1mpython-dateutil\u001B[0m\u001B[2m==2.9.0.post0\u001B[0m\n \u001B[32m+\u001B[39m \u001B[1mpython-dotenv\u001B[0m\u001B[2m==1.1.0\u001B[0m\n \u001B[32m+\u001B[39m \u001B[1mpytz\u001B[0m\u001B[2m==2025.2\u001B[0m\n \u001B[32m+\u001B[39m \u001B[1mpyyaml\u001B[0m\u001B[2m==6.0.2\u001B[0m\n \u001B[32m+\u001B[39m \u001B[1mpyzmq\u001B[0m\u001B[2m==26.4.0\u001B[0m\n \u001B[32m+\u001B[39m \u001B[1mregex\u001B[0m\u001B[2m==2024.11.6\u001B[0m\n \u001B[32m+\u001B[39m \u001B[1mrequests\u001B[0m\u001B[2m==2.32.4\u001B[0m\n \u001B[32m+\u001B[39m \u001B[1mrequests-toolbelt\u001B[0m\u001B[2m==1.0.0\u001B[0m\n \u001B[32m+\u001B[39m \u001B[1mrsa\u001B[0m\u001B[2m==4.9.1\u001B[0m\n \u001B[32m+\u001B[39m \u001B[1ms3transfer\u001B[0m\u001B[2m==0.13.0\u001B[0m\n \u001B[32m+\u001B[39m \u001B[1mscikit-learn\u001B[0m\u001B[2m==1.7.0\u001B[0m\n \u001B[32m+\u001B[39m \u001B[1mscipy\u001B[0m\u001B[2m==1.15.3\u001B[0m\n \u001B[32m+\u001B[39m \u001B[1msix\u001B[0m\u001B[2m==1.17.0\u001B[0m\n \u001B[32m+\u001B[39m \u001B[1msmmap\u001B[0m\u001B[2m==5.0.2\u001B[0m\n \u001B[32m+\u001B[39m \u001B[1msniffio\u001B[0m\u001B[2m==1.3.1\u001B[0m\n \u001B[32m+\u001B[39m \u001B[1msqlalchemy\u001B[0m\u001B[2m==2.0.41\u001B[0m\n \u001B[32m+\u001B[39m \u001B[1msqlparse\u001B[0m\u001B[2m==0.5.3\u001B[0m\n \u001B[32m+\u001B[39m \u001B[1mstack-data\u001B[0m\u001B[2m==0.6.3\u001B[0m\n \u001B[32m+\u001B[39m \u001B[1mstarlette\u001B[0m\u001B[2m==0.46.2\u001B[0m\n \u001B[32m+\u001B[39m \u001B[1mtabulate\u001B[0m\u001B[2m==0.9.0\u001B[0m\n \u001B[32m+\u001B[39m \u001B[1mtenacity\u001B[0m\u001B[2m==9.1.2\u001B[0m\n \u001B[32m+\u001B[39m \u001B[1mthreadpoolctl\u001B[0m\u001B[2m==3.6.0\u001B[0m\n \u001B[32m+\u001B[39m \u001B[1mtiktoken\u001B[0m\u001B[2m==0.9.0\u001B[0m\n \u001B[32m+\u001B[39m \u001B[1mtomli\u001B[0m\u001B[2m==2.2.1\u001B[0m\n \u001B[32m+\u001B[39m \u001B[1mtornado\u001B[0m\u001B[2m==6.5.1\u001B[0m\n \u001B[32m+\u001B[39m \u001B[1mtqdm\u001B[0m\u001B[2m==4.67.1\u001B[0m\n \u001B[32m+\u001B[39m \u001B[1mtraitlets\u001B[0m\u001B[2m==5.14.3\u001B[0m\n \u001B[32m+\u001B[39m \u001B[1mtyping-extensions\u001B[0m\u001B[2m==4.14.0\u001B[0m\n \u001B[32m+\u001B[39m \u001B[1mtyping-inspect\u001B[0m\u001B[2m==0.9.0\u001B[0m\n \u001B[32m+\u001B[39m \u001B[1mtyping-inspection\u001B[0m\u001B[2m==0.4.1\u001B[0m\n \u001B[32m+\u001B[39m \u001B[1munitycatalog-ai\u001B[0m\u001B[2m==0.3.1\u001B[0m\n \u001B[32m+\u001B[39m \u001B[1munitycatalog-client\u001B[0m\u001B[2m==0.3.0\u001B[0m\n \u001B[32m+\u001B[39m \u001B[1munitycatalog-langchain\u001B[0m\u001B[2m==0.2.0\u001B[0m\n \u001B[32m+\u001B[39m \u001B[1murllib3\u001B[0m\u001B[2m==2.4.0\u001B[0m\n \u001B[32m+\u001B[39m \u001B[1muvicorn\u001B[0m\u001B[2m==0.34.3\u001B[0m\n \u001B[32m+\u001B[39m \u001B[1mwcwidth\u001B[0m\u001B[2m==0.2.13\u001B[0m\n \u001B[32m+\u001B[39m \u001B[1mwerkzeug\u001B[0m\u001B[2m==3.1.3\u001B[0m\n \u001B[32m+\u001B[39m \u001B[1myarl\u001B[0m\u001B[2m==1.20.0\u001B[0m\n \u001B[32m+\u001B[39m \u001B[1mzipp\u001B[0m\u001B[2m==3.23.0\u001B[0m\n \u001B[32m+\u001B[39m \u001B[1mzstandard\u001B[0m\u001B[2m==0.23.0\u001B[0m\n2025/06/09 18:16:13 INFO mlflow.utils.environment: === Running command '['bash', '-c', 'source /tmp/virtualenv_envs/mlflow-a33d40a0598223584ba092d96d37c65abed4872b/bin/activate && python -c \"\"']'\n2025/06/09 18:16:13 INFO mlflow.utils.environment: === Running command '['bash', '-c', 'source /tmp/virtualenv_envs/mlflow-a33d40a0598223584ba092d96d37c65abed4872b/bin/activate && python /local_disk0/.ephemeral_nfs/envs/pythonEnv-23b31163-10fe-4763-baaa-9d9b82cbb305/lib/python3.10/site-packages/mlflow/pyfunc/_mlflow_pyfunc_backend_predict.py --model-uri file:///local_disk0/user_tmp_data/spark-23b31163-10fe-4763-baaa-9d/tmpz69ahfch/agent --content-type json --input-path /local_disk0/user_tmp_data/spark-23b31163-10fe-4763-baaa-9d/tmpy7epzck5/input.json']'\nMon Jun  9 18:16:28 2025 Connection to spark from PID  8206\nMon Jun  9 18:16:28 2025 Initialized gateway on port 33781\nMon Jun  9 18:16:29 2025 Connected to spark.\n"
     ]
    },
    {
     "output_type": "stream",
     "name": "stdout",
     "output_type": "stream",
     "text": [
      "{\"messages\": [{\"role\": \"assistant\", \"content\": \"Hello! I'd be happy to help you find places that cater to the needs of pregnant women. To provide you with the best recommendations, could you share some details about what you're looking for? For example:\\n\\n1. What type of place are you interested in? (restaurant, shop, medical center, spa, etc.)\\n2. When would you like to visit? (specific time of day or day of week)\\n3. Where are you located? (zipcode or address for distance calculation)\\n4. Any specific pregnancy-related needs or preferences?\\n\\nOnce you provide these details, I can create a tailored recommendation request for you!\", \"id\": \"run--8e109d6e-c69b-4668-888e-f72694c1ae54-0\"}]}"
     ]
    }
   ],
   "source": [
    "mlflow.models.predict(\n",
    "    model_uri=f\"runs:/{logged_agent_info.run_id}/agent\",\n",
    "    input_data={\"messages\": [{\"role\": \"user\", \"content\": \"Hello!\"}]},\n",
    "    env_manager=\"uv\",\n",
    ")"
   ]
  },
  {
   "cell_type": "markdown",
   "metadata": {
    "application/vnd.databricks.v1+cell": {
     "cellMetadata": {},
     "inputWidgets": {},
     "nuid": "a784fb5b-5d5c-41df-8ff1-2935889c7ea4",
     "showTitle": false,
     "tableResultSettingsMap": {},
     "title": ""
    }
   },
   "source": [
    "## Register the model to Unity Catalog\n",
    "\n",
    "Update the `catalog`, `schema`, and `model_name` below to register the MLflow model to Unity Catalog."
   ]
  },
  {
   "cell_type": "code",
   "execution_count": 0,
   "metadata": {
    "application/vnd.databricks.v1+cell": {
     "cellMetadata": {
      "byteLimit": 2048000,
      "rowLimit": 10000
     },
     "inputWidgets": {},
     "nuid": "b46bdfe8-cfe5-46e5-969c-718c94c37e93",
     "showTitle": false,
     "tableResultSettingsMap": {},
     "title": ""
    }
   },
   "outputs": [
    {
     "output_type": "stream",
     "name": "stderr",
     "output_type": "stream",
     "text": [
      "Successfully registered model 'workspace.default.pregancypal_start_conversation'.\nCreated version '1' of model 'workspace.default.pregancypal_start_conversation'.\n"
     ]
    }
   ],
   "source": [
    "mlflow.set_registry_uri(\"databricks-uc\")\n",
    "\n",
    "# TODO: define the catalog, schema, and model name for your UC model\n",
    "catalog = \"workspace\"\n",
    "schema = \"default\"\n",
    "model_name = \"pregancypal_start_conversation\"\n",
    "UC_MODEL_NAME = f\"{catalog}.{schema}.{model_name}\"\n",
    "\n",
    "# register the model to UC\n",
    "uc_registered_model_info = mlflow.register_model(\n",
    "    model_uri=logged_agent_info.model_uri, name=UC_MODEL_NAME\n",
    ")"
   ]
  },
  {
   "cell_type": "markdown",
   "metadata": {
    "application/vnd.databricks.v1+cell": {
     "cellMetadata": {},
     "inputWidgets": {},
     "nuid": "daf41243-c1e7-4bdc-979c-468889332fc6",
     "showTitle": false,
     "tableResultSettingsMap": {},
     "title": ""
    }
   },
   "source": [
    "## Deploy the agent"
   ]
  },
  {
   "cell_type": "code",
   "execution_count": 0,
   "metadata": {
    "application/vnd.databricks.v1+cell": {
     "cellMetadata": {
      "byteLimit": 2048000,
      "rowLimit": 10000
     },
     "inputWidgets": {},
     "nuid": "22ff3d7c-22d3-4064-ba33-2212ee12b798",
     "showTitle": false,
     "tableResultSettingsMap": {},
     "title": ""
    }
   },
   "outputs": [
    {
     "output_type": "stream",
     "name": "stderr",
     "output_type": "stream",
     "text": [
      "2025/06/09 18:21:35 INFO mlflow.pyfunc: Validating input example against model signature\nSuccessfully registered model 'workspace.default.feedback'.\nCreated version '1' of model 'workspace.default.feedback'.\n"
     ]
    },
    {
     "output_type": "stream",
     "name": "stdout",
     "output_type": "stream",
     "text": [
      "\n    Deployment of workspace.default.pregancypal_start_conversation version 1 initiated.  This can take up to 15 minutes and the Review App & Query Endpoint will not work until this deployment finishes.\n\n    View status: https://dbc-d2dc33b8-a5c3.cloud.databricks.com/ml/endpoints/agents_workspace-default-pregancypal_start_conversation\n    Review App: https://dbc-d2dc33b8-a5c3.cloud.databricks.com/ml/review-v2/ebd6227794554b63ab37990406c2bbb7/chat\n    Monitor: https://dbc-d2dc33b8-a5c3.cloud.databricks.com/ml/experiments/3530709779271609/evaluation-monitoring\n"
     ]
    },
    {
     "output_type": "execute_result",
     "data": {
      "text/plain": [
       "Deployment(model_name='workspace.default.pregancypal_start_conversation', model_version='1', endpoint_name='agents_workspace-default-pregancypal_start_conversation', served_entity_name='workspace-default-pregancypal_start_conversation_1', query_endpoint='https://dbc-d2dc33b8-a5c3.cloud.databricks.com/serving-endpoints/agents_workspace-default-pregancypal_start_conversation/served-models/workspace-default-pregancypal_start_conversation_1/invocations', endpoint_url='https://dbc-d2dc33b8-a5c3.cloud.databricks.com/ml/endpoints/agents_workspace-default-pregancypal_start_conversation', review_app_url='https://dbc-d2dc33b8-a5c3.cloud.databricks.com/ml/review-v2/ebd6227794554b63ab37990406c2bbb7/chat')"
      ]
     },
     "execution_count": 13,
     "metadata": {},
     "output_type": "execute_result"
    }
   ],
   "source": [
    "from databricks import agents\n",
    "agents.deploy(UC_MODEL_NAME, uc_registered_model_info.version, tags = {\"endpointSource\": \"playground\"})"
   ]
  },
  {
   "cell_type": "markdown",
   "metadata": {
    "application/vnd.databricks.v1+cell": {
     "cellMetadata": {},
     "inputWidgets": {},
     "nuid": "0cca0c8f-93be-46e9-b1a1-08cb430ee658",
     "showTitle": false,
     "tableResultSettingsMap": {},
     "title": ""
    }
   },
   "source": [
    "## Next steps\n",
    "\n",
    "After your agent is deployed, you can chat with it in AI playground to perform additional checks, share it with SMEs in your organization for feedback, or embed it in a production application. See [docs](https://docs.databricks.com/generative-ai/deploy-agent.html) for details"
   ]
  }
 ],
 "metadata": {
  "application/vnd.databricks.v1+notebook": {
   "computePreferences": null,
   "dashboards": [],
   "environmentMetadata": null,
   "inputWidgetPreferences": null,
   "language": "python",
   "notebookMetadata": {
    "pythonIndentUnit": 4
   },
   "notebookName": "orchestration-driver",
   "widgets": {}
  },
  "language_info": {
   "name": "python"
  }
 },
 "nbformat": 4,
 "nbformat_minor": 0
}