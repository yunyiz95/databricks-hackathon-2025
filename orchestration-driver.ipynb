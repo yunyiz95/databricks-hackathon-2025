{
 "cells": [
  {
   "cell_type": "markdown",
   "metadata": {
    "application/vnd.databricks.v1+cell": {
     "cellMetadata": {},
     "inputWidgets": {},
     "nuid": "67c9cbdc-17d3-4393-86de-afef4cc5ab84",
     "showTitle": false,
     "tableResultSettingsMap": {},
     "title": ""
    }
   },
   "source": [
    "#Tool-calling Agent\n",
    "\n",
    "This is an auto-generated notebook created by an AI Playground export.\n",
    "\n",
    "This notebook uses [Mosaic AI Agent Framework](https://docs.databricks.com/generative-ai/agent-framework/build-genai-apps.html) to recreate your agent from the AI Playground. It  demonstrates how to develop, manually test, evaluate, log, and deploy a tool-calling agent in LangGraph.\n",
    "\n",
    "The agent code implements [MLflow's ChatAgent](https://mlflow.org/docs/latest/python_api/mlflow.pyfunc.html#mlflow.pyfunc.ChatAgent) interface, a Databricks-recommended open-source standard that simplifies authoring multi-turn conversational agents, and is fully compatible with Mosaic AI agent framework functionality.\n",
    "\n",
    " **_NOTE:_**  This notebook uses LangChain, but AI Agent Framework is compatible with any agent authoring framework, including LlamaIndex or pure Python agents written with the OpenAI SDK.\n",
    "\n",
    "## Prerequisites\n",
    "\n",
    "- Address all `TODO`s in this notebook."
   ]
  },
  {
   "cell_type": "code",
   "execution_count": 0,
   "metadata": {
    "application/vnd.databricks.v1+cell": {
     "cellMetadata": {
      "byteLimit": 2048000,
      "rowLimit": 10000
     },
     "inputWidgets": {},
     "nuid": "fe6cdeeb-bcb8-415e-9960-3600c30a1de9",
     "showTitle": false,
     "tableResultSettingsMap": {},
     "title": ""
    }
   },
   "outputs": [
    {
     "output_type": "stream",
     "name": "stdout",
     "output_type": "stream",
     "text": [
      "ERROR: pip's dependency resolver does not currently take into account all the packages that are installed. This behaviour is the source of the following dependency conflicts.\njupyter-server 1.23.4 requires anyio<4,>=3.1.0, but you have anyio 4.9.0 which is incompatible.\n\u001B[43mNote: you may need to restart the kernel using %restart_python or dbutils.library.restartPython() to use updated packages.\u001B[0m\nCollecting langchain-nimble\n  Downloading langchain_nimble-0.1.3-py3-none-any.whl (4.4 kB)\nCollecting langchain-openai\n  Downloading langchain_openai-0.3.21-py3-none-any.whl (65 kB)\n     ━━━━━━━━━━━━━━━━━━━━━━━━━━━━━━━━━━━━━━━━ 65.2/65.2 kB 3.1 MB/s eta 0:00:00\nRequirement already satisfied: langchain-core<0.4.0,>=0.3.15 in /local_disk0/.ephemeral_nfs/envs/pythonEnv-2df8a1ff-30ef-4a77-8d72-b9b8d8818ed8/lib/python3.10/site-packages (from langchain-nimble) (0.3.64)\nRequirement already satisfied: tiktoken<1,>=0.7 in /local_disk0/.ephemeral_nfs/envs/pythonEnv-2df8a1ff-30ef-4a77-8d72-b9b8d8818ed8/lib/python3.10/site-packages (from langchain-openai) (0.9.0)\nCollecting openai<2.0.0,>=1.68.2\n  Downloading openai-1.85.0-py3-none-any.whl (730 kB)\n     ━━━━━━━━━━━━━━━━━━━━━━━━━━━━━━━━━━━━━━━ 730.2/730.2 kB 8.4 MB/s eta 0:00:00\nRequirement already satisfied: langsmith<0.4,>=0.3.45 in /local_disk0/.ephemeral_nfs/envs/pythonEnv-2df8a1ff-30ef-4a77-8d72-b9b8d8818ed8/lib/python3.10/site-packages (from langchain-core<0.4.0,>=0.3.15->langchain-nimble) (0.3.45)\nRequirement already satisfied: PyYAML>=5.3 in /local_disk0/.ephemeral_nfs/envs/pythonEnv-2df8a1ff-30ef-4a77-8d72-b9b8d8818ed8/lib/python3.10/site-packages (from langchain-core<0.4.0,>=0.3.15->langchain-nimble) (6.0.2)\nRequirement already satisfied: typing-extensions>=4.7 in /local_disk0/.ephemeral_nfs/envs/pythonEnv-2df8a1ff-30ef-4a77-8d72-b9b8d8818ed8/lib/python3.10/site-packages (from langchain-core<0.4.0,>=0.3.15->langchain-nimble) (4.14.0)\nRequirement already satisfied: tenacity!=8.4.0,<10.0.0,>=8.1.0 in /local_disk0/.ephemeral_nfs/envs/pythonEnv-2df8a1ff-30ef-4a77-8d72-b9b8d8818ed8/lib/python3.10/site-packages (from langchain-core<0.4.0,>=0.3.15->langchain-nimble) (9.1.2)\nRequirement already satisfied: jsonpatch<2.0,>=1.33 in /local_disk0/.ephemeral_nfs/envs/pythonEnv-2df8a1ff-30ef-4a77-8d72-b9b8d8818ed8/lib/python3.10/site-packages (from langchain-core<0.4.0,>=0.3.15->langchain-nimble) (1.33)\nRequirement already satisfied: packaging<25,>=23.2 in /databricks/python3/lib/python3.10/site-packages (from langchain-core<0.4.0,>=0.3.15->langchain-nimble) (23.2)\nRequirement already satisfied: pydantic>=2.7.4 in /local_disk0/.ephemeral_nfs/envs/pythonEnv-2df8a1ff-30ef-4a77-8d72-b9b8d8818ed8/lib/python3.10/site-packages (from langchain-core<0.4.0,>=0.3.15->langchain-nimble) (2.11.5)\nRequirement already satisfied: distro<2,>=1.7.0 in /usr/lib/python3/dist-packages (from openai<2.0.0,>=1.68.2->langchain-openai) (1.7.0)\nRequirement already satisfied: tqdm>4 in /local_disk0/.ephemeral_nfs/envs/pythonEnv-2df8a1ff-30ef-4a77-8d72-b9b8d8818ed8/lib/python3.10/site-packages (from openai<2.0.0,>=1.68.2->langchain-openai) (4.67.1)\nRequirement already satisfied: anyio<5,>=3.5.0 in /local_disk0/.ephemeral_nfs/envs/pythonEnv-2df8a1ff-30ef-4a77-8d72-b9b8d8818ed8/lib/python3.10/site-packages (from openai<2.0.0,>=1.68.2->langchain-openai) (4.9.0)\nRequirement already satisfied: sniffio in /databricks/python3/lib/python3.10/site-packages (from openai<2.0.0,>=1.68.2->langchain-openai) (1.2.0)\nRequirement already satisfied: httpx<1,>=0.23.0 in /local_disk0/.ephemeral_nfs/envs/pythonEnv-2df8a1ff-30ef-4a77-8d72-b9b8d8818ed8/lib/python3.10/site-packages (from openai<2.0.0,>=1.68.2->langchain-openai) (0.28.1)\nCollecting jiter<1,>=0.4.0\n  Downloading jiter-0.10.0-cp310-cp310-manylinux_2_17_x86_64.manylinux2014_x86_64.whl (352 kB)\n     ━━━━━━━━━━━━━━━━━━━━━━━━━━━━━━━━━━━━━━ 352.5/352.5 kB 10.8 MB/s eta 0:00:00\nRequirement already satisfied: requests>=2.26.0 in /local_disk0/.ephemeral_nfs/envs/pythonEnv-2df8a1ff-30ef-4a77-8d72-b9b8d8818ed8/lib/python3.10/site-packages (from tiktoken<1,>=0.7->langchain-openai) (2.32.4)\nRequirement already satisfied: regex>=2022.1.18 in /local_disk0/.ephemeral_nfs/envs/pythonEnv-2df8a1ff-30ef-4a77-8d72-b9b8d8818ed8/lib/python3.10/site-packages (from tiktoken<1,>=0.7->langchain-openai) (2024.11.6)\nRequirement already satisfied: idna>=2.8 in /databricks/python3/lib/python3.10/site-packages (from anyio<5,>=3.5.0->openai<2.0.0,>=1.68.2->langchain-openai) (3.4)\nRequirement already satisfied: exceptiongroup>=1.0.2 in /local_disk0/.ephemeral_nfs/envs/pythonEnv-2df8a1ff-30ef-4a77-8d72-b9b8d8818ed8/lib/python3.10/site-packages (from anyio<5,>=3.5.0->openai<2.0.0,>=1.68.2->langchain-openai) (1.3.0)\nRequirement already satisfied: httpcore==1.* in /local_disk0/.ephemeral_nfs/envs/pythonEnv-2df8a1ff-30ef-4a77-8d72-b9b8d8818ed8/lib/python3.10/site-packages (from httpx<1,>=0.23.0->openai<2.0.0,>=1.68.2->langchain-openai) (1.0.9)\nRequirement already satisfied: certifi in /databricks/python3/lib/python3.10/site-packages (from httpx<1,>=0.23.0->openai<2.0.0,>=1.68.2->langchain-openai) (2022.12.7)\nRequirement already satisfied: h11>=0.16 in /local_disk0/.ephemeral_nfs/envs/pythonEnv-2df8a1ff-30ef-4a77-8d72-b9b8d8818ed8/lib/python3.10/site-packages (from httpcore==1.*->httpx<1,>=0.23.0->openai<2.0.0,>=1.68.2->langchain-openai) (0.16.0)\nRequirement already satisfied: jsonpointer>=1.9 in /local_disk0/.ephemeral_nfs/envs/pythonEnv-2df8a1ff-30ef-4a77-8d72-b9b8d8818ed8/lib/python3.10/site-packages (from jsonpatch<2.0,>=1.33->langchain-core<0.4.0,>=0.3.15->langchain-nimble) (3.0.0)\nRequirement already satisfied: orjson<4.0.0,>=3.9.14 in /local_disk0/.ephemeral_nfs/envs/pythonEnv-2df8a1ff-30ef-4a77-8d72-b9b8d8818ed8/lib/python3.10/site-packages (from langsmith<0.4,>=0.3.45->langchain-core<0.4.0,>=0.3.15->langchain-nimble) (3.10.18)\nRequirement already satisfied: zstandard<0.24.0,>=0.23.0 in /local_disk0/.ephemeral_nfs/envs/pythonEnv-2df8a1ff-30ef-4a77-8d72-b9b8d8818ed8/lib/python3.10/site-packages (from langsmith<0.4,>=0.3.45->langchain-core<0.4.0,>=0.3.15->langchain-nimble) (0.23.0)\nRequirement already satisfied: requests-toolbelt<2.0.0,>=1.0.0 in /local_disk0/.ephemeral_nfs/envs/pythonEnv-2df8a1ff-30ef-4a77-8d72-b9b8d8818ed8/lib/python3.10/site-packages (from langsmith<0.4,>=0.3.45->langchain-core<0.4.0,>=0.3.15->langchain-nimble) (1.0.0)\nRequirement already satisfied: annotated-types>=0.6.0 in /local_disk0/.ephemeral_nfs/envs/pythonEnv-2df8a1ff-30ef-4a77-8d72-b9b8d8818ed8/lib/python3.10/site-packages (from pydantic>=2.7.4->langchain-core<0.4.0,>=0.3.15->langchain-nimble) (0.7.0)\nRequirement already satisfied: pydantic-core==2.33.2 in /local_disk0/.ephemeral_nfs/envs/pythonEnv-2df8a1ff-30ef-4a77-8d72-b9b8d8818ed8/lib/python3.10/site-packages (from pydantic>=2.7.4->langchain-core<0.4.0,>=0.3.15->langchain-nimble) (2.33.2)\nRequirement already satisfied: typing-inspection>=0.4.0 in /local_disk0/.ephemeral_nfs/envs/pythonEnv-2df8a1ff-30ef-4a77-8d72-b9b8d8818ed8/lib/python3.10/site-packages (from pydantic>=2.7.4->langchain-core<0.4.0,>=0.3.15->langchain-nimble) (0.4.1)\nRequirement already satisfied: charset_normalizer<4,>=2 in /databricks/python3/lib/python3.10/site-packages (from requests>=2.26.0->tiktoken<1,>=0.7->langchain-openai) (2.0.4)\nRequirement already satisfied: urllib3<3,>=1.21.1 in /local_disk0/.ephemeral_nfs/envs/pythonEnv-2df8a1ff-30ef-4a77-8d72-b9b8d8818ed8/lib/python3.10/site-packages (from requests>=2.26.0->tiktoken<1,>=0.7->langchain-openai) (2.4.0)\nInstalling collected packages: jiter, openai, langchain-openai, langchain-nimble\nSuccessfully installed jiter-0.10.0 langchain-nimble-0.1.3 langchain-openai-0.3.21 openai-1.85.0\n\u001B[43mNote: you may need to restart the kernel using %restart_python or dbutils.library.restartPython() to use updated packages.\u001B[0m\n\u001B[43mNote: you may need to restart the kernel using %restart_python or dbutils.library.restartPython() to use updated packages.\u001B[0m\n\u001B[43mNote: you may need to restart the kernel using %restart_python or dbutils.library.restartPython() to use updated packages.\u001B[0m\n\u001B[43mNote: you may need to restart the kernel using %restart_python or dbutils.library.restartPython() to use updated packages.\u001B[0m\n\u001B[43mNote: you may need to restart the kernel using %restart_python or dbutils.library.restartPython() to use updated packages.\u001B[0m\n\u001B[43mNote: you may need to restart the kernel using %restart_python or dbutils.library.restartPython() to use updated packages.\u001B[0m\n"
     ]
    }
   ],
   "source": [
    "%pip install -U -qqqq mlflow langchain langgraph==0.3.4 databricks-langchain pydantic databricks-agents unitycatalog-langchain[databricks] uv\n",
    "%pip install -U langchain-nimble langchain-openai\n",
    "%pip install -U -qqqq mlflow backoff databricks-openai databricks-agents uv\n",
    "%pip install -U -qqqq mlflow databricks-langchain databricks-agents uv langgraph==0.3.4\n",
    "%pip install -U -qqqq langchain_mcp_adapters\n",
    "%pip install -U -qqqq mlflow langchain langgraph==0.3.4 pydantic unitycatalog-langchain[databricks] uv\n",
    "%pip install -U -q openai mlflow databricks-agents\n",
    "%restart_python\n",
    "dbutils.library.restartPython()"
   ]
  },
  {
   "cell_type": "markdown",
   "metadata": {
    "application/vnd.databricks.v1+cell": {
     "cellMetadata": {},
     "inputWidgets": {},
     "nuid": "522c21d8-cdc3-4aee-a32b-2a567017855c",
     "showTitle": false,
     "tableResultSettingsMap": {},
     "title": ""
    }
   },
   "source": [
    "## Define the agent in code\n",
    "Below we define our agent code in a single cell, enabling us to easily write it to a local Python file for subsequent logging and deployment using the `%%writefile` magic command.\n",
    "\n",
    "For more examples of tools to add to your agent, see [docs](https://docs.databricks.com/generative-ai/agent-framework/agent-tool.html)."
   ]
  },
  {
   "cell_type": "markdown",
   "metadata": {
    "application/vnd.databricks.v1+cell": {
     "cellMetadata": {},
     "inputWidgets": {},
     "nuid": "52b78c14-7198-415f-bfe1-d4731d42fc93",
     "showTitle": false,
     "tableResultSettingsMap": {},
     "title": ""
    }
   },
   "source": [
    "## Test the agent\n",
    "\n",
    "Interact with the agent to test its output. Since this notebook called `mlflow.langchain.autolog()` you can view the trace for each step the agent takes.\n",
    "\n",
    "Replace this placeholder input with an appropriate domain-specific example for your agent."
   ]
  },
  {
   "cell_type": "code",
   "execution_count": 0,
   "metadata": {
    "application/vnd.databricks.v1+cell": {
     "cellMetadata": {
      "byteLimit": 2048000,
      "rowLimit": 10000
     },
     "inputWidgets": {},
     "nuid": "0d08545f-ee5d-4f82-a6be-77023afe0996",
     "showTitle": false,
     "tableResultSettingsMap": {},
     "title": ""
    }
   },
   "outputs": [],
   "source": [
    "dbutils.library.restartPython()"
   ]
  },
  {
   "cell_type": "code",
   "execution_count": 0,
   "metadata": {
    "application/vnd.databricks.v1+cell": {
     "cellMetadata": {
      "byteLimit": 2048000,
      "rowLimit": 10000
     },
     "inputWidgets": {},
     "nuid": "9b0bfe29-10fe-4461-beee-74e6bfdd11f1",
     "showTitle": false,
     "tableResultSettingsMap": {},
     "title": ""
    }
   },
   "outputs": [],
   "source": [
    "from typing import TypedDict, Optional\n",
    "from langgraph.graph import StateGraph, END\n",
    "from langchain_core.runnables import RunnableLambda\n",
    "from langchain_core.messages import AIMessage\n",
    "\n",
    "# === STEP 1: Load your agent1 (tool-calling LangGraphChatAgent) ===\n",
    "from agent1 import agent as agent1_graph  # already compiled in agent1.py\n",
    "\n",
    "# === STEP 2: Load your agent2 (ReAct agent created using create_react_agent) ===\n",
    "from agent2 import load_agent\n",
    "agent2_react = await load_agent()\n",
    "# from agent2 import agent as agent2_react  # agent2.py exports a create_react_agent\n",
    "\n",
    "# === STEP 3: Define shared state ===\n",
    "class AgentState(TypedDict):\n",
    "    user_input: str\n",
    "    prompt_query: Optional[str]\n",
    "    final_output: Optional[str]\n",
    "\n",
    "# === STEP 4: Wrap agent1 execution as a node ===\n",
    "def run_agent1(state: AgentState) -> AgentState:\n",
    "    print(\"[Agent 1] Running tool-calling agent to generate structured query...\")\n",
    "    response = agent1_graph.invoke({\"messages\": [{\"role\": \"user\", \"content\": state[\"user_input\"]}]})\n",
    "    extracted_message = response[\"messages\"][-1][\"content\"]\n",
    "    print(\"Based on your requirement: here's the summary and your intelligent assistant will start to generate recommendations for you!\")\n",
    "    print(extracted_message)\n",
    "    return {\"user_input\": state[\"user_input\"], \"prompt_query\": extracted_message}\n",
    "\n",
    "# === STEP 5: Wrap agent2 execution as a node ===\n",
    "async def run_agent2(state: AgentState) -> AgentState:\n",
    "    print(\"Running a google map live search using Nimble to find recommendations based on user requirements:\")\n",
    "    response = await agent2_react.ainvoke({\n",
    "        \"messages\": f\"Find information about: {state['user_input']}. Provide a concise summary.\"\n",
    "    })\n",
    "\n",
    "    messages = response.get(\"messages\", [])\n",
    "    ai_responses = [msg for msg in messages if isinstance(msg, AIMessage)]\n",
    "\n",
    "    if ai_responses:\n",
    "        print(\"✅ Latest AI Message:\\n\")\n",
    "        print(ai_responses[-1].content)\n",
    "    else:\n",
    "        print(\"⚠️ No AIMessage found.\")\n",
    "\n",
    "\n",
    "    return {\n",
    "        \"user_input\": state[\"user_input\"],\n",
    "        # \"prompt_query\": state[\"prompt_query\"],\n",
    "        \"final_output\": ai_responses[-1].content\n",
    "    }\n",
    "\n",
    "# === STEP 6: Build LangGraph chain ===\n",
    "builder = StateGraph(AgentState)\n",
    "builder.add_node(\"ParseQueryWithAgent1\", RunnableLambda(run_agent1))\n",
    "builder.add_node(\"ExecuteSearchWithAgent2\", RunnableLambda(run_agent2))\n",
    "\n",
    "builder.set_entry_point(\"ParseQueryWithAgent1\")\n",
    "builder.add_edge(\"ParseQueryWithAgent1\", \"ExecuteSearchWithAgent2\")\n",
    "builder.add_edge(\"ExecuteSearchWithAgent2\", END)\n",
    "\n",
    "graph = builder.compile()\n"
   ]
  },
  {
   "cell_type": "code",
   "execution_count": 0,
   "metadata": {
    "application/vnd.databricks.v1+cell": {
     "cellMetadata": {
      "byteLimit": 2048000,
      "rowLimit": 10000
     },
     "inputWidgets": {},
     "nuid": "8550d075-3960-44ae-86df-9b54f0f1ac73",
     "showTitle": false,
     "tableResultSettingsMap": {},
     "title": ""
    }
   },
   "outputs": [
    {
     "output_type": "stream",
     "name": "stdout",
     "output_type": "stream",
     "text": [
      "[Agent 1] Running tool-calling agent to generate structured query...\nBased on your requirement: here's the summary and your intelligent assistant will start to generate recommendations for you!\nBased on your request, here's the outline for your needs:\n\n**Recommendation Request:**\n\"Recommend me top 3 brunch restaurants within 3 miles of downtown LA, available after 11:00 AM, specializing in pregnancy-safe Mexican cuisine or with the highest pregnancy food safety ratings.\"\n\n**Detailed Breakdown:**\n\n1. **Time Requirement:** After 11:00 AM (allowing time for your 10:00 AM clinic appointment)\n\n2. **Location Requirement:** Within 3 miles of downtown Los Angeles, CA\n\n3. **Place Type:** Restaurant (brunch-focused)\n\n4. **Other Requirements:** \n   - Pregnancy-safe food options (avoiding high-mercury fish, unpasteurized cheeses, undercooked meats)\n   - Mexican cuisine preferred, or restaurants with strong pregnancy-friendly menu options\n   - Establishments with high food safety standards suitable for 33-week pregnancy stage\n   - Comfortable seating and atmosphere for expectant mothers\n\nThis will help you find suitable brunch spots near your clinic that cater to your dietary needs during your third trimester while offering the Mexican flavors you're craving.\nRunning a google map live search using Nimble to find recommendations based on user requirements:\n✅ Latest AI Message:\n\nPerfect! Now I have comprehensive information about both clinics and brunch options in downtown LA. Let me provide you with a concise summary of your options.\n\n## **Concise Summary: Clinics & Brunch Options in Downtown LA**\n\n### **\uD83C\uDFE5 TOP CLINIC RECOMMENDATIONS (Open at 10am)**\n\n**1. Universal Community Health Center** ⭐ 4.7/5 (278 reviews)\n- **Address:** 1005 E Washington Blvd, Suite A\n- **Hours:** 7:30 AM–4:30 PM (Perfect for your 10am appointment)\n- **Special:** Offers free/low-cost care, wheelchair accessible\n\n**2. One Medical Primary Clinic - Downtown LA** ⭐ 4.2/5 (49 reviews)\n- **Address:** 700 Flower St #2340\n- **Hours:** 8 AM–5 PM\n- **Special:** Modern clinic, appointments recommended\n\n**3. Angeles Medical Clinic** ⭐ 4.4/5 (117 reviews)\n- **Address:** 204 E Pico Blvd\n- **Hours:** 9 AM–5 PM\n- **Special:** Multiple specialties, accepts walk-ins\n\n---\n\n### **\uD83E\uDD5E TOP BRUNCH RECOMMENDATIONS (Pregnancy-Safe & Mexican Options)**\n\n#### **PREGNANCY-SAFE BRUNCH SPOTS:**\n\n**1. Poppy + Rose** ⭐ 4.3/5 (1,274 reviews)\n- **Address:** 765 Wall St\n- **Hours:** 9 AM–3 PM daily\n- **Special:** Known for healthy options, great coffee, family-friendly\n\n**2. Bottega Louie** ⭐ 4.5/5 (7,274 reviews)\n- **Address:** 700 S Grand Ave\n- **Hours:** 7 AM–10 PM\n- **Special:** Italian café with pastries, healthy options, beautiful setting\n\n**3. Blu Jam Cafe** ⭐ 4.3/5 (1,552 reviews)\n- **Address:** 541 S Spring St #110\n- **Hours:** 9 AM–2 PM (weekdays), 9 AM–3 PM (weekends)\n- **Special:** Sustainable ingredients, organic dishes, vegetarian options\n\n#### **MEXICAN BRUNCH OPTIONS:**\n\n**1. El Cholo** ⭐ 4.3/5 (2,170 reviews)\n- **Address:** 1037 Flower St\n- **Hours:** 11 AM–9 PM\n- **Special:** Historic LA institution since 1920s, serves brunch, great margaritas\n\n**2. Pez Cantina** ⭐ 4.2/5 (1,074 reviews)\n- **Address:** 401 S Grand Ave\n- **Hours:** 11:30 AM–8 PM\n- **Special:** Coastal-Mexican menu, rooftop seating, family-friendly\n\n**3. Sol Agave LA LIVE** ⭐ 4.5/5 (744 reviews)\n- **Address:** 800 W Olympic Blvd\n- **Hours:** 11 AM–10 PM\n- **Special:** Serves breakfast/brunch, great cocktails, outdoor seating\n\n---\n\n### **\uD83D\uDCA1 RECOMMENDATIONS FOR YOUR DAY:**\n\n**Best Clinic Choice:** Universal Community Health Center (opens early, excellent ratings, comprehensive care)\n\n**Best Post-Appointment Brunch:** \n- **For pregnancy-safe:** Poppy + Rose (healthy options, great atmosphere)\n- **For Mexican:** El Cholo (classic LA experience, serves brunch)\n\n**Timing:** Both clinics and restaurants are within walking distance or short ride from each other in downtown LA, making your day convenient and enjoyable!\n\nAll locations are wheelchair accessible and offer various payment options. The Mexican restaurants mentioned serve pregnancy-safe options like well-cooked meats, fresh vegetables, and can accommodate dietary restrictions.\nPerfect! Now I have comprehensive information about both clinics and brunch options in downtown LA. Let me provide you with a concise summary of your options.\n\n## **Concise Summary: Clinics & Brunch Options in Downtown LA**\n\n### **\uD83C\uDFE5 TOP CLINIC RECOMMENDATIONS (Open at 10am)**\n\n**1. Universal Community Health Center** ⭐ 4.7/5 (278 reviews)\n- **Address:** 1005 E Washington Blvd, Suite A\n- **Hours:** 7:30 AM–4:30 PM (Perfect for your 10am appointment)\n- **Special:** Offers free/low-cost care, wheelchair accessible\n\n**2. One Medical Primary Clinic - Downtown LA** ⭐ 4.2/5 (49 reviews)\n- **Address:** 700 Flower St #2340\n- **Hours:** 8 AM–5 PM\n- **Special:** Modern clinic, appointments recommended\n\n**3. Angeles Medical Clinic** ⭐ 4.4/5 (117 reviews)\n- **Address:** 204 E Pico Blvd\n- **Hours:** 9 AM–5 PM\n- **Special:** Multiple specialties, accepts walk-ins\n\n---\n\n### **\uD83E\uDD5E TOP BRUNCH RECOMMENDATIONS (Pregnancy-Safe & Mexican Options)**\n\n#### **PREGNANCY-SAFE BRUNCH SPOTS:**\n\n**1. Poppy + Rose** ⭐ 4.3/5 (1,274 reviews)\n- **Address:** 765 Wall St\n- **Hours:** 9 AM–3 PM daily\n- **Special:** Known for healthy options, great coffee, family-friendly\n\n**2. Bottega Louie** ⭐ 4.5/5 (7,274 reviews)\n- **Address:** 700 S Grand Ave\n- **Hours:** 7 AM–10 PM\n- **Special:** Italian café with pastries, healthy options, beautiful setting\n\n**3. Blu Jam Cafe** ⭐ 4.3/5 (1,552 reviews)\n- **Address:** 541 S Spring St #110\n- **Hours:** 9 AM–2 PM (weekdays), 9 AM–3 PM (weekends)\n- **Special:** Sustainable ingredients, organic dishes, vegetarian options\n\n#### **MEXICAN BRUNCH OPTIONS:**\n\n**1. El Cholo** ⭐ 4.3/5 (2,170 reviews)\n- **Address:** 1037 Flower St\n- **Hours:** 11 AM–9 PM\n- **Special:** Historic LA institution since 1920s, serves brunch, great margaritas\n\n**2. Pez Cantina** ⭐ 4.2/5 (1,074 reviews)\n- **Address:** 401 S Grand Ave\n- **Hours:** 11:30 AM–8 PM\n- **Special:** Coastal-Mexican menu, rooftop seating, family-friendly\n\n**3. Sol Agave LA LIVE** ⭐ 4.5/5 (744 reviews)\n- **Address:** 800 W Olympic Blvd\n- **Hours:** 11 AM–10 PM\n- **Special:** Serves breakfast/brunch, great cocktails, outdoor seating\n\n---\n\n### **\uD83D\uDCA1 RECOMMENDATIONS FOR YOUR DAY:**\n\n**Best Clinic Choice:** Universal Community Health Center (opens early, excellent ratings, comprehensive care)\n\n**Best Post-Appointment Brunch:** \n- **For pregnancy-safe:** Poppy + Rose (healthy options, great atmosphere)\n- **For Mexican:** El Cholo (classic LA experience, serves brunch)\n\n**Timing:** Both clinics and restaurants are within walking distance or short ride from each other in downtown LA, making your day convenient and enjoyable!\n\nAll locations are wheelchair accessible and offer various payment options. The Mexican restaurants mentioned serve pregnancy-safe options like well-cooked meats, fresh vegetables, and can accommodate dietary restrictions.\n"
     ]
    },
    {
     "output_type": "display_data",
     "data": {
      "application/databricks.mlflow.trace": "[\"tr-761922e9361344128f82955cb2e5b7b4\", \"tr-55ae4a03500543679803b539fc887bdc\", \"tr-407cdf4d57bd4f32b9832e3f60c02bb1\"]",
      "text/plain": [
       "[Trace(request_id=tr-761922e9361344128f82955cb2e5b7b4), Trace(request_id=tr-55ae4a03500543679803b539fc887bdc), Trace(request_id=tr-407cdf4d57bd4f32b9832e3f60c02bb1)]"
      ]
     },
     "metadata": {},
     "output_type": "display_data"
    }
   ],
   "source": [
    "user_input = \"\"\"\n",
    "I'm 33 weeks pregnant, staying in downtown LA. I need to visit a clinic at 10am, and afterward, I’d love to have brunch nearby — maybe pregnancy-safe or Mexican food.\n",
    "\"\"\"\n",
    "\n",
    "result = await graph.ainvoke({\"user_input\": user_input})\n",
    "print(result[\"final_output\"])\n"
   ]
  },
  {
   "cell_type": "code",
   "execution_count": 0,
   "metadata": {
    "application/vnd.databricks.v1+cell": {
     "cellMetadata": {},
     "inputWidgets": {},
     "nuid": "bbc1c649-eb21-4576-9f67-7edc6ad3f2d6",
     "showTitle": false,
     "tableResultSettingsMap": {},
     "title": ""
    }
   },
   "outputs": [],
   "source": []
  },
  {
   "cell_type": "code",
   "execution_count": 0,
   "metadata": {
    "application/vnd.databricks.v1+cell": {
     "cellMetadata": {},
     "inputWidgets": {},
     "nuid": "fb643354-d015-47eb-83c3-b980090434bc",
     "showTitle": false,
     "tableResultSettingsMap": {},
     "title": ""
    }
   },
   "outputs": [],
   "source": []
  },
  {
   "cell_type": "code",
   "execution_count": 0,
   "metadata": {
    "application/vnd.databricks.v1+cell": {
     "cellMetadata": {},
     "inputWidgets": {},
     "nuid": "b67a9a07-1fce-4e44-a215-d5f58b96c3ee",
     "showTitle": false,
     "tableResultSettingsMap": {},
     "title": ""
    }
   },
   "outputs": [],
   "source": []
  },
  {
   "cell_type": "markdown",
   "metadata": {
    "application/vnd.databricks.v1+cell": {
     "cellMetadata": {},
     "inputWidgets": {},
     "nuid": "99181a7a-8e67-48a3-8014-5ace28edb442",
     "showTitle": false,
     "tableResultSettingsMap": {},
     "title": ""
    }
   },
   "source": [
    "To Be Continued"
   ]
  },
  {
   "cell_type": "markdown",
   "metadata": {
    "application/vnd.databricks.v1+cell": {
     "cellMetadata": {},
     "inputWidgets": {},
     "nuid": "f002429e-7bde-4248-9b89-630e463adf2f",
     "showTitle": false,
     "tableResultSettingsMap": {},
     "title": ""
    }
   },
   "source": [
    "### Log the `agent` as an MLflow model\n",
    "Determine Databricks resources to specify for automatic auth passthrough at deployment time\n",
    "- **TODO**: If your Unity Catalog Function queries a [vector search index](https://docs.databricks.com/generative-ai/agent-framework/unstructured-retrieval-tools.html) or leverages [external functions](https://docs.databricks.com/generative-ai/agent-framework/external-connection-tools.html), you need to include the dependent vector search index and UC connection objects, respectively, as resources. See [docs](https://docs.databricks.com/generative-ai/agent-framework/log-agent.html#specify-resources-for-automatic-authentication-passthrough) for more details.\n",
    "\n",
    "Log the agent as code from the `agent.py` file. See [MLflow - Models from Code](https://mlflow.org/docs/latest/models.html#models-from-code)."
   ]
  },
  {
   "cell_type": "markdown",
   "metadata": {
    "application/vnd.databricks.v1+cell": {
     "cellMetadata": {},
     "inputWidgets": {},
     "nuid": "7608f8d5-9f1b-44e9-9fb1-1175a6f668cc",
     "showTitle": false,
     "tableResultSettingsMap": {},
     "title": ""
    }
   },
   "source": [
    "## Evaluate the agent with [Agent Evaluation](https://docs.databricks.com/generative-ai/agent-evaluation/index.html)\n",
    "\n",
    "You can edit the requests or expected responses in your evaluation dataset and run evaluation as you iterate your agent, leveraging mlflow to track the computed quality metrics.\n",
    "\n",
    "To evaluate your tool calls, try adding [custom metrics](https://docs.databricks.com/generative-ai/agent-evaluation/custom-metrics.html#evaluating-tool-calls)."
   ]
  },
  {
   "cell_type": "markdown",
   "metadata": {
    "application/vnd.databricks.v1+cell": {
     "cellMetadata": {},
     "inputWidgets": {},
     "nuid": "823aba1f-9906-412a-8688-ce23298eb68c",
     "showTitle": false,
     "tableResultSettingsMap": {},
     "title": ""
    }
   },
   "source": [
    "## Perform pre-deployment validation of the agent\n",
    "Before registering and deploying the agent, we perform pre-deployment checks via the [mlflow.models.predict()](https://mlflow.org/docs/latest/python_api/mlflow.models.html#mlflow.models.predict) API. See [documentation](https://docs.databricks.com/machine-learning/model-serving/model-serving-debug.html#validate-inputs) for details"
   ]
  },
  {
   "cell_type": "markdown",
   "metadata": {
    "application/vnd.databricks.v1+cell": {
     "cellMetadata": {},
     "inputWidgets": {},
     "nuid": "a784fb5b-5d5c-41df-8ff1-2935889c7ea4",
     "showTitle": false,
     "tableResultSettingsMap": {},
     "title": ""
    }
   },
   "source": [
    "## Register the model to Unity Catalog\n",
    "\n",
    "Update the `catalog`, `schema`, and `model_name` below to register the MLflow model to Unity Catalog."
   ]
  },
  {
   "cell_type": "markdown",
   "metadata": {
    "application/vnd.databricks.v1+cell": {
     "cellMetadata": {},
     "inputWidgets": {},
     "nuid": "daf41243-c1e7-4bdc-979c-468889332fc6",
     "showTitle": false,
     "tableResultSettingsMap": {},
     "title": ""
    }
   },
   "source": [
    "## Deploy the agent"
   ]
  },
  {
   "cell_type": "markdown",
   "metadata": {
    "application/vnd.databricks.v1+cell": {
     "cellMetadata": {},
     "inputWidgets": {},
     "nuid": "0cca0c8f-93be-46e9-b1a1-08cb430ee658",
     "showTitle": false,
     "tableResultSettingsMap": {},
     "title": ""
    }
   },
   "source": [
    "## Next steps\n",
    "\n",
    "After your agent is deployed, you can chat with it in AI playground to perform additional checks, share it with SMEs in your organization for feedback, or embed it in a production application. See [docs](https://docs.databricks.com/generative-ai/deploy-agent.html) for details"
   ]
  }
 ],
 "metadata": {
  "application/vnd.databricks.v1+notebook": {
   "computePreferences": null,
   "dashboards": [],
   "environmentMetadata": null,
   "inputWidgetPreferences": null,
   "language": "python",
   "notebookMetadata": {
    "pythonIndentUnit": 4
   },
   "notebookName": "orchestration-driver",
   "widgets": {}
  },
  "language_info": {
   "name": "python"
  }
 },
 "nbformat": 4,
 "nbformat_minor": 0
}